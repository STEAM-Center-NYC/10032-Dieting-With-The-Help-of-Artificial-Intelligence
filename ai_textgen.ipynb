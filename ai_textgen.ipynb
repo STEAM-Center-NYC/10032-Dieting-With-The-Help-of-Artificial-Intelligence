{
 "cells": [
  {
   "cell_type": "code",
<<<<<<< HEAD
   "execution_count": 7,
=======
   "execution_count": 1,
>>>>>>> 6297944 (7)
   "metadata": {},
   "outputs": [
    {
     "name": "stderr",
     "output_type": "stream",
     "text": [
      "/Users/ECU/Library/Python/3.9/lib/python/site-packages/tqdm/auto.py:22: TqdmWarning: IProgress not found. Please update jupyter and ipywidgets. See https://ipywidgets.readthedocs.io/en/stable/user_install.html\n",
      "  from .autonotebook import tqdm as notebook_tqdm\n",
      "Generate config GenerationConfig {\n",
      "  \"bos_token_id\": 50256,\n",
      "  \"eos_token_id\": 50256,\n",
      "  \"transformers_version\": \"4.26.1\"\n",
      "}\n",
      "\n",
      "loading configuration file generation_config.json from cache at aitextgen/models--gpt2/snapshots/e7da7f221d5bf496a48136c0cd264e630fe9fcc8/generation_config.json\n",
      "Generate config GenerationConfig {\n",
      "  \"_from_model_config\": true,\n",
      "  \"bos_token_id\": 50256,\n",
      "  \"eos_token_id\": 50256,\n",
      "  \"transformers_version\": \"4.26.1\"\n",
      "}\n",
      "\n"
     ]
    }
   ],
   "source": [
    "from aitextgen import aitextgen\n",
    "ai = aitextgen(model='gpt2')"
   ]
  },
  {
   "cell_type": "code",
<<<<<<< HEAD
   "execution_count": 8,
=======
   "execution_count": 2,
>>>>>>> 6297944 (7)
   "metadata": {},
   "outputs": [
    {
     "name": "stderr",
     "output_type": "stream",
     "text": [
      "Generate config GenerationConfig {\n",
      "  \"bos_token_id\": 50256,\n",
      "  \"eos_token_id\": 50256,\n",
      "  \"transformers_version\": \"4.26.1\"\n",
      "}\n",
      "\n"
     ]
    },
    {
     "name": "stdout",
     "output_type": "stream",
     "text": [
      "\u001b[1mIndian government\u001b[0m's first attempt to introduce a bill to legalize marijuana. The act was not adopted by the state legislature.\n",
      "\n",
      "The bill was eventually approved by the state legislature in May after a petition signed by more than 100,000 people. It was sponsored by state Sen. Chris LeBeau, D-Fort Worth, who said the bill was needed to prevent the spread of the drug in schools.\n",
      "\n",
      "LeBeau said the bill would allow medical marijuana dispensaries in cities like Austin, Austin's biggest city. He said it would not be in line with the federal government's stance on marijuana legalization.\n",
      "\n",
      "\"This is the first time we're going to be looking at that in terms of having something that's legal in Colorado,\" he said.\n",
      "\n",
      "LeBeau said that with the legalization of marijuana, people would be able to purchase their marijuana in private stores and dispensaries.\n",
      "\n",
      "But he said it would be too late for the state to get on board with the bill.\n",
      "\n",
      "\"It is very clear, if you are in a state that is already legalized, you will be not able to buy that for yourself in a dispensary,\" LeBeau said. \"What is a federal right and what is not, is that you will be able to sell it to the federal government. And if you're a state that has no right, then you will be able to do that.\"\n",
      "\n",
      "LeBeau said that because the bill has passed the state legislature, it was decided that it was time for it to be put to a vote.\n",
      "\n",
      "\"We are going to get it passed, and that's why it's here,\" LeBeau said.\n",
      "==========\n",
      "\u001b[1mIndian government\u001b[0m and a government-sponsored, state-funded health centre in the city of Chittagong.\n",
      "\n",
      "The hospital, run by the State Health Department, has a budget of $17.5 million, but the main focus of the hospital is to treat patients from impoverished families, who are often under the poverty line.\n",
      "\n",
      "The government says it will provide $10 million in subsidies to help families who have been affected by the earthquake.\n",
      "\n",
      "The Health Ministry says the hospitals are in the best condition and are operating at a level of safety and efficiency that was previously expected, but could deteriorate as more people are affected.\n",
      "\n",
      "But the government says the government will not provide any additional funding in return for the assistance.\n",
      "None\n"
     ]
    }
   ],
   "source": [
    "print(ai.generate(n=2,\n",
    "                  prompt= 'Indian government' ,\n",
    "                  max_length = 350,\n",
    "                  temperature = 0.7,\n",
    "                  do_sample = True,\n",
    "                  return_as_list = False,\n",
    "                  seed = 42\n",
    "                  ))"
   ]
  },
  {
   "cell_type": "code",
<<<<<<< HEAD
   "execution_count": 9,
=======
   "execution_count": 3,
>>>>>>> 6297944 (7)
   "metadata": {},
   "outputs": [
    {
     "name": "stderr",
     "output_type": "stream",
     "text": [
      "Generate config GenerationConfig {\n",
      "  \"bos_token_id\": 50256,\n",
      "  \"eos_token_id\": 50256,\n",
      "  \"transformers_version\": \"4.26.1\"\n",
      "}\n",
      "\n",
      "A decoder-only architecture is being used, but right-padding was detected! For correct generation results, please set `padding_side='left'` when initializing the tokenizer.\n"
     ]
    },
    {
     "name": "stdout",
     "output_type": "stream",
     "text": [
      "\"For me, the hardest thing was trying to understand why I was not doing what I was doing at all. There's no one else who would think I was doing it.\"\n",
      "\n",
      "The question was posed to him by his mother, who was pregnant with his son before he was born.\n",
      "\n",
      "He said: \"The reason you're not doing what you were doing at all was because you wanted to die. You were trying to be a part of the world. You wanted to be a part of people. You wanted to know who you were, what you were doing and where you came from.\n",
      "\n",
      "\"So you got into an argument with your mother and she said: 'That's not what you're doing.' I said: 'No-no, it's not what you were doing, you're doing it to escape the world and to help others that need it – for me, the hardest thing was trying to understand why I was not doing what I was doing at all. There's no one else who would think I was doing it.\"\n",
      "==========\n",
      "Categories Categories Select Category Aime & Music History/Drama Dancer Dancing Dancer Dance Performances Fiction Documentary Documentary Documentary Drama Drama Drama/Fantasy Fiction Fiction/Graphic Novels/Movies/TV Shows/Music Musical Music Music/Oscars Movies Music/Oscars Music/Oscars Music/Oscars Music/Oscars Music/Oscars Music/Oscars Music/Oscars Music/Oscars Music/Oscars Music/Oscars Music/Oscars Music/Oscars Music/Oscars Music/Oscars Music/Oscars Music/Oscars Music/Oscars Music/Oscars Music/Oscars Music/Oscars Music/Oscars Music/Oscars Music/Oscars Music/Oscars Music/Oscars Music/Oscars Music/Oscars Music/Oscars Music/Oscars Music/Oscars Music/Oscars Music/Oscars Music/Oscars Music/Oscars Music/Oscars Music/Oscars Music/Oscars Music/Oscars Music/Oscars Music/Oscars Music/Oscars Music/Oscars Music/Oscars Music/Oscars Music/Oscars Music/Oscars Music/Oscars Music/Oscars Music/Oscars Music/Oscars Music/Oscars Music/Oscars Music/Oscars Music/Oscars Music/Oscars Music/Oscars Music/Oscars Music/Oscars Music/\n",
      "None\n"
     ]
    }
   ],
   "source": [
    "print(ai.generate(n=2,\n",
    "                  max_length = 350,\n",
    "                  temperature = 0.7,\n",
    "                  do_sample = True,\n",
    "                  return_as_list = False,\n",
    "                  seed = 42\n",
    "                  ))"
   ]
  },
  {
   "cell_type": "code",
<<<<<<< HEAD
   "execution_count": 10,
=======
   "execution_count": 4,
>>>>>>> 6297944 (7)
   "metadata": {},
   "outputs": [],
   "source": [
    "import pandas as pd\n",
    "import numpy as np\n"
   ]
  },
  {
   "cell_type": "code",
<<<<<<< HEAD
   "execution_count": 11,
   "metadata": {},
   "outputs": [
    {
     "ename": "FileNotFoundError",
     "evalue": "[Errno 2] No such file or directory: '/Users/ECU/Downloads/archive/All_Diets.csv'",
     "output_type": "error",
     "traceback": [
      "\u001b[0;31m---------------------------------------------------------------------------\u001b[0m",
      "\u001b[0;31mFileNotFoundError\u001b[0m                         Traceback (most recent call last)",
      "Cell \u001b[0;32mIn[11], line 1\u001b[0m\n\u001b[0;32m----> 1\u001b[0m df \u001b[39m=\u001b[39m pd\u001b[39m.\u001b[39;49mread_csv(\u001b[39m'\u001b[39;49m\u001b[39m/Users/ECU/Downloads/archive/All_Diets.csv\u001b[39;49m\u001b[39m'\u001b[39;49m,sep\u001b[39m=\u001b[39;49m\u001b[39m'\u001b[39;49m\u001b[39m,\u001b[39;49m\u001b[39m'\u001b[39;49m)\n\u001b[1;32m      2\u001b[0m df\u001b[39m.\u001b[39mhead()\n",
      "File \u001b[0;32m~/Library/Python/3.9/lib/python/site-packages/pandas/io/parsers/readers.py:912\u001b[0m, in \u001b[0;36mread_csv\u001b[0;34m(filepath_or_buffer, sep, delimiter, header, names, index_col, usecols, dtype, engine, converters, true_values, false_values, skipinitialspace, skiprows, skipfooter, nrows, na_values, keep_default_na, na_filter, verbose, skip_blank_lines, parse_dates, infer_datetime_format, keep_date_col, date_parser, date_format, dayfirst, cache_dates, iterator, chunksize, compression, thousands, decimal, lineterminator, quotechar, quoting, doublequote, escapechar, comment, encoding, encoding_errors, dialect, on_bad_lines, delim_whitespace, low_memory, memory_map, float_precision, storage_options, dtype_backend)\u001b[0m\n\u001b[1;32m    899\u001b[0m kwds_defaults \u001b[39m=\u001b[39m _refine_defaults_read(\n\u001b[1;32m    900\u001b[0m     dialect,\n\u001b[1;32m    901\u001b[0m     delimiter,\n\u001b[0;32m   (...)\u001b[0m\n\u001b[1;32m    908\u001b[0m     dtype_backend\u001b[39m=\u001b[39mdtype_backend,\n\u001b[1;32m    909\u001b[0m )\n\u001b[1;32m    910\u001b[0m kwds\u001b[39m.\u001b[39mupdate(kwds_defaults)\n\u001b[0;32m--> 912\u001b[0m \u001b[39mreturn\u001b[39;00m _read(filepath_or_buffer, kwds)\n",
      "File \u001b[0;32m~/Library/Python/3.9/lib/python/site-packages/pandas/io/parsers/readers.py:577\u001b[0m, in \u001b[0;36m_read\u001b[0;34m(filepath_or_buffer, kwds)\u001b[0m\n\u001b[1;32m    574\u001b[0m _validate_names(kwds\u001b[39m.\u001b[39mget(\u001b[39m\"\u001b[39m\u001b[39mnames\u001b[39m\u001b[39m\"\u001b[39m, \u001b[39mNone\u001b[39;00m))\n\u001b[1;32m    576\u001b[0m \u001b[39m# Create the parser.\u001b[39;00m\n\u001b[0;32m--> 577\u001b[0m parser \u001b[39m=\u001b[39m TextFileReader(filepath_or_buffer, \u001b[39m*\u001b[39;49m\u001b[39m*\u001b[39;49mkwds)\n\u001b[1;32m    579\u001b[0m \u001b[39mif\u001b[39;00m chunksize \u001b[39mor\u001b[39;00m iterator:\n\u001b[1;32m    580\u001b[0m     \u001b[39mreturn\u001b[39;00m parser\n",
      "File \u001b[0;32m~/Library/Python/3.9/lib/python/site-packages/pandas/io/parsers/readers.py:1407\u001b[0m, in \u001b[0;36mTextFileReader.__init__\u001b[0;34m(self, f, engine, **kwds)\u001b[0m\n\u001b[1;32m   1404\u001b[0m     \u001b[39mself\u001b[39m\u001b[39m.\u001b[39moptions[\u001b[39m\"\u001b[39m\u001b[39mhas_index_names\u001b[39m\u001b[39m\"\u001b[39m] \u001b[39m=\u001b[39m kwds[\u001b[39m\"\u001b[39m\u001b[39mhas_index_names\u001b[39m\u001b[39m\"\u001b[39m]\n\u001b[1;32m   1406\u001b[0m \u001b[39mself\u001b[39m\u001b[39m.\u001b[39mhandles: IOHandles \u001b[39m|\u001b[39m \u001b[39mNone\u001b[39;00m \u001b[39m=\u001b[39m \u001b[39mNone\u001b[39;00m\n\u001b[0;32m-> 1407\u001b[0m \u001b[39mself\u001b[39m\u001b[39m.\u001b[39m_engine \u001b[39m=\u001b[39m \u001b[39mself\u001b[39;49m\u001b[39m.\u001b[39;49m_make_engine(f, \u001b[39mself\u001b[39;49m\u001b[39m.\u001b[39;49mengine)\n",
      "File \u001b[0;32m~/Library/Python/3.9/lib/python/site-packages/pandas/io/parsers/readers.py:1661\u001b[0m, in \u001b[0;36mTextFileReader._make_engine\u001b[0;34m(self, f, engine)\u001b[0m\n\u001b[1;32m   1659\u001b[0m     \u001b[39mif\u001b[39;00m \u001b[39m\"\u001b[39m\u001b[39mb\u001b[39m\u001b[39m\"\u001b[39m \u001b[39mnot\u001b[39;00m \u001b[39min\u001b[39;00m mode:\n\u001b[1;32m   1660\u001b[0m         mode \u001b[39m+\u001b[39m\u001b[39m=\u001b[39m \u001b[39m\"\u001b[39m\u001b[39mb\u001b[39m\u001b[39m\"\u001b[39m\n\u001b[0;32m-> 1661\u001b[0m \u001b[39mself\u001b[39m\u001b[39m.\u001b[39mhandles \u001b[39m=\u001b[39m get_handle(\n\u001b[1;32m   1662\u001b[0m     f,\n\u001b[1;32m   1663\u001b[0m     mode,\n\u001b[1;32m   1664\u001b[0m     encoding\u001b[39m=\u001b[39;49m\u001b[39mself\u001b[39;49m\u001b[39m.\u001b[39;49moptions\u001b[39m.\u001b[39;49mget(\u001b[39m\"\u001b[39;49m\u001b[39mencoding\u001b[39;49m\u001b[39m\"\u001b[39;49m, \u001b[39mNone\u001b[39;49;00m),\n\u001b[1;32m   1665\u001b[0m     compression\u001b[39m=\u001b[39;49m\u001b[39mself\u001b[39;49m\u001b[39m.\u001b[39;49moptions\u001b[39m.\u001b[39;49mget(\u001b[39m\"\u001b[39;49m\u001b[39mcompression\u001b[39;49m\u001b[39m\"\u001b[39;49m, \u001b[39mNone\u001b[39;49;00m),\n\u001b[1;32m   1666\u001b[0m     memory_map\u001b[39m=\u001b[39;49m\u001b[39mself\u001b[39;49m\u001b[39m.\u001b[39;49moptions\u001b[39m.\u001b[39;49mget(\u001b[39m\"\u001b[39;49m\u001b[39mmemory_map\u001b[39;49m\u001b[39m\"\u001b[39;49m, \u001b[39mFalse\u001b[39;49;00m),\n\u001b[1;32m   1667\u001b[0m     is_text\u001b[39m=\u001b[39;49mis_text,\n\u001b[1;32m   1668\u001b[0m     errors\u001b[39m=\u001b[39;49m\u001b[39mself\u001b[39;49m\u001b[39m.\u001b[39;49moptions\u001b[39m.\u001b[39;49mget(\u001b[39m\"\u001b[39;49m\u001b[39mencoding_errors\u001b[39;49m\u001b[39m\"\u001b[39;49m, \u001b[39m\"\u001b[39;49m\u001b[39mstrict\u001b[39;49m\u001b[39m\"\u001b[39;49m),\n\u001b[1;32m   1669\u001b[0m     storage_options\u001b[39m=\u001b[39;49m\u001b[39mself\u001b[39;49m\u001b[39m.\u001b[39;49moptions\u001b[39m.\u001b[39;49mget(\u001b[39m\"\u001b[39;49m\u001b[39mstorage_options\u001b[39;49m\u001b[39m\"\u001b[39;49m, \u001b[39mNone\u001b[39;49;00m),\n\u001b[1;32m   1670\u001b[0m )\n\u001b[1;32m   1671\u001b[0m \u001b[39massert\u001b[39;00m \u001b[39mself\u001b[39m\u001b[39m.\u001b[39mhandles \u001b[39mis\u001b[39;00m \u001b[39mnot\u001b[39;00m \u001b[39mNone\u001b[39;00m\n\u001b[1;32m   1672\u001b[0m f \u001b[39m=\u001b[39m \u001b[39mself\u001b[39m\u001b[39m.\u001b[39mhandles\u001b[39m.\u001b[39mhandle\n",
      "File \u001b[0;32m~/Library/Python/3.9/lib/python/site-packages/pandas/io/common.py:859\u001b[0m, in \u001b[0;36mget_handle\u001b[0;34m(path_or_buf, mode, encoding, compression, memory_map, is_text, errors, storage_options)\u001b[0m\n\u001b[1;32m    854\u001b[0m \u001b[39melif\u001b[39;00m \u001b[39misinstance\u001b[39m(handle, \u001b[39mstr\u001b[39m):\n\u001b[1;32m    855\u001b[0m     \u001b[39m# Check whether the filename is to be opened in binary mode.\u001b[39;00m\n\u001b[1;32m    856\u001b[0m     \u001b[39m# Binary mode does not support 'encoding' and 'newline'.\u001b[39;00m\n\u001b[1;32m    857\u001b[0m     \u001b[39mif\u001b[39;00m ioargs\u001b[39m.\u001b[39mencoding \u001b[39mand\u001b[39;00m \u001b[39m\"\u001b[39m\u001b[39mb\u001b[39m\u001b[39m\"\u001b[39m \u001b[39mnot\u001b[39;00m \u001b[39min\u001b[39;00m ioargs\u001b[39m.\u001b[39mmode:\n\u001b[1;32m    858\u001b[0m         \u001b[39m# Encoding\u001b[39;00m\n\u001b[0;32m--> 859\u001b[0m         handle \u001b[39m=\u001b[39m \u001b[39mopen\u001b[39;49m(\n\u001b[1;32m    860\u001b[0m             handle,\n\u001b[1;32m    861\u001b[0m             ioargs\u001b[39m.\u001b[39;49mmode,\n\u001b[1;32m    862\u001b[0m             encoding\u001b[39m=\u001b[39;49mioargs\u001b[39m.\u001b[39;49mencoding,\n\u001b[1;32m    863\u001b[0m             errors\u001b[39m=\u001b[39;49merrors,\n\u001b[1;32m    864\u001b[0m             newline\u001b[39m=\u001b[39;49m\u001b[39m\"\u001b[39;49m\u001b[39m\"\u001b[39;49m,\n\u001b[1;32m    865\u001b[0m         )\n\u001b[1;32m    866\u001b[0m     \u001b[39melse\u001b[39;00m:\n\u001b[1;32m    867\u001b[0m         \u001b[39m# Binary mode\u001b[39;00m\n\u001b[1;32m    868\u001b[0m         handle \u001b[39m=\u001b[39m \u001b[39mopen\u001b[39m(handle, ioargs\u001b[39m.\u001b[39mmode)\n",
      "\u001b[0;31mFileNotFoundError\u001b[0m: [Errno 2] No such file or directory: '/Users/ECU/Downloads/archive/All_Diets.csv'"
     ]
=======
   "execution_count": 5,
   "metadata": {},
   "outputs": [
    {
     "data": {
      "text/html": [
       "<div>\n",
       "<style scoped>\n",
       "    .dataframe tbody tr th:only-of-type {\n",
       "        vertical-align: middle;\n",
       "    }\n",
       "\n",
       "    .dataframe tbody tr th {\n",
       "        vertical-align: top;\n",
       "    }\n",
       "\n",
       "    .dataframe thead th {\n",
       "        text-align: right;\n",
       "    }\n",
       "</style>\n",
       "<table border=\"1\" class=\"dataframe\">\n",
       "  <thead>\n",
       "    <tr style=\"text-align: right;\">\n",
       "      <th></th>\n",
       "      <th>Diet_type</th>\n",
       "      <th>Recipe_name</th>\n",
       "      <th>Cuisine_type</th>\n",
       "      <th>Protein(g)</th>\n",
       "      <th>Carbs(g)</th>\n",
       "      <th>Fat(g)</th>\n",
       "      <th>Extraction_day</th>\n",
       "      <th>Extraction_time</th>\n",
       "    </tr>\n",
       "  </thead>\n",
       "  <tbody>\n",
       "    <tr>\n",
       "      <th>0</th>\n",
       "      <td>paleo</td>\n",
       "      <td>Bone Broth From 'Nom Nom Paleo'</td>\n",
       "      <td>american</td>\n",
       "      <td>5.22</td>\n",
       "      <td>1.29</td>\n",
       "      <td>3.20</td>\n",
       "      <td>2022-10-16</td>\n",
       "      <td>17:20:09</td>\n",
       "    </tr>\n",
       "    <tr>\n",
       "      <th>1</th>\n",
       "      <td>paleo</td>\n",
       "      <td>Paleo Effect Asian-Glazed Pork Sides, A Sweet ...</td>\n",
       "      <td>south east asian</td>\n",
       "      <td>181.55</td>\n",
       "      <td>28.62</td>\n",
       "      <td>146.14</td>\n",
       "      <td>2022-10-16</td>\n",
       "      <td>17:20:09</td>\n",
       "    </tr>\n",
       "    <tr>\n",
       "      <th>2</th>\n",
       "      <td>paleo</td>\n",
       "      <td>Paleo Pumpkin Pie</td>\n",
       "      <td>american</td>\n",
       "      <td>30.91</td>\n",
       "      <td>302.59</td>\n",
       "      <td>96.76</td>\n",
       "      <td>2022-10-16</td>\n",
       "      <td>17:20:09</td>\n",
       "    </tr>\n",
       "    <tr>\n",
       "      <th>3</th>\n",
       "      <td>paleo</td>\n",
       "      <td>Strawberry Guacamole recipes</td>\n",
       "      <td>mexican</td>\n",
       "      <td>9.62</td>\n",
       "      <td>75.78</td>\n",
       "      <td>59.89</td>\n",
       "      <td>2022-10-16</td>\n",
       "      <td>17:20:09</td>\n",
       "    </tr>\n",
       "    <tr>\n",
       "      <th>4</th>\n",
       "      <td>paleo</td>\n",
       "      <td>Asian Cauliflower Fried \"Rice\" From 'Nom Nom P...</td>\n",
       "      <td>chinese</td>\n",
       "      <td>39.84</td>\n",
       "      <td>54.08</td>\n",
       "      <td>71.55</td>\n",
       "      <td>2022-10-16</td>\n",
       "      <td>17:20:09</td>\n",
       "    </tr>\n",
       "  </tbody>\n",
       "</table>\n",
       "</div>"
      ],
      "text/plain": [
       "  Diet_type                                        Recipe_name   \n",
       "0     paleo                    Bone Broth From 'Nom Nom Paleo'  \\\n",
       "1     paleo  Paleo Effect Asian-Glazed Pork Sides, A Sweet ...   \n",
       "2     paleo                                  Paleo Pumpkin Pie   \n",
       "3     paleo                       Strawberry Guacamole recipes   \n",
       "4     paleo  Asian Cauliflower Fried \"Rice\" From 'Nom Nom P...   \n",
       "\n",
       "       Cuisine_type  Protein(g)  Carbs(g)  Fat(g) Extraction_day   \n",
       "0          american        5.22      1.29    3.20     2022-10-16  \\\n",
       "1  south east asian      181.55     28.62  146.14     2022-10-16   \n",
       "2          american       30.91    302.59   96.76     2022-10-16   \n",
       "3           mexican        9.62     75.78   59.89     2022-10-16   \n",
       "4           chinese       39.84     54.08   71.55     2022-10-16   \n",
       "\n",
       "  Extraction_time  \n",
       "0        17:20:09  \n",
       "1        17:20:09  \n",
       "2        17:20:09  \n",
       "3        17:20:09  \n",
       "4        17:20:09  "
      ]
     },
     "execution_count": 5,
     "metadata": {},
     "output_type": "execute_result"
>>>>>>> 6297944 (7)
    }
   ],
   "source": [
    "df = pd.read_csv('/Users/ECU/Downloads/archive/All_Diets.csv',sep=',')\n",
    "df.head()"
   ]
  },
  {
   "cell_type": "code",
<<<<<<< HEAD
   "execution_count": null,
=======
   "execution_count": 6,
>>>>>>> 6297944 (7)
   "metadata": {},
   "outputs": [
    {
     "data": {
      "text/html": [
       "<div>\n",
       "<style scoped>\n",
       "    .dataframe tbody tr th:only-of-type {\n",
       "        vertical-align: middle;\n",
       "    }\n",
       "\n",
       "    .dataframe tbody tr th {\n",
       "        vertical-align: top;\n",
       "    }\n",
       "\n",
       "    .dataframe thead th {\n",
       "        text-align: right;\n",
       "    }\n",
       "</style>\n",
       "<table border=\"1\" class=\"dataframe\">\n",
       "  <thead>\n",
       "    <tr style=\"text-align: right;\">\n",
       "      <th></th>\n",
       "      <th>Diet_type</th>\n",
       "      <th>Recipe_name</th>\n",
       "      <th>Cuisine_type</th>\n",
       "      <th>Protein(g)</th>\n",
       "      <th>Carbs(g)</th>\n",
       "      <th>Fat(g)</th>\n",
       "      <th>Extraction_day</th>\n",
       "      <th>Extraction_time</th>\n",
       "    </tr>\n",
       "  </thead>\n",
       "  <tbody>\n",
       "    <tr>\n",
       "      <th>0</th>\n",
       "      <td>dash</td>\n",
       "      <td>100-Mile Dash</td>\n",
       "      <td>american</td>\n",
       "      <td>1.90</td>\n",
       "      <td>236.76</td>\n",
       "      <td>1.02</td>\n",
       "      <td>2022-10-16</td>\n",
       "      <td>20:29:20</td>\n",
       "    </tr>\n",
       "    <tr>\n",
       "      <th>1</th>\n",
       "      <td>dash</td>\n",
       "      <td>Goulash In A Dash</td>\n",
       "      <td>french</td>\n",
       "      <td>137.31</td>\n",
       "      <td>120.32</td>\n",
       "      <td>35.92</td>\n",
       "      <td>2022-10-16</td>\n",
       "      <td>20:29:20</td>\n",
       "    </tr>\n",
       "    <tr>\n",
       "      <th>2</th>\n",
       "      <td>dash</td>\n",
       "      <td>Garlicky Wilted Kale (with a dash of Nutmeg)</td>\n",
       "      <td>american</td>\n",
       "      <td>29.41</td>\n",
       "      <td>75.78</td>\n",
       "      <td>47.80</td>\n",
       "      <td>2022-10-16</td>\n",
       "      <td>20:29:20</td>\n",
       "    </tr>\n",
       "    <tr>\n",
       "      <th>3</th>\n",
       "      <td>dash</td>\n",
       "      <td>Modern Cocktail No. 2 Recipe</td>\n",
       "      <td>world</td>\n",
       "      <td>0.06</td>\n",
       "      <td>18.81</td>\n",
       "      <td>0.17</td>\n",
       "      <td>2022-10-16</td>\n",
       "      <td>20:29:20</td>\n",
       "    </tr>\n",
       "    <tr>\n",
       "      <th>4</th>\n",
       "      <td>dash</td>\n",
       "      <td>Three Dots And A Dash</td>\n",
       "      <td>american</td>\n",
       "      <td>0.51</td>\n",
       "      <td>139.67</td>\n",
       "      <td>0.00</td>\n",
       "      <td>2022-10-16</td>\n",
       "      <td>20:29:20</td>\n",
       "    </tr>\n",
       "  </tbody>\n",
       "</table>\n",
       "</div>"
      ],
      "text/plain": [
       "  Diet_type                                   Recipe_name Cuisine_type   \n",
       "0      dash                                 100-Mile Dash     american  \\\n",
       "1      dash                             Goulash In A Dash       french   \n",
       "2      dash  Garlicky Wilted Kale (with a dash of Nutmeg)     american   \n",
       "3      dash                  Modern Cocktail No. 2 Recipe        world   \n",
       "4      dash                         Three Dots And A Dash     american   \n",
       "\n",
       "   Protein(g)  Carbs(g)  Fat(g) Extraction_day Extraction_time  \n",
       "0        1.90    236.76    1.02     2022-10-16        20:29:20  \n",
       "1      137.31    120.32   35.92     2022-10-16        20:29:20  \n",
       "2       29.41     75.78   47.80     2022-10-16        20:29:20  \n",
       "3        0.06     18.81    0.17     2022-10-16        20:29:20  \n",
       "4        0.51    139.67    0.00     2022-10-16        20:29:20  "
      ]
     },
     "execution_count": 6,
     "metadata": {},
     "output_type": "execute_result"
    }
   ],
   "source": [
    "df = pd.read_csv('/Users/ECU/Downloads/archive/dash.csv',sep=',')\n",
    "df.head()"
   ]
  },
  {
   "cell_type": "code",
<<<<<<< HEAD
   "execution_count": null,
=======
   "execution_count": 7,
>>>>>>> 6297944 (7)
   "metadata": {},
   "outputs": [
    {
     "data": {
      "text/html": [
       "<div>\n",
       "<style scoped>\n",
       "    .dataframe tbody tr th:only-of-type {\n",
       "        vertical-align: middle;\n",
       "    }\n",
       "\n",
       "    .dataframe tbody tr th {\n",
       "        vertical-align: top;\n",
       "    }\n",
       "\n",
       "    .dataframe thead th {\n",
       "        text-align: right;\n",
       "    }\n",
       "</style>\n",
       "<table border=\"1\" class=\"dataframe\">\n",
       "  <thead>\n",
       "    <tr style=\"text-align: right;\">\n",
       "      <th></th>\n",
       "      <th>Diet_type</th>\n",
       "      <th>Recipe_name</th>\n",
       "      <th>Cuisine_type</th>\n",
       "      <th>Protein(g)</th>\n",
       "      <th>Carbs(g)</th>\n",
       "      <th>Fat(g)</th>\n",
       "      <th>Extraction_day</th>\n",
       "      <th>Extraction_time</th>\n",
       "    </tr>\n",
       "  </thead>\n",
       "  <tbody>\n",
       "    <tr>\n",
       "      <th>0</th>\n",
       "      <td>keto</td>\n",
       "      <td>Keto Fat Bombs</td>\n",
       "      <td>american</td>\n",
       "      <td>49.19</td>\n",
       "      <td>79.78</td>\n",
       "      <td>264.40</td>\n",
       "      <td>2022-10-16</td>\n",
       "      <td>17:58:03</td>\n",
       "    </tr>\n",
       "    <tr>\n",
       "      <th>1</th>\n",
       "      <td>keto</td>\n",
       "      <td>Keto Egg Bites Recipe</td>\n",
       "      <td>american</td>\n",
       "      <td>92.86</td>\n",
       "      <td>16.19</td>\n",
       "      <td>86.51</td>\n",
       "      <td>2022-10-16</td>\n",
       "      <td>17:58:03</td>\n",
       "    </tr>\n",
       "    <tr>\n",
       "      <th>2</th>\n",
       "      <td>keto</td>\n",
       "      <td>Keto Key Lime Mousse</td>\n",
       "      <td>american</td>\n",
       "      <td>27.49</td>\n",
       "      <td>23.58</td>\n",
       "      <td>177.43</td>\n",
       "      <td>2022-10-16</td>\n",
       "      <td>17:58:03</td>\n",
       "    </tr>\n",
       "    <tr>\n",
       "      <th>3</th>\n",
       "      <td>keto</td>\n",
       "      <td>Keto Peanut Butter Squares</td>\n",
       "      <td>american</td>\n",
       "      <td>130.00</td>\n",
       "      <td>507.48</td>\n",
       "      <td>362.36</td>\n",
       "      <td>2022-10-16</td>\n",
       "      <td>17:58:03</td>\n",
       "    </tr>\n",
       "    <tr>\n",
       "      <th>4</th>\n",
       "      <td>keto</td>\n",
       "      <td>YOGURT RICE, REINVENTED THE KETO WAY!</td>\n",
       "      <td>mediterranean</td>\n",
       "      <td>21.23</td>\n",
       "      <td>34.78</td>\n",
       "      <td>27.74</td>\n",
       "      <td>2022-10-16</td>\n",
       "      <td>17:58:03</td>\n",
       "    </tr>\n",
       "  </tbody>\n",
       "</table>\n",
       "</div>"
      ],
      "text/plain": [
       "  Diet_type                            Recipe_name   Cuisine_type  Protein(g)   \n",
       "0      keto                         Keto Fat Bombs       american       49.19  \\\n",
       "1      keto                  Keto Egg Bites Recipe       american       92.86   \n",
       "2      keto                   Keto Key Lime Mousse       american       27.49   \n",
       "3      keto             Keto Peanut Butter Squares       american      130.00   \n",
       "4      keto  YOGURT RICE, REINVENTED THE KETO WAY!  mediterranean       21.23   \n",
       "\n",
       "   Carbs(g)  Fat(g) Extraction_day Extraction_time  \n",
       "0     79.78  264.40     2022-10-16        17:58:03  \n",
       "1     16.19   86.51     2022-10-16        17:58:03  \n",
       "2     23.58  177.43     2022-10-16        17:58:03  \n",
       "3    507.48  362.36     2022-10-16        17:58:03  \n",
       "4     34.78   27.74     2022-10-16        17:58:03  "
      ]
     },
     "execution_count": 7,
     "metadata": {},
     "output_type": "execute_result"
    }
   ],
   "source": [
    "df = pd.read_csv('/Users/ECU/Downloads/archive/keto.csv',sep=',')\n",
    "df.head()"
   ]
  },
  {
   "cell_type": "code",
<<<<<<< HEAD
   "execution_count": null,
=======
   "execution_count": 8,
>>>>>>> 6297944 (7)
   "metadata": {},
   "outputs": [
    {
     "data": {
      "text/html": [
       "<div>\n",
       "<style scoped>\n",
       "    .dataframe tbody tr th:only-of-type {\n",
       "        vertical-align: middle;\n",
       "    }\n",
       "\n",
       "    .dataframe tbody tr th {\n",
       "        vertical-align: top;\n",
       "    }\n",
       "\n",
       "    .dataframe thead th {\n",
       "        text-align: right;\n",
       "    }\n",
       "</style>\n",
       "<table border=\"1\" class=\"dataframe\">\n",
       "  <thead>\n",
       "    <tr style=\"text-align: right;\">\n",
       "      <th></th>\n",
       "      <th>Diet_type</th>\n",
       "      <th>Recipe_name</th>\n",
       "      <th>Cuisine_type</th>\n",
       "      <th>Protein(g)</th>\n",
       "      <th>Carbs(g)</th>\n",
       "      <th>Fat(g)</th>\n",
       "      <th>Extraction_day</th>\n",
       "      <th>Extraction_time</th>\n",
       "    </tr>\n",
       "  </thead>\n",
       "  <tbody>\n",
       "    <tr>\n",
       "      <th>0</th>\n",
       "      <td>mediterranean</td>\n",
       "      <td>Mediterranean Cucumber Tonic</td>\n",
       "      <td>mediterranean</td>\n",
       "      <td>0.25</td>\n",
       "      <td>12.01</td>\n",
       "      <td>0.33</td>\n",
       "      <td>2022-10-16</td>\n",
       "      <td>16:43:14</td>\n",
       "    </tr>\n",
       "    <tr>\n",
       "      <th>1</th>\n",
       "      <td>mediterranean</td>\n",
       "      <td>Loup de Mer (Mediterranean Seabass)</td>\n",
       "      <td>mediterranean</td>\n",
       "      <td>306.14</td>\n",
       "      <td>43.10</td>\n",
       "      <td>26.55</td>\n",
       "      <td>2022-10-16</td>\n",
       "      <td>16:43:14</td>\n",
       "    </tr>\n",
       "    <tr>\n",
       "      <th>2</th>\n",
       "      <td>mediterranean</td>\n",
       "      <td>Mediterranean Baked Trout with Olives, Fennel ...</td>\n",
       "      <td>mediterranean</td>\n",
       "      <td>187.14</td>\n",
       "      <td>42.31</td>\n",
       "      <td>87.94</td>\n",
       "      <td>2022-10-16</td>\n",
       "      <td>16:43:14</td>\n",
       "    </tr>\n",
       "    <tr>\n",
       "      <th>3</th>\n",
       "      <td>mediterranean</td>\n",
       "      <td>Mediterranean Salmon Risotto recipes</td>\n",
       "      <td>nordic</td>\n",
       "      <td>395.50</td>\n",
       "      <td>287.10</td>\n",
       "      <td>291.04</td>\n",
       "      <td>2022-10-16</td>\n",
       "      <td>16:43:14</td>\n",
       "    </tr>\n",
       "    <tr>\n",
       "      <th>4</th>\n",
       "      <td>mediterranean</td>\n",
       "      <td>Mediterranean Pita Melts</td>\n",
       "      <td>mediterranean</td>\n",
       "      <td>46.57</td>\n",
       "      <td>139.71</td>\n",
       "      <td>37.70</td>\n",
       "      <td>2022-10-16</td>\n",
       "      <td>16:43:14</td>\n",
       "    </tr>\n",
       "  </tbody>\n",
       "</table>\n",
       "</div>"
      ],
      "text/plain": [
       "       Diet_type                                        Recipe_name   \n",
       "0  mediterranean                       Mediterranean Cucumber Tonic  \\\n",
       "1  mediterranean                Loup de Mer (Mediterranean Seabass)   \n",
       "2  mediterranean  Mediterranean Baked Trout with Olives, Fennel ...   \n",
       "3  mediterranean               Mediterranean Salmon Risotto recipes   \n",
       "4  mediterranean                           Mediterranean Pita Melts   \n",
       "\n",
       "    Cuisine_type  Protein(g)  Carbs(g)  Fat(g) Extraction_day Extraction_time  \n",
       "0  mediterranean        0.25     12.01    0.33     2022-10-16        16:43:14  \n",
       "1  mediterranean      306.14     43.10   26.55     2022-10-16        16:43:14  \n",
       "2  mediterranean      187.14     42.31   87.94     2022-10-16        16:43:14  \n",
       "3         nordic      395.50    287.10  291.04     2022-10-16        16:43:14  \n",
       "4  mediterranean       46.57    139.71   37.70     2022-10-16        16:43:14  "
      ]
     },
     "execution_count": 8,
     "metadata": {},
     "output_type": "execute_result"
    }
   ],
   "source": [
    "df = pd.read_csv('/Users/ECU/Downloads/archive/mediterranean.csv',sep=',')\n",
    "df.head()"
   ]
  },
  {
   "cell_type": "code",
<<<<<<< HEAD
   "execution_count": null,
=======
   "execution_count": 9,
>>>>>>> 6297944 (7)
   "metadata": {},
   "outputs": [
    {
     "data": {
      "text/html": [
       "<div>\n",
       "<style scoped>\n",
       "    .dataframe tbody tr th:only-of-type {\n",
       "        vertical-align: middle;\n",
       "    }\n",
       "\n",
       "    .dataframe tbody tr th {\n",
       "        vertical-align: top;\n",
       "    }\n",
       "\n",
       "    .dataframe thead th {\n",
       "        text-align: right;\n",
       "    }\n",
       "</style>\n",
       "<table border=\"1\" class=\"dataframe\">\n",
       "  <thead>\n",
       "    <tr style=\"text-align: right;\">\n",
       "      <th></th>\n",
       "      <th>Diet_type</th>\n",
       "      <th>Recipe_name</th>\n",
       "      <th>Cuisine_type</th>\n",
       "      <th>Protein(g)</th>\n",
       "      <th>Carbs(g)</th>\n",
       "      <th>Fat(g)</th>\n",
       "      <th>Extraction_day</th>\n",
       "      <th>Extraction_time</th>\n",
       "    </tr>\n",
       "  </thead>\n",
       "  <tbody>\n",
       "    <tr>\n",
       "      <th>0</th>\n",
       "      <td>paleo</td>\n",
       "      <td>Bone Broth From 'Nom Nom Paleo'</td>\n",
       "      <td>american</td>\n",
       "      <td>5.22</td>\n",
       "      <td>1.29</td>\n",
       "      <td>3.20</td>\n",
       "      <td>2022-10-16</td>\n",
       "      <td>17:20:09</td>\n",
       "    </tr>\n",
       "    <tr>\n",
       "      <th>1</th>\n",
       "      <td>paleo</td>\n",
       "      <td>Paleo Effect Asian-Glazed Pork Sides, A Sweet ...</td>\n",
       "      <td>south east asian</td>\n",
       "      <td>181.55</td>\n",
       "      <td>28.62</td>\n",
       "      <td>146.14</td>\n",
       "      <td>2022-10-16</td>\n",
       "      <td>17:20:09</td>\n",
       "    </tr>\n",
       "    <tr>\n",
       "      <th>2</th>\n",
       "      <td>paleo</td>\n",
       "      <td>Paleo Pumpkin Pie</td>\n",
       "      <td>american</td>\n",
       "      <td>30.91</td>\n",
       "      <td>302.59</td>\n",
       "      <td>96.76</td>\n",
       "      <td>2022-10-16</td>\n",
       "      <td>17:20:09</td>\n",
       "    </tr>\n",
       "    <tr>\n",
       "      <th>3</th>\n",
       "      <td>paleo</td>\n",
       "      <td>Strawberry Guacamole recipes</td>\n",
       "      <td>mexican</td>\n",
       "      <td>9.62</td>\n",
       "      <td>75.78</td>\n",
       "      <td>59.89</td>\n",
       "      <td>2022-10-16</td>\n",
       "      <td>17:20:09</td>\n",
       "    </tr>\n",
       "    <tr>\n",
       "      <th>4</th>\n",
       "      <td>paleo</td>\n",
       "      <td>Asian Cauliflower Fried \"Rice\" From 'Nom Nom P...</td>\n",
       "      <td>chinese</td>\n",
       "      <td>39.84</td>\n",
       "      <td>54.08</td>\n",
       "      <td>71.55</td>\n",
       "      <td>2022-10-16</td>\n",
       "      <td>17:20:09</td>\n",
       "    </tr>\n",
       "  </tbody>\n",
       "</table>\n",
       "</div>"
      ],
      "text/plain": [
       "  Diet_type                                        Recipe_name   \n",
       "0     paleo                    Bone Broth From 'Nom Nom Paleo'  \\\n",
       "1     paleo  Paleo Effect Asian-Glazed Pork Sides, A Sweet ...   \n",
       "2     paleo                                  Paleo Pumpkin Pie   \n",
       "3     paleo                       Strawberry Guacamole recipes   \n",
       "4     paleo  Asian Cauliflower Fried \"Rice\" From 'Nom Nom P...   \n",
       "\n",
       "       Cuisine_type  Protein(g)  Carbs(g)  Fat(g) Extraction_day   \n",
       "0          american        5.22      1.29    3.20     2022-10-16  \\\n",
       "1  south east asian      181.55     28.62  146.14     2022-10-16   \n",
       "2          american       30.91    302.59   96.76     2022-10-16   \n",
       "3           mexican        9.62     75.78   59.89     2022-10-16   \n",
       "4           chinese       39.84     54.08   71.55     2022-10-16   \n",
       "\n",
       "  Extraction_time  \n",
       "0        17:20:09  \n",
       "1        17:20:09  \n",
       "2        17:20:09  \n",
       "3        17:20:09  \n",
       "4        17:20:09  "
      ]
     },
     "execution_count": 9,
     "metadata": {},
     "output_type": "execute_result"
    }
   ],
   "source": [
    "df = pd.read_csv('/Users/ECU/Downloads/archive/paleo.csv',sep=',')\n",
    "df.head()"
   ]
  },
  {
   "cell_type": "code",
<<<<<<< HEAD
   "execution_count": null,
=======
   "execution_count": 10,
>>>>>>> 6297944 (7)
   "metadata": {},
   "outputs": [
    {
     "data": {
      "text/html": [
       "<div>\n",
       "<style scoped>\n",
       "    .dataframe tbody tr th:only-of-type {\n",
       "        vertical-align: middle;\n",
       "    }\n",
       "\n",
       "    .dataframe tbody tr th {\n",
       "        vertical-align: top;\n",
       "    }\n",
       "\n",
       "    .dataframe thead th {\n",
       "        text-align: right;\n",
       "    }\n",
       "</style>\n",
       "<table border=\"1\" class=\"dataframe\">\n",
       "  <thead>\n",
       "    <tr style=\"text-align: right;\">\n",
       "      <th></th>\n",
       "      <th>Diet_type</th>\n",
       "      <th>Recipe_name</th>\n",
       "      <th>Cuisine_type</th>\n",
       "      <th>Protein(g)</th>\n",
       "      <th>Carbs(g)</th>\n",
       "      <th>Fat(g)</th>\n",
       "      <th>Extraction_day</th>\n",
       "      <th>Extraction_time</th>\n",
       "    </tr>\n",
       "  </thead>\n",
       "  <tbody>\n",
       "    <tr>\n",
       "      <th>0</th>\n",
       "      <td>vegan</td>\n",
       "      <td>Spiked Vegan Eggnog</td>\n",
       "      <td>american</td>\n",
       "      <td>46.36</td>\n",
       "      <td>84.52</td>\n",
       "      <td>42.61</td>\n",
       "      <td>2022-10-16</td>\n",
       "      <td>20:02:29</td>\n",
       "    </tr>\n",
       "    <tr>\n",
       "      <th>1</th>\n",
       "      <td>vegan</td>\n",
       "      <td>Vegan Cucumber Tea Sandwiches</td>\n",
       "      <td>american</td>\n",
       "      <td>41.73</td>\n",
       "      <td>143.91</td>\n",
       "      <td>73.88</td>\n",
       "      <td>2022-10-16</td>\n",
       "      <td>20:02:29</td>\n",
       "    </tr>\n",
       "    <tr>\n",
       "      <th>2</th>\n",
       "      <td>vegan</td>\n",
       "      <td>Vegan Broccoli Soup Recipe</td>\n",
       "      <td>american</td>\n",
       "      <td>103.83</td>\n",
       "      <td>82.54</td>\n",
       "      <td>139.30</td>\n",
       "      <td>2022-10-16</td>\n",
       "      <td>20:02:29</td>\n",
       "    </tr>\n",
       "    <tr>\n",
       "      <th>3</th>\n",
       "      <td>vegan</td>\n",
       "      <td>Baked Vegan Mac and Cheese Recipe</td>\n",
       "      <td>american</td>\n",
       "      <td>140.19</td>\n",
       "      <td>524.38</td>\n",
       "      <td>221.29</td>\n",
       "      <td>2022-10-16</td>\n",
       "      <td>20:02:29</td>\n",
       "    </tr>\n",
       "    <tr>\n",
       "      <th>4</th>\n",
       "      <td>vegan</td>\n",
       "      <td>Vegan Nachos</td>\n",
       "      <td>american</td>\n",
       "      <td>73.05</td>\n",
       "      <td>266.38</td>\n",
       "      <td>166.64</td>\n",
       "      <td>2022-10-16</td>\n",
       "      <td>20:02:29</td>\n",
       "    </tr>\n",
       "  </tbody>\n",
       "</table>\n",
       "</div>"
      ],
      "text/plain": [
       "  Diet_type                        Recipe_name Cuisine_type  Protein(g)   \n",
       "0     vegan                Spiked Vegan Eggnog     american       46.36  \\\n",
       "1     vegan      Vegan Cucumber Tea Sandwiches     american       41.73   \n",
       "2     vegan         Vegan Broccoli Soup Recipe     american      103.83   \n",
       "3     vegan  Baked Vegan Mac and Cheese Recipe     american      140.19   \n",
       "4     vegan                       Vegan Nachos     american       73.05   \n",
       "\n",
       "   Carbs(g)  Fat(g) Extraction_day Extraction_time  \n",
       "0     84.52   42.61     2022-10-16        20:02:29  \n",
       "1    143.91   73.88     2022-10-16        20:02:29  \n",
       "2     82.54  139.30     2022-10-16        20:02:29  \n",
       "3    524.38  221.29     2022-10-16        20:02:29  \n",
       "4    266.38  166.64     2022-10-16        20:02:29  "
      ]
     },
     "execution_count": 10,
     "metadata": {},
     "output_type": "execute_result"
    }
   ],
   "source": [
    "df = pd.read_csv('/Users/ECU/Downloads/archive/vegan.csv',sep=',')\n",
    "df.head()"
   ]
  },
  {
   "cell_type": "code",
<<<<<<< HEAD
   "execution_count": null,
=======
   "execution_count": 11,
>>>>>>> 6297944 (7)
   "metadata": {},
   "outputs": [
    {
     "data": {
      "text/plain": [
       "Diet_type          False\n",
       "Recipe_name        False\n",
       "Cuisine_type       False\n",
       "Protein(g)         False\n",
       "Carbs(g)           False\n",
       "Fat(g)             False\n",
       "Extraction_day     False\n",
       "Extraction_time    False\n",
       "dtype: bool"
      ]
     },
     "execution_count": 11,
     "metadata": {},
     "output_type": "execute_result"
    }
   ],
   "source": [
    "# Checking for  null\n",
    "df.isna().any()"
   ]
  },
  {
   "cell_type": "code",
<<<<<<< HEAD
   "execution_count": null,
=======
   "execution_count": 12,
>>>>>>> 6297944 (7)
   "metadata": {},
   "outputs": [
    {
     "data": {
      "text/plain": [
       "False    1520\n",
       "True        2\n",
       "Name: count, dtype: int64"
      ]
     },
     "execution_count": 12,
     "metadata": {},
     "output_type": "execute_result"
    }
   ],
   "source": [
    "# Check duplicated\n",
    "df.duplicated().value_counts()"
   ]
  },
  {
   "cell_type": "code",
<<<<<<< HEAD
   "execution_count": null,
=======
   "execution_count": 13,
>>>>>>> 6297944 (7)
   "metadata": {},
   "outputs": [
    {
     "data": {
      "text/html": [
       "<div>\n",
       "<style scoped>\n",
       "    .dataframe tbody tr th:only-of-type {\n",
       "        vertical-align: middle;\n",
       "    }\n",
       "\n",
       "    .dataframe tbody tr th {\n",
       "        vertical-align: top;\n",
       "    }\n",
       "\n",
       "    .dataframe thead th {\n",
       "        text-align: right;\n",
       "    }\n",
       "</style>\n",
       "<table border=\"1\" class=\"dataframe\">\n",
       "  <thead>\n",
       "    <tr style=\"text-align: right;\">\n",
       "      <th></th>\n",
       "      <th>Diet_type</th>\n",
       "      <th>Recipe_name</th>\n",
       "      <th>Cuisine_type</th>\n",
       "      <th>Protein(g)</th>\n",
       "      <th>Carbs(g)</th>\n",
       "      <th>Fat(g)</th>\n",
       "      <th>Extraction_day</th>\n",
       "      <th>Extraction_time</th>\n",
       "    </tr>\n",
       "  </thead>\n",
       "  <tbody>\n",
       "    <tr>\n",
       "      <th>1500</th>\n",
       "      <td>vegan</td>\n",
       "      <td>Strawberry Rhubarb Jam {Vegan}</td>\n",
       "      <td>american</td>\n",
       "      <td>2.48</td>\n",
       "      <td>155.82</td>\n",
       "      <td>22.73</td>\n",
       "      <td>2022-10-16</td>\n",
       "      <td>20:13:34</td>\n",
       "    </tr>\n",
       "    <tr>\n",
       "      <th>1504</th>\n",
       "      <td>vegan</td>\n",
       "      <td>Strawberry Rhubarb Jam {Vegan}</td>\n",
       "      <td>american</td>\n",
       "      <td>2.48</td>\n",
       "      <td>155.82</td>\n",
       "      <td>22.73</td>\n",
       "      <td>2022-10-16</td>\n",
       "      <td>20:13:34</td>\n",
       "    </tr>\n",
       "    <tr>\n",
       "      <th>1511</th>\n",
       "      <td>vegan</td>\n",
       "      <td>Strawberry Rhubarb Jam {Vegan}</td>\n",
       "      <td>american</td>\n",
       "      <td>2.48</td>\n",
       "      <td>155.82</td>\n",
       "      <td>22.73</td>\n",
       "      <td>2022-10-16</td>\n",
       "      <td>20:13:40</td>\n",
       "    </tr>\n",
       "    <tr>\n",
       "      <th>1515</th>\n",
       "      <td>vegan</td>\n",
       "      <td>Strawberry Rhubarb Jam {Vegan}</td>\n",
       "      <td>american</td>\n",
       "      <td>2.48</td>\n",
       "      <td>155.82</td>\n",
       "      <td>22.73</td>\n",
       "      <td>2022-10-16</td>\n",
       "      <td>20:13:40</td>\n",
       "    </tr>\n",
       "  </tbody>\n",
       "</table>\n",
       "</div>"
      ],
      "text/plain": [
       "     Diet_type                     Recipe_name Cuisine_type  Protein(g)   \n",
       "1500     vegan  Strawberry Rhubarb Jam {Vegan}     american        2.48  \\\n",
       "1504     vegan  Strawberry Rhubarb Jam {Vegan}     american        2.48   \n",
       "1511     vegan  Strawberry Rhubarb Jam {Vegan}     american        2.48   \n",
       "1515     vegan  Strawberry Rhubarb Jam {Vegan}     american        2.48   \n",
       "\n",
       "      Carbs(g)  Fat(g) Extraction_day Extraction_time  \n",
       "1500    155.82   22.73     2022-10-16        20:13:34  \n",
       "1504    155.82   22.73     2022-10-16        20:13:34  \n",
       "1511    155.82   22.73     2022-10-16        20:13:40  \n",
       "1515    155.82   22.73     2022-10-16        20:13:40  "
      ]
     },
     "execution_count": 13,
     "metadata": {},
     "output_type": "execute_result"
    }
   ],
   "source": [
    "# load duplicated\n",
    "df[df.duplicated(keep=False) == True]"
   ]
  },
  {
   "cell_type": "code",
<<<<<<< HEAD
   "execution_count": null,
=======
   "execution_count": 14,
>>>>>>> 6297944 (7)
   "metadata": {},
   "outputs": [
    {
     "data": {
      "text/plain": [
       "False    1520\n",
       "Name: count, dtype: int64"
      ]
     },
     "execution_count": 14,
     "metadata": {},
     "output_type": "execute_result"
    }
   ],
   "source": [
    "# Dropout duplicated and double check\n",
    "df_nodup = df.drop_duplicates()\n",
    "df_nodup.duplicated().value_counts()"
   ]
  },
  {
   "cell_type": "code",
<<<<<<< HEAD
   "execution_count": null,
=======
   "execution_count": 15,
>>>>>>> 6297944 (7)
   "metadata": {},
   "outputs": [
    {
     "data": {
      "text/plain": [
       "Diet_type\n",
       "vegan    1.0\n",
       "Name: proportion, dtype: float64"
      ]
     },
     "execution_count": 15,
     "metadata": {},
     "output_type": "execute_result"
    }
   ],
   "source": [
    "# Checking the Diet_type\n",
    "df_nodup['Diet_type'].value_counts(normalize=True)"
   ]
  },
  {
   "cell_type": "code",
<<<<<<< HEAD
   "execution_count": null,
   "metadata": {},
   "outputs": [
    {
     "ename": "NameError",
     "evalue": "name 'df_nodup' is not defined",
     "output_type": "error",
     "traceback": [
      "\u001b[0;31m---------------------------------------------------------------------------\u001b[0m",
      "\u001b[0;31mNameError\u001b[0m                                 Traceback (most recent call last)",
      "Cell \u001b[0;32mIn[6], line 2\u001b[0m\n\u001b[1;32m      1\u001b[0m \u001b[39m# Checking the Cuisine_type\u001b[39;00m\n\u001b[0;32m----> 2\u001b[0m df_nodup[\u001b[39m'\u001b[39m\u001b[39mCuisine_type\u001b[39m\u001b[39m'\u001b[39m]\u001b[39m.\u001b[39mvalue_counts(normalize\u001b[39m=\u001b[39m\u001b[39mTrue\u001b[39;00m)\n",
      "\u001b[0;31mNameError\u001b[0m: name 'df_nodup' is not defined"
     ]
=======
   "execution_count": 16,
   "metadata": {},
   "outputs": [
    {
     "data": {
      "text/plain": [
       "Cuisine_type\n",
       "american            0.607237\n",
       "mediterranean       0.065132\n",
       "italian             0.053289\n",
       "french              0.050000\n",
       "asian               0.044079\n",
       "indian              0.031579\n",
       "south east asian    0.030263\n",
       "mexican             0.025000\n",
       "south american      0.020395\n",
       "british             0.017763\n",
       "japanese            0.015789\n",
       "chinese             0.011184\n",
       "middle eastern      0.009868\n",
       "world               0.006579\n",
       "nordic              0.005921\n",
       "eastern europe      0.002632\n",
       "central europe      0.002632\n",
       "caribbean           0.000658\n",
       "Name: proportion, dtype: float64"
      ]
     },
     "execution_count": 16,
     "metadata": {},
     "output_type": "execute_result"
>>>>>>> 6297944 (7)
    }
   ],
   "source": [
    "# Checking the Cuisine_type\n",
    "df_nodup['Cuisine_type'].value_counts(normalize=True)"
   ]
  },
  {
   "cell_type": "code",
<<<<<<< HEAD
   "execution_count": null,
   "metadata": {},
   "outputs": [
    {
     "ename": "NameError",
     "evalue": "name 'df_nodup' is not defined",
     "output_type": "error",
     "traceback": [
      "\u001b[0;31m---------------------------------------------------------------------------\u001b[0m",
      "\u001b[0;31mNameError\u001b[0m                                 Traceback (most recent call last)",
      "Cell \u001b[0;32mIn[4], line 2\u001b[0m\n\u001b[1;32m      1\u001b[0m \u001b[39m# Check Protein(g), Carbs(g) and Fat(g)\u001b[39;00m\n\u001b[0;32m----> 2\u001b[0m df_nodup\u001b[39m.\u001b[39mdescribe()\n",
      "\u001b[0;31mNameError\u001b[0m: name 'df_nodup' is not defined"
     ]
=======
   "execution_count": 17,
   "metadata": {},
   "outputs": [
    {
     "data": {
      "text/html": [
       "<div>\n",
       "<style scoped>\n",
       "    .dataframe tbody tr th:only-of-type {\n",
       "        vertical-align: middle;\n",
       "    }\n",
       "\n",
       "    .dataframe tbody tr th {\n",
       "        vertical-align: top;\n",
       "    }\n",
       "\n",
       "    .dataframe thead th {\n",
       "        text-align: right;\n",
       "    }\n",
       "</style>\n",
       "<table border=\"1\" class=\"dataframe\">\n",
       "  <thead>\n",
       "    <tr style=\"text-align: right;\">\n",
       "      <th></th>\n",
       "      <th>Protein(g)</th>\n",
       "      <th>Carbs(g)</th>\n",
       "      <th>Fat(g)</th>\n",
       "    </tr>\n",
       "  </thead>\n",
       "  <tbody>\n",
       "    <tr>\n",
       "      <th>count</th>\n",
       "      <td>1520.000000</td>\n",
       "      <td>1520.000000</td>\n",
       "      <td>1520.000000</td>\n",
       "    </tr>\n",
       "    <tr>\n",
       "      <th>mean</th>\n",
       "      <td>56.227658</td>\n",
       "      <td>254.133382</td>\n",
       "      <td>103.405691</td>\n",
       "    </tr>\n",
       "    <tr>\n",
       "      <th>std</th>\n",
       "      <td>47.156725</td>\n",
       "      <td>223.484745</td>\n",
       "      <td>120.394498</td>\n",
       "    </tr>\n",
       "    <tr>\n",
       "      <th>min</th>\n",
       "      <td>0.360000</td>\n",
       "      <td>0.100000</td>\n",
       "      <td>0.060000</td>\n",
       "    </tr>\n",
       "    <tr>\n",
       "      <th>25%</th>\n",
       "      <td>25.282500</td>\n",
       "      <td>106.532500</td>\n",
       "      <td>39.840000</td>\n",
       "    </tr>\n",
       "    <tr>\n",
       "      <th>50%</th>\n",
       "      <td>44.685000</td>\n",
       "      <td>201.620000</td>\n",
       "      <td>71.815000</td>\n",
       "    </tr>\n",
       "    <tr>\n",
       "      <th>75%</th>\n",
       "      <td>74.672500</td>\n",
       "      <td>340.512500</td>\n",
       "      <td>128.297500</td>\n",
       "    </tr>\n",
       "    <tr>\n",
       "      <th>max</th>\n",
       "      <td>431.100000</td>\n",
       "      <td>3204.430000</td>\n",
       "      <td>1930.240000</td>\n",
       "    </tr>\n",
       "  </tbody>\n",
       "</table>\n",
       "</div>"
      ],
      "text/plain": [
       "        Protein(g)     Carbs(g)       Fat(g)\n",
       "count  1520.000000  1520.000000  1520.000000\n",
       "mean     56.227658   254.133382   103.405691\n",
       "std      47.156725   223.484745   120.394498\n",
       "min       0.360000     0.100000     0.060000\n",
       "25%      25.282500   106.532500    39.840000\n",
       "50%      44.685000   201.620000    71.815000\n",
       "75%      74.672500   340.512500   128.297500\n",
       "max     431.100000  3204.430000  1930.240000"
      ]
     },
     "execution_count": 17,
     "metadata": {},
     "output_type": "execute_result"
>>>>>>> 6297944 (7)
    }
   ],
   "source": [
    "# Check Protein(g), Carbs(g) and Fat(g)\n",
    "df_nodup.describe()"
   ]
  }
 ],
 "metadata": {
  "kernelspec": {
   "display_name": "Python 3",
   "language": "python",
   "name": "python3"
  },
  "language_info": {
   "codemirror_mode": {
    "name": "ipython",
    "version": 3
   },
   "file_extension": ".py",
   "mimetype": "text/x-python",
   "name": "python",
   "nbconvert_exporter": "python",
   "pygments_lexer": "ipython3",
   "version": "3.9.6"
  },
  "orig_nbformat": 4,
  "vscode": {
   "interpreter": {
    "hash": "31f2aee4e71d21fbe5cf8b01ff0e069b9275f58929596ceb00d14d90e3e16cd6"
   }
  }
 },
 "nbformat": 4,
 "nbformat_minor": 2
}
