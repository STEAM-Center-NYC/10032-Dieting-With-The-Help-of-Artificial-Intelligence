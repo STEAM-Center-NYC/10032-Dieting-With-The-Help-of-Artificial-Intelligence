{
 "cells": [
  {
   "cell_type": "code",
   "execution_count": 7,
   "metadata": {},
   "outputs": [
    {
     "name": "stderr",
     "output_type": "stream",
     "text": [
      "/Users/ECU/Library/Python/3.9/lib/python/site-packages/tqdm/auto.py:22: TqdmWarning: IProgress not found. Please update jupyter and ipywidgets. See https://ipywidgets.readthedocs.io/en/stable/user_install.html\n",
      "  from .autonotebook import tqdm as notebook_tqdm\n",
      "Generate config GenerationConfig {\n",
      "  \"bos_token_id\": 50256,\n",
      "  \"eos_token_id\": 50256,\n",
      "  \"transformers_version\": \"4.26.1\"\n",
      "}\n",
      "\n",
      "loading configuration file generation_config.json from cache at aitextgen/models--gpt2/snapshots/e7da7f221d5bf496a48136c0cd264e630fe9fcc8/generation_config.json\n",
      "Generate config GenerationConfig {\n",
      "  \"_from_model_config\": true,\n",
      "  \"bos_token_id\": 50256,\n",
      "  \"eos_token_id\": 50256,\n",
      "  \"transformers_version\": \"4.26.1\"\n",
      "}\n",
      "\n"
     ]
    }
   ],
   "source": [
    "from aitextgen import aitextgen\n",
    "ai = aitextgen(model='gpt2')"
   ]
  },
  {
   "cell_type": "code",
   "execution_count": 8,
   "metadata": {},
   "outputs": [
    {
     "name": "stderr",
     "output_type": "stream",
     "text": [
      "Generate config GenerationConfig {\n",
      "  \"bos_token_id\": 50256,\n",
      "  \"eos_token_id\": 50256,\n",
      "  \"transformers_version\": \"4.26.1\"\n",
      "}\n",
      "\n"
     ]
    },
    {
     "name": "stdout",
     "output_type": "stream",
     "text": [
      "\u001b[1mIndian government\u001b[0m's first attempt to introduce a bill to legalize marijuana. The act was not adopted by the state legislature.\n",
      "\n",
      "The bill was eventually approved by the state legislature in May after a petition signed by more than 100,000 people. It was sponsored by state Sen. Chris LeBeau, D-Fort Worth, who said the bill was needed to prevent the spread of the drug in schools.\n",
      "\n",
      "LeBeau said the bill would allow medical marijuana dispensaries in cities like Austin, Austin's biggest city. He said it would not be in line with the federal government's stance on marijuana legalization.\n",
      "\n",
      "\"This is the first time we're going to be looking at that in terms of having something that's legal in Colorado,\" he said.\n",
      "\n",
      "LeBeau said that with the legalization of marijuana, people would be able to purchase their marijuana in private stores and dispensaries.\n",
      "\n",
      "But he said it would be too late for the state to get on board with the bill.\n",
      "\n",
      "\"It is very clear, if you are in a state that is already legalized, you will be not able to buy that for yourself in a dispensary,\" LeBeau said. \"What is a federal right and what is not, is that you will be able to sell it to the federal government. And if you're a state that has no right, then you will be able to do that.\"\n",
      "\n",
      "LeBeau said that because the bill has passed the state legislature, it was decided that it was time for it to be put to a vote.\n",
      "\n",
      "\"We are going to get it passed, and that's why it's here,\" LeBeau said.\n",
      "==========\n",
      "\u001b[1mIndian government\u001b[0m and a government-sponsored, state-funded health centre in the city of Chittagong.\n",
      "\n",
      "The hospital, run by the State Health Department, has a budget of $17.5 million, but the main focus of the hospital is to treat patients from impoverished families, who are often under the poverty line.\n",
      "\n",
      "The government says it will provide $10 million in subsidies to help families who have been affected by the earthquake.\n",
      "\n",
      "The Health Ministry says the hospitals are in the best condition and are operating at a level of safety and efficiency that was previously expected, but could deteriorate as more people are affected.\n",
      "\n",
      "But the government says the government will not provide any additional funding in return for the assistance.\n",
      "None\n"
     ]
    }
   ],
   "source": [
    "print(ai.generate(n=2,\n",
    "                  prompt= 'Indian government' ,\n",
    "                  max_length = 350,\n",
    "                  temperature = 0.7,\n",
    "                  do_sample = True,\n",
    "                  return_as_list = False,\n",
    "                  seed = 42\n",
    "                  ))"
   ]
  },
  {
   "cell_type": "code",
   "execution_count": 9,
   "metadata": {},
   "outputs": [
    {
     "name": "stderr",
     "output_type": "stream",
     "text": [
      "Generate config GenerationConfig {\n",
      "  \"bos_token_id\": 50256,\n",
      "  \"eos_token_id\": 50256,\n",
      "  \"transformers_version\": \"4.26.1\"\n",
      "}\n",
      "\n",
      "A decoder-only architecture is being used, but right-padding was detected! For correct generation results, please set `padding_side='left'` when initializing the tokenizer.\n"
     ]
    },
    {
     "name": "stdout",
     "output_type": "stream",
     "text": [
      "\"For me, the hardest thing was trying to understand why I was not doing what I was doing at all. There's no one else who would think I was doing it.\"\n",
      "\n",
      "The question was posed to him by his mother, who was pregnant with his son before he was born.\n",
      "\n",
      "He said: \"The reason you're not doing what you were doing at all was because you wanted to die. You were trying to be a part of the world. You wanted to be a part of people. You wanted to know who you were, what you were doing and where you came from.\n",
      "\n",
      "\"So you got into an argument with your mother and she said: 'That's not what you're doing.' I said: 'No-no, it's not what you were doing, you're doing it to escape the world and to help others that need it – for me, the hardest thing was trying to understand why I was not doing what I was doing at all. There's no one else who would think I was doing it.\"\n",
      "==========\n",
      "Categories Categories Select Category Aime & Music History/Drama Dancer Dancing Dancer Dance Performances Fiction Documentary Documentary Documentary Drama Drama Drama/Fantasy Fiction Fiction/Graphic Novels/Movies/TV Shows/Music Musical Music Music/Oscars Movies Music/Oscars Music/Oscars Music/Oscars Music/Oscars Music/Oscars Music/Oscars Music/Oscars Music/Oscars Music/Oscars Music/Oscars Music/Oscars Music/Oscars Music/Oscars Music/Oscars Music/Oscars Music/Oscars Music/Oscars Music/Oscars Music/Oscars Music/Oscars Music/Oscars Music/Oscars Music/Oscars Music/Oscars Music/Oscars Music/Oscars Music/Oscars Music/Oscars Music/Oscars Music/Oscars Music/Oscars Music/Oscars Music/Oscars Music/Oscars Music/Oscars Music/Oscars Music/Oscars Music/Oscars Music/Oscars Music/Oscars Music/Oscars Music/Oscars Music/Oscars Music/Oscars Music/Oscars Music/Oscars Music/Oscars Music/Oscars Music/Oscars Music/Oscars Music/Oscars Music/Oscars Music/Oscars Music/Oscars Music/Oscars Music/Oscars Music/Oscars Music/Oscars Music/\n",
      "None\n"
     ]
    }
   ],
   "source": [
    "print(ai.generate(n=2,\n",
    "                  max_length = 350,\n",
    "                  temperature = 0.7,\n",
    "                  do_sample = True,\n",
    "                  return_as_list = False,\n",
    "                  seed = 42\n",
    "                  ))"
   ]
  },
  {
   "cell_type": "code",
   "execution_count": 10,
   "metadata": {},
   "outputs": [],
   "source": [
    "import pandas as pd\n",
    "import numpy as  np"
   ]
  },
  {
   "cell_type": "code",
   "execution_count": 1,
   "metadata": {},
   "outputs": [
    {
     "ename": "NameError",
     "evalue": "name 'pd' is not defined",
     "output_type": "error",
     "traceback": [
      "\u001b[0;31m---------------------------------------------------------------------------\u001b[0m",
      "\u001b[0;31mNameError\u001b[0m                                 Traceback (most recent call last)",
      "Cell \u001b[0;32mIn[1], line 1\u001b[0m\n\u001b[0;32m----> 1\u001b[0m df \u001b[39m=\u001b[39m pd\u001b[39m.\u001b[39mread_csv(\u001b[39m'\u001b[39m\u001b[39m/kaggle/input/healthy-diet-recipes-a-comprehensive-dataset/All_Diets.csv\u001b[39m\u001b[39m'\u001b[39m,sep\u001b[39m=\u001b[39m\u001b[39m'\u001b[39m\u001b[39m,\u001b[39m\u001b[39m'\u001b[39m)\n\u001b[1;32m      2\u001b[0m df\u001b[39m.\u001b[39mhead()\n",
      "\u001b[0;31mNameError\u001b[0m: name 'pd' is not defined"
     ]
    }
   ],
   "source": [
    "df = pd.read_csv('/kaggle/input/healthy-diet-recipes-a-comprehensive-dataset/All_Diets.csv',sep=',')\n",
    "print(df.head())"
   ]
  }
 ],
 "metadata": {
  "kernelspec": {
   "display_name": "Python 3",
   "language": "python",
   "name": "python3"
  },
  "language_info": {
   "codemirror_mode": {
    "name": "ipython",
    "version": 3
   },
   "file_extension": ".py",
   "mimetype": "text/x-python",
   "name": "python",
   "nbconvert_exporter": "python",
   "pygments_lexer": "ipython3",
   "version": "3.9.6 (default, Oct 18 2022, 12:41:40) \n[Clang 14.0.0 (clang-1400.0.29.202)]"
  },
  "orig_nbformat": 4,
  "vscode": {
   "interpreter": {
    "hash": "31f2aee4e71d21fbe5cf8b01ff0e069b9275f58929596ceb00d14d90e3e16cd6"
   }
  }
 },
 "nbformat": 4,
 "nbformat_minor": 2
}
