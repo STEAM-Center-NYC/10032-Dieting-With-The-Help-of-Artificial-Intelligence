{
 "cells": [
  {
   "cell_type": "code",
<<<<<<< HEAD
   "execution_count": 15,
=======
   "execution_count": 1,
>>>>>>> 09f7be9 (u)
   "metadata": {},
   "outputs": [
    {
     "name": "stderr",
     "output_type": "stream",
     "text": [
      "/Users/ECU/Library/Python/3.9/lib/python/site-packages/tqdm/auto.py:22: TqdmWarning: IProgress not found. Please update jupyter and ipywidgets. See https://ipywidgets.readthedocs.io/en/stable/user_install.html\n",
      "  from .autonotebook import tqdm as notebook_tqdm\n",
      "Generate config GenerationConfig {\n",
      "  \"bos_token_id\": 50256,\n",
      "  \"eos_token_id\": 50256,\n",
      "  \"transformers_version\": \"4.26.1\"\n",
      "}\n",
      "\n",
      "loading configuration file generation_config.json from cache at aitextgen/models--gpt2/snapshots/e7da7f221d5bf496a48136c0cd264e630fe9fcc8/generation_config.json\n",
      "Generate config GenerationConfig {\n",
      "  \"_from_model_config\": true,\n",
      "  \"bos_token_id\": 50256,\n",
      "  \"eos_token_id\": 50256,\n",
      "  \"transformers_version\": \"4.26.1\"\n",
      "}\n",
      "\n"
     ]
    }
   ],
   "source": [
    "from aitextgen import aitextgen\n",
    "ai = aitextgen(model='gpt2')"
   ]
  },
  {
   "cell_type": "code",
<<<<<<< HEAD
   "execution_count": 16,
=======
   "execution_count": 2,
>>>>>>> 09f7be9 (u)
   "metadata": {},
   "outputs": [
    {
     "name": "stderr",
     "output_type": "stream",
     "text": [
      "Generate config GenerationConfig {\n",
      "  \"bos_token_id\": 50256,\n",
      "  \"eos_token_id\": 50256,\n",
      "  \"transformers_version\": \"4.26.1\"\n",
      "}\n",
      "\n"
     ]
    },
    {
     "name": "stdout",
     "output_type": "stream",
     "text": [
      "\u001b[1mIndian government\u001b[0m's first attempt to introduce a bill to legalize marijuana. The act was not adopted by the state legislature.\n",
      "\n",
      "The bill was eventually approved by the state legislature in May after a petition signed by more than 100,000 people. It was sponsored by state Sen. Chris LeBeau, D-Fort Worth, who said the bill was needed to prevent the spread of the drug in schools.\n",
      "\n",
      "LeBeau said the bill would allow medical marijuana dispensaries in cities like Austin, Austin's biggest city. He said it would not be in line with the federal government's stance on marijuana legalization.\n",
      "\n",
      "\"This is the first time we're going to be looking at that in terms of having something that's legal in Colorado,\" he said.\n",
      "\n",
      "LeBeau said that with the legalization of marijuana, people would be able to purchase their marijuana in private stores and dispensaries.\n",
      "\n",
      "But he said it would be too late for the state to get on board with the bill.\n",
      "\n",
      "\"It is very clear, if you are in a state that is already legalized, you will be not able to buy that for yourself in a dispensary,\" LeBeau said. \"What is a federal right and what is not, is that you will be able to sell it to the federal government. And if you're a state that has no right, then you will be able to do that.\"\n",
      "\n",
      "LeBeau said that because the bill has passed the state legislature, it was decided that it was time for it to be put to a vote.\n",
      "\n",
      "\"We are going to get it passed, and that's why it's here,\" LeBeau said.\n",
      "==========\n",
      "\u001b[1mIndian government\u001b[0m and a government-sponsored, state-funded health centre in the city of Chittagong.\n",
      "\n",
      "The hospital, run by the State Health Department, has a budget of $17.5 million, but the main focus of the hospital is to treat patients from impoverished families, who are often under the poverty line.\n",
      "\n",
      "The government says it will provide $10 million in subsidies to help families who have been affected by the earthquake.\n",
      "\n",
      "The Health Ministry says the hospitals are in the best condition and are operating at a level of safety and efficiency that was previously expected, but could deteriorate as more people are affected.\n",
      "\n",
      "But the government says the government will not provide any additional funding in return for the assistance.\n",
      "None\n"
     ]
    }
   ],
   "source": [
    "print(ai.generate(n=2,\n",
    "                  prompt= 'Indian government' ,\n",
    "                  max_length = 350,\n",
    "                  temperature = 0.7,\n",
    "                  do_sample = True,\n",
    "                  return_as_list = False,\n",
    "                  seed = 42\n",
    "                  ))"
   ]
  },
  {
   "cell_type": "code",
<<<<<<< HEAD
   "execution_count": 17,
=======
   "execution_count": 3,
>>>>>>> 09f7be9 (u)
   "metadata": {},
   "outputs": [
    {
     "name": "stderr",
     "output_type": "stream",
     "text": [
      "Generate config GenerationConfig {\n",
      "  \"bos_token_id\": 50256,\n",
      "  \"eos_token_id\": 50256,\n",
      "  \"transformers_version\": \"4.26.1\"\n",
      "}\n",
      "\n",
      "A decoder-only architecture is being used, but right-padding was detected! For correct generation results, please set `padding_side='left'` when initializing the tokenizer.\n"
     ]
    },
    {
     "name": "stdout",
     "output_type": "stream",
     "text": [
      "\"For me, the hardest thing was trying to understand why I was not doing what I was doing at all. There's no one else who would think I was doing it.\"\n",
      "\n",
      "The question was posed to him by his mother, who was pregnant with his son before he was born.\n",
      "\n",
      "He said: \"The reason you're not doing what you were doing at all was because you wanted to die. You were trying to be a part of the world. You wanted to be a part of people. You wanted to know who you were, what you were doing and where you came from.\n",
      "\n",
      "\"So you got into an argument with your mother and she said: 'That's not what you're doing.' I said: 'No-no, it's not what you were doing, you're doing it to escape the world and to help others that need it – for me, the hardest thing was trying to understand why I was not doing what I was doing at all. There's no one else who would think I was doing it.\"\n",
      "==========\n",
      "Categories Categories Select Category Aime & Music History/Drama Dancer Dancing Dancer Dance Performances Fiction Documentary Documentary Documentary Drama Drama Drama/Fantasy Fiction Fiction/Graphic Novels/Movies/TV Shows/Music Musical Music Music/Oscars Movies Music/Oscars Music/Oscars Music/Oscars Music/Oscars Music/Oscars Music/Oscars Music/Oscars Music/Oscars Music/Oscars Music/Oscars Music/Oscars Music/Oscars Music/Oscars Music/Oscars Music/Oscars Music/Oscars Music/Oscars Music/Oscars Music/Oscars Music/Oscars Music/Oscars Music/Oscars Music/Oscars Music/Oscars Music/Oscars Music/Oscars Music/Oscars Music/Oscars Music/Oscars Music/Oscars Music/Oscars Music/Oscars Music/Oscars Music/Oscars Music/Oscars Music/Oscars Music/Oscars Music/Oscars Music/Oscars Music/Oscars Music/Oscars Music/Oscars Music/Oscars Music/Oscars Music/Oscars Music/Oscars Music/Oscars Music/Oscars Music/Oscars Music/Oscars Music/Oscars Music/Oscars Music/Oscars Music/Oscars Music/Oscars Music/Oscars Music/Oscars Music/Oscars Music/\n",
      "None\n"
     ]
    }
   ],
   "source": [
    "print(ai.generate(n=2,\n",
    "                  max_length = 350,\n",
    "                  temperature = 0.7,\n",
    "                  do_sample = True,\n",
    "                  return_as_list = False,\n",
    "                  seed = 42\n",
    "                  ))"
   ]
  },
  {
   "cell_type": "code",
<<<<<<< HEAD
   "execution_count": 18,
=======
   "execution_count": 4,
>>>>>>> 09f7be9 (u)
   "metadata": {},
   "outputs": [],
   "source": [
    "import pandas as pd\n",
    "import numpy as np"
   ]
  },
  {
   "cell_type": "code",
<<<<<<< HEAD
   "execution_count": 19,
   "metadata": {},
   "outputs": [
    {
     "ename": "FileNotFoundError",
     "evalue": "[Errno 2] No such file or directory: '/Users/ECU/Downloads/archive/All_Diets.csv'",
     "output_type": "error",
     "traceback": [
      "\u001b[0;31m---------------------------------------------------------------------------\u001b[0m",
      "\u001b[0;31mFileNotFoundError\u001b[0m                         Traceback (most recent call last)",
      "Cell \u001b[0;32mIn[19], line 1\u001b[0m\n\u001b[0;32m----> 1\u001b[0m df \u001b[39m=\u001b[39m pd\u001b[39m.\u001b[39;49mread_csv(\u001b[39m'\u001b[39;49m\u001b[39m/Users/ECU/Downloads/archive/All_Diets.csv\u001b[39;49m\u001b[39m'\u001b[39;49m,sep\u001b[39m=\u001b[39;49m\u001b[39m'\u001b[39;49m\u001b[39m,\u001b[39;49m\u001b[39m'\u001b[39;49m)\n\u001b[1;32m      2\u001b[0m df\u001b[39m.\u001b[39mhead()\n",
      "File \u001b[0;32m~/Library/Python/3.9/lib/python/site-packages/pandas/io/parsers/readers.py:912\u001b[0m, in \u001b[0;36mread_csv\u001b[0;34m(filepath_or_buffer, sep, delimiter, header, names, index_col, usecols, dtype, engine, converters, true_values, false_values, skipinitialspace, skiprows, skipfooter, nrows, na_values, keep_default_na, na_filter, verbose, skip_blank_lines, parse_dates, infer_datetime_format, keep_date_col, date_parser, date_format, dayfirst, cache_dates, iterator, chunksize, compression, thousands, decimal, lineterminator, quotechar, quoting, doublequote, escapechar, comment, encoding, encoding_errors, dialect, on_bad_lines, delim_whitespace, low_memory, memory_map, float_precision, storage_options, dtype_backend)\u001b[0m\n\u001b[1;32m    899\u001b[0m kwds_defaults \u001b[39m=\u001b[39m _refine_defaults_read(\n\u001b[1;32m    900\u001b[0m     dialect,\n\u001b[1;32m    901\u001b[0m     delimiter,\n\u001b[0;32m   (...)\u001b[0m\n\u001b[1;32m    908\u001b[0m     dtype_backend\u001b[39m=\u001b[39mdtype_backend,\n\u001b[1;32m    909\u001b[0m )\n\u001b[1;32m    910\u001b[0m kwds\u001b[39m.\u001b[39mupdate(kwds_defaults)\n\u001b[0;32m--> 912\u001b[0m \u001b[39mreturn\u001b[39;00m _read(filepath_or_buffer, kwds)\n",
      "File \u001b[0;32m~/Library/Python/3.9/lib/python/site-packages/pandas/io/parsers/readers.py:577\u001b[0m, in \u001b[0;36m_read\u001b[0;34m(filepath_or_buffer, kwds)\u001b[0m\n\u001b[1;32m    574\u001b[0m _validate_names(kwds\u001b[39m.\u001b[39mget(\u001b[39m\"\u001b[39m\u001b[39mnames\u001b[39m\u001b[39m\"\u001b[39m, \u001b[39mNone\u001b[39;00m))\n\u001b[1;32m    576\u001b[0m \u001b[39m# Create the parser.\u001b[39;00m\n\u001b[0;32m--> 577\u001b[0m parser \u001b[39m=\u001b[39m TextFileReader(filepath_or_buffer, \u001b[39m*\u001b[39;49m\u001b[39m*\u001b[39;49mkwds)\n\u001b[1;32m    579\u001b[0m \u001b[39mif\u001b[39;00m chunksize \u001b[39mor\u001b[39;00m iterator:\n\u001b[1;32m    580\u001b[0m     \u001b[39mreturn\u001b[39;00m parser\n",
      "File \u001b[0;32m~/Library/Python/3.9/lib/python/site-packages/pandas/io/parsers/readers.py:1407\u001b[0m, in \u001b[0;36mTextFileReader.__init__\u001b[0;34m(self, f, engine, **kwds)\u001b[0m\n\u001b[1;32m   1404\u001b[0m     \u001b[39mself\u001b[39m\u001b[39m.\u001b[39moptions[\u001b[39m\"\u001b[39m\u001b[39mhas_index_names\u001b[39m\u001b[39m\"\u001b[39m] \u001b[39m=\u001b[39m kwds[\u001b[39m\"\u001b[39m\u001b[39mhas_index_names\u001b[39m\u001b[39m\"\u001b[39m]\n\u001b[1;32m   1406\u001b[0m \u001b[39mself\u001b[39m\u001b[39m.\u001b[39mhandles: IOHandles \u001b[39m|\u001b[39m \u001b[39mNone\u001b[39;00m \u001b[39m=\u001b[39m \u001b[39mNone\u001b[39;00m\n\u001b[0;32m-> 1407\u001b[0m \u001b[39mself\u001b[39m\u001b[39m.\u001b[39m_engine \u001b[39m=\u001b[39m \u001b[39mself\u001b[39;49m\u001b[39m.\u001b[39;49m_make_engine(f, \u001b[39mself\u001b[39;49m\u001b[39m.\u001b[39;49mengine)\n",
      "File \u001b[0;32m~/Library/Python/3.9/lib/python/site-packages/pandas/io/parsers/readers.py:1661\u001b[0m, in \u001b[0;36mTextFileReader._make_engine\u001b[0;34m(self, f, engine)\u001b[0m\n\u001b[1;32m   1659\u001b[0m     \u001b[39mif\u001b[39;00m \u001b[39m\"\u001b[39m\u001b[39mb\u001b[39m\u001b[39m\"\u001b[39m \u001b[39mnot\u001b[39;00m \u001b[39min\u001b[39;00m mode:\n\u001b[1;32m   1660\u001b[0m         mode \u001b[39m+\u001b[39m\u001b[39m=\u001b[39m \u001b[39m\"\u001b[39m\u001b[39mb\u001b[39m\u001b[39m\"\u001b[39m\n\u001b[0;32m-> 1661\u001b[0m \u001b[39mself\u001b[39m\u001b[39m.\u001b[39mhandles \u001b[39m=\u001b[39m get_handle(\n\u001b[1;32m   1662\u001b[0m     f,\n\u001b[1;32m   1663\u001b[0m     mode,\n\u001b[1;32m   1664\u001b[0m     encoding\u001b[39m=\u001b[39;49m\u001b[39mself\u001b[39;49m\u001b[39m.\u001b[39;49moptions\u001b[39m.\u001b[39;49mget(\u001b[39m\"\u001b[39;49m\u001b[39mencoding\u001b[39;49m\u001b[39m\"\u001b[39;49m, \u001b[39mNone\u001b[39;49;00m),\n\u001b[1;32m   1665\u001b[0m     compression\u001b[39m=\u001b[39;49m\u001b[39mself\u001b[39;49m\u001b[39m.\u001b[39;49moptions\u001b[39m.\u001b[39;49mget(\u001b[39m\"\u001b[39;49m\u001b[39mcompression\u001b[39;49m\u001b[39m\"\u001b[39;49m, \u001b[39mNone\u001b[39;49;00m),\n\u001b[1;32m   1666\u001b[0m     memory_map\u001b[39m=\u001b[39;49m\u001b[39mself\u001b[39;49m\u001b[39m.\u001b[39;49moptions\u001b[39m.\u001b[39;49mget(\u001b[39m\"\u001b[39;49m\u001b[39mmemory_map\u001b[39;49m\u001b[39m\"\u001b[39;49m, \u001b[39mFalse\u001b[39;49;00m),\n\u001b[1;32m   1667\u001b[0m     is_text\u001b[39m=\u001b[39;49mis_text,\n\u001b[1;32m   1668\u001b[0m     errors\u001b[39m=\u001b[39;49m\u001b[39mself\u001b[39;49m\u001b[39m.\u001b[39;49moptions\u001b[39m.\u001b[39;49mget(\u001b[39m\"\u001b[39;49m\u001b[39mencoding_errors\u001b[39;49m\u001b[39m\"\u001b[39;49m, \u001b[39m\"\u001b[39;49m\u001b[39mstrict\u001b[39;49m\u001b[39m\"\u001b[39;49m),\n\u001b[1;32m   1669\u001b[0m     storage_options\u001b[39m=\u001b[39;49m\u001b[39mself\u001b[39;49m\u001b[39m.\u001b[39;49moptions\u001b[39m.\u001b[39;49mget(\u001b[39m\"\u001b[39;49m\u001b[39mstorage_options\u001b[39;49m\u001b[39m\"\u001b[39;49m, \u001b[39mNone\u001b[39;49;00m),\n\u001b[1;32m   1670\u001b[0m )\n\u001b[1;32m   1671\u001b[0m \u001b[39massert\u001b[39;00m \u001b[39mself\u001b[39m\u001b[39m.\u001b[39mhandles \u001b[39mis\u001b[39;00m \u001b[39mnot\u001b[39;00m \u001b[39mNone\u001b[39;00m\n\u001b[1;32m   1672\u001b[0m f \u001b[39m=\u001b[39m \u001b[39mself\u001b[39m\u001b[39m.\u001b[39mhandles\u001b[39m.\u001b[39mhandle\n",
      "File \u001b[0;32m~/Library/Python/3.9/lib/python/site-packages/pandas/io/common.py:859\u001b[0m, in \u001b[0;36mget_handle\u001b[0;34m(path_or_buf, mode, encoding, compression, memory_map, is_text, errors, storage_options)\u001b[0m\n\u001b[1;32m    854\u001b[0m \u001b[39melif\u001b[39;00m \u001b[39misinstance\u001b[39m(handle, \u001b[39mstr\u001b[39m):\n\u001b[1;32m    855\u001b[0m     \u001b[39m# Check whether the filename is to be opened in binary mode.\u001b[39;00m\n\u001b[1;32m    856\u001b[0m     \u001b[39m# Binary mode does not support 'encoding' and 'newline'.\u001b[39;00m\n\u001b[1;32m    857\u001b[0m     \u001b[39mif\u001b[39;00m ioargs\u001b[39m.\u001b[39mencoding \u001b[39mand\u001b[39;00m \u001b[39m\"\u001b[39m\u001b[39mb\u001b[39m\u001b[39m\"\u001b[39m \u001b[39mnot\u001b[39;00m \u001b[39min\u001b[39;00m ioargs\u001b[39m.\u001b[39mmode:\n\u001b[1;32m    858\u001b[0m         \u001b[39m# Encoding\u001b[39;00m\n\u001b[0;32m--> 859\u001b[0m         handle \u001b[39m=\u001b[39m \u001b[39mopen\u001b[39;49m(\n\u001b[1;32m    860\u001b[0m             handle,\n\u001b[1;32m    861\u001b[0m             ioargs\u001b[39m.\u001b[39;49mmode,\n\u001b[1;32m    862\u001b[0m             encoding\u001b[39m=\u001b[39;49mioargs\u001b[39m.\u001b[39;49mencoding,\n\u001b[1;32m    863\u001b[0m             errors\u001b[39m=\u001b[39;49merrors,\n\u001b[1;32m    864\u001b[0m             newline\u001b[39m=\u001b[39;49m\u001b[39m\"\u001b[39;49m\u001b[39m\"\u001b[39;49m,\n\u001b[1;32m    865\u001b[0m         )\n\u001b[1;32m    866\u001b[0m     \u001b[39melse\u001b[39;00m:\n\u001b[1;32m    867\u001b[0m         \u001b[39m# Binary mode\u001b[39;00m\n\u001b[1;32m    868\u001b[0m         handle \u001b[39m=\u001b[39m \u001b[39mopen\u001b[39m(handle, ioargs\u001b[39m.\u001b[39mmode)\n",
      "\u001b[0;31mFileNotFoundError\u001b[0m: [Errno 2] No such file or directory: '/Users/ECU/Downloads/archive/All_Diets.csv'"
     ]
=======
   "execution_count": 5,
   "metadata": {},
   "outputs": [
    {
     "data": {
      "text/html": [
       "<div>\n",
       "<style scoped>\n",
       "    .dataframe tbody tr th:only-of-type {\n",
       "        vertical-align: middle;\n",
       "    }\n",
       "\n",
       "    .dataframe tbody tr th {\n",
       "        vertical-align: top;\n",
       "    }\n",
       "\n",
       "    .dataframe thead th {\n",
       "        text-align: right;\n",
       "    }\n",
       "</style>\n",
       "<table border=\"1\" class=\"dataframe\">\n",
       "  <thead>\n",
       "    <tr style=\"text-align: right;\">\n",
       "      <th></th>\n",
       "      <th>Diet_type</th>\n",
       "      <th>Recipe_name</th>\n",
       "      <th>Cuisine_type</th>\n",
       "      <th>Protein(g)</th>\n",
       "      <th>Carbs(g)</th>\n",
       "      <th>Fat(g)</th>\n",
       "      <th>Extraction_day</th>\n",
       "      <th>Extraction_time</th>\n",
       "    </tr>\n",
       "  </thead>\n",
       "  <tbody>\n",
       "    <tr>\n",
       "      <th>0</th>\n",
       "      <td>paleo</td>\n",
       "      <td>Bone Broth From 'Nom Nom Paleo'</td>\n",
       "      <td>american</td>\n",
       "      <td>5.22</td>\n",
       "      <td>1.29</td>\n",
       "      <td>3.20</td>\n",
       "      <td>2022-10-16</td>\n",
       "      <td>17:20:09</td>\n",
       "    </tr>\n",
       "    <tr>\n",
       "      <th>1</th>\n",
       "      <td>paleo</td>\n",
       "      <td>Paleo Effect Asian-Glazed Pork Sides, A Sweet ...</td>\n",
       "      <td>south east asian</td>\n",
       "      <td>181.55</td>\n",
       "      <td>28.62</td>\n",
       "      <td>146.14</td>\n",
       "      <td>2022-10-16</td>\n",
       "      <td>17:20:09</td>\n",
       "    </tr>\n",
       "    <tr>\n",
       "      <th>2</th>\n",
       "      <td>paleo</td>\n",
       "      <td>Paleo Pumpkin Pie</td>\n",
       "      <td>american</td>\n",
       "      <td>30.91</td>\n",
       "      <td>302.59</td>\n",
       "      <td>96.76</td>\n",
       "      <td>2022-10-16</td>\n",
       "      <td>17:20:09</td>\n",
       "    </tr>\n",
       "    <tr>\n",
       "      <th>3</th>\n",
       "      <td>paleo</td>\n",
       "      <td>Strawberry Guacamole recipes</td>\n",
       "      <td>mexican</td>\n",
       "      <td>9.62</td>\n",
       "      <td>75.78</td>\n",
       "      <td>59.89</td>\n",
       "      <td>2022-10-16</td>\n",
       "      <td>17:20:09</td>\n",
       "    </tr>\n",
       "    <tr>\n",
       "      <th>4</th>\n",
       "      <td>paleo</td>\n",
       "      <td>Asian Cauliflower Fried \"Rice\" From 'Nom Nom P...</td>\n",
       "      <td>chinese</td>\n",
       "      <td>39.84</td>\n",
       "      <td>54.08</td>\n",
       "      <td>71.55</td>\n",
       "      <td>2022-10-16</td>\n",
       "      <td>17:20:09</td>\n",
       "    </tr>\n",
       "  </tbody>\n",
       "</table>\n",
       "</div>"
      ],
      "text/plain": [
       "  Diet_type                                        Recipe_name   \n",
       "0     paleo                    Bone Broth From 'Nom Nom Paleo'  \\\n",
       "1     paleo  Paleo Effect Asian-Glazed Pork Sides, A Sweet ...   \n",
       "2     paleo                                  Paleo Pumpkin Pie   \n",
       "3     paleo                       Strawberry Guacamole recipes   \n",
       "4     paleo  Asian Cauliflower Fried \"Rice\" From 'Nom Nom P...   \n",
       "\n",
       "       Cuisine_type  Protein(g)  Carbs(g)  Fat(g) Extraction_day   \n",
       "0          american        5.22      1.29    3.20     2022-10-16  \\\n",
       "1  south east asian      181.55     28.62  146.14     2022-10-16   \n",
       "2          american       30.91    302.59   96.76     2022-10-16   \n",
       "3           mexican        9.62     75.78   59.89     2022-10-16   \n",
       "4           chinese       39.84     54.08   71.55     2022-10-16   \n",
       "\n",
       "  Extraction_time  \n",
       "0        17:20:09  \n",
       "1        17:20:09  \n",
       "2        17:20:09  \n",
       "3        17:20:09  \n",
       "4        17:20:09  "
      ]
     },
     "execution_count": 5,
     "metadata": {},
     "output_type": "execute_result"
>>>>>>> 09f7be9 (u)
    }
   ],
   "source": [
    "df = pd.read_csv('/Users/ECU/Downloads/archive/All_Diets.csv',sep=',')\n",
    "df.head()"
   ]
  },
  {
   "cell_type": "code",
<<<<<<< HEAD
   "execution_count": null,
=======
   "execution_count": 6,
>>>>>>> 09f7be9 (u)
   "metadata": {},
   "outputs": [
    {
     "data": {
      "text/html": [
       "<div>\n",
       "<style scoped>\n",
       "    .dataframe tbody tr th:only-of-type {\n",
       "        vertical-align: middle;\n",
       "    }\n",
       "\n",
       "    .dataframe tbody tr th {\n",
       "        vertical-align: top;\n",
       "    }\n",
       "\n",
       "    .dataframe thead th {\n",
       "        text-align: right;\n",
       "    }\n",
       "</style>\n",
       "<table border=\"1\" class=\"dataframe\">\n",
       "  <thead>\n",
       "    <tr style=\"text-align: right;\">\n",
       "      <th></th>\n",
       "      <th>Diet_type</th>\n",
       "      <th>Recipe_name</th>\n",
       "      <th>Cuisine_type</th>\n",
       "      <th>Protein(g)</th>\n",
       "      <th>Carbs(g)</th>\n",
       "      <th>Fat(g)</th>\n",
       "      <th>Extraction_day</th>\n",
       "      <th>Extraction_time</th>\n",
       "    </tr>\n",
       "  </thead>\n",
       "  <tbody>\n",
       "    <tr>\n",
       "      <th>0</th>\n",
       "      <td>dash</td>\n",
       "      <td>100-Mile Dash</td>\n",
       "      <td>american</td>\n",
       "      <td>1.90</td>\n",
       "      <td>236.76</td>\n",
       "      <td>1.02</td>\n",
       "      <td>2022-10-16</td>\n",
       "      <td>20:29:20</td>\n",
       "    </tr>\n",
       "    <tr>\n",
       "      <th>1</th>\n",
       "      <td>dash</td>\n",
       "      <td>Goulash In A Dash</td>\n",
       "      <td>french</td>\n",
       "      <td>137.31</td>\n",
       "      <td>120.32</td>\n",
       "      <td>35.92</td>\n",
       "      <td>2022-10-16</td>\n",
       "      <td>20:29:20</td>\n",
       "    </tr>\n",
       "    <tr>\n",
       "      <th>2</th>\n",
       "      <td>dash</td>\n",
       "      <td>Garlicky Wilted Kale (with a dash of Nutmeg)</td>\n",
       "      <td>american</td>\n",
       "      <td>29.41</td>\n",
       "      <td>75.78</td>\n",
       "      <td>47.80</td>\n",
       "      <td>2022-10-16</td>\n",
       "      <td>20:29:20</td>\n",
       "    </tr>\n",
       "    <tr>\n",
       "      <th>3</th>\n",
       "      <td>dash</td>\n",
       "      <td>Modern Cocktail No. 2 Recipe</td>\n",
       "      <td>world</td>\n",
       "      <td>0.06</td>\n",
       "      <td>18.81</td>\n",
       "      <td>0.17</td>\n",
       "      <td>2022-10-16</td>\n",
       "      <td>20:29:20</td>\n",
       "    </tr>\n",
       "    <tr>\n",
       "      <th>4</th>\n",
       "      <td>dash</td>\n",
       "      <td>Three Dots And A Dash</td>\n",
       "      <td>american</td>\n",
       "      <td>0.51</td>\n",
       "      <td>139.67</td>\n",
       "      <td>0.00</td>\n",
       "      <td>2022-10-16</td>\n",
       "      <td>20:29:20</td>\n",
       "    </tr>\n",
       "  </tbody>\n",
       "</table>\n",
       "</div>"
      ],
      "text/plain": [
       "  Diet_type                                   Recipe_name Cuisine_type   \n",
       "0      dash                                 100-Mile Dash     american  \\\n",
       "1      dash                             Goulash In A Dash       french   \n",
       "2      dash  Garlicky Wilted Kale (with a dash of Nutmeg)     american   \n",
       "3      dash                  Modern Cocktail No. 2 Recipe        world   \n",
       "4      dash                         Three Dots And A Dash     american   \n",
       "\n",
       "   Protein(g)  Carbs(g)  Fat(g) Extraction_day Extraction_time  \n",
       "0        1.90    236.76    1.02     2022-10-16        20:29:20  \n",
       "1      137.31    120.32   35.92     2022-10-16        20:29:20  \n",
       "2       29.41     75.78   47.80     2022-10-16        20:29:20  \n",
       "3        0.06     18.81    0.17     2022-10-16        20:29:20  \n",
       "4        0.51    139.67    0.00     2022-10-16        20:29:20  "
      ]
     },
<<<<<<< HEAD
     "execution_count": 178,
=======
     "execution_count": 6,
>>>>>>> 09f7be9 (u)
     "metadata": {},
     "output_type": "execute_result"
    }
   ],
   "source": [
    "df = pd.read_csv('/Users/ECU/Downloads/archive/dash.csv',sep=',')\n",
    "df.head()"
   ]
  },
  {
   "cell_type": "code",
<<<<<<< HEAD
   "execution_count": null,
=======
   "execution_count": 7,
>>>>>>> 09f7be9 (u)
   "metadata": {},
   "outputs": [
    {
     "data": {
      "text/html": [
       "<div>\n",
       "<style scoped>\n",
       "    .dataframe tbody tr th:only-of-type {\n",
       "        vertical-align: middle;\n",
       "    }\n",
       "\n",
       "    .dataframe tbody tr th {\n",
       "        vertical-align: top;\n",
       "    }\n",
       "\n",
       "    .dataframe thead th {\n",
       "        text-align: right;\n",
       "    }\n",
       "</style>\n",
       "<table border=\"1\" class=\"dataframe\">\n",
       "  <thead>\n",
       "    <tr style=\"text-align: right;\">\n",
       "      <th></th>\n",
       "      <th>Diet_type</th>\n",
       "      <th>Recipe_name</th>\n",
       "      <th>Cuisine_type</th>\n",
       "      <th>Protein(g)</th>\n",
       "      <th>Carbs(g)</th>\n",
       "      <th>Fat(g)</th>\n",
       "      <th>Extraction_day</th>\n",
       "      <th>Extraction_time</th>\n",
       "    </tr>\n",
       "  </thead>\n",
       "  <tbody>\n",
       "    <tr>\n",
       "      <th>0</th>\n",
       "      <td>keto</td>\n",
       "      <td>Keto Fat Bombs</td>\n",
       "      <td>american</td>\n",
       "      <td>49.19</td>\n",
       "      <td>79.78</td>\n",
       "      <td>264.40</td>\n",
       "      <td>2022-10-16</td>\n",
       "      <td>17:58:03</td>\n",
       "    </tr>\n",
       "    <tr>\n",
       "      <th>1</th>\n",
       "      <td>keto</td>\n",
       "      <td>Keto Egg Bites Recipe</td>\n",
       "      <td>american</td>\n",
       "      <td>92.86</td>\n",
       "      <td>16.19</td>\n",
       "      <td>86.51</td>\n",
       "      <td>2022-10-16</td>\n",
       "      <td>17:58:03</td>\n",
       "    </tr>\n",
       "    <tr>\n",
       "      <th>2</th>\n",
       "      <td>keto</td>\n",
       "      <td>Keto Key Lime Mousse</td>\n",
       "      <td>american</td>\n",
       "      <td>27.49</td>\n",
       "      <td>23.58</td>\n",
       "      <td>177.43</td>\n",
       "      <td>2022-10-16</td>\n",
       "      <td>17:58:03</td>\n",
       "    </tr>\n",
       "    <tr>\n",
       "      <th>3</th>\n",
       "      <td>keto</td>\n",
       "      <td>Keto Peanut Butter Squares</td>\n",
       "      <td>american</td>\n",
       "      <td>130.00</td>\n",
       "      <td>507.48</td>\n",
       "      <td>362.36</td>\n",
       "      <td>2022-10-16</td>\n",
       "      <td>17:58:03</td>\n",
       "    </tr>\n",
       "    <tr>\n",
       "      <th>4</th>\n",
       "      <td>keto</td>\n",
       "      <td>YOGURT RICE, REINVENTED THE KETO WAY!</td>\n",
       "      <td>mediterranean</td>\n",
       "      <td>21.23</td>\n",
       "      <td>34.78</td>\n",
       "      <td>27.74</td>\n",
       "      <td>2022-10-16</td>\n",
       "      <td>17:58:03</td>\n",
       "    </tr>\n",
       "  </tbody>\n",
       "</table>\n",
       "</div>"
      ],
      "text/plain": [
       "  Diet_type                            Recipe_name   Cuisine_type  Protein(g)   \n",
       "0      keto                         Keto Fat Bombs       american       49.19  \\\n",
       "1      keto                  Keto Egg Bites Recipe       american       92.86   \n",
       "2      keto                   Keto Key Lime Mousse       american       27.49   \n",
       "3      keto             Keto Peanut Butter Squares       american      130.00   \n",
       "4      keto  YOGURT RICE, REINVENTED THE KETO WAY!  mediterranean       21.23   \n",
       "\n",
       "   Carbs(g)  Fat(g) Extraction_day Extraction_time  \n",
       "0     79.78  264.40     2022-10-16        17:58:03  \n",
       "1     16.19   86.51     2022-10-16        17:58:03  \n",
       "2     23.58  177.43     2022-10-16        17:58:03  \n",
       "3    507.48  362.36     2022-10-16        17:58:03  \n",
       "4     34.78   27.74     2022-10-16        17:58:03  "
      ]
     },
<<<<<<< HEAD
     "execution_count": 179,
=======
     "execution_count": 7,
>>>>>>> 09f7be9 (u)
     "metadata": {},
     "output_type": "execute_result"
    }
   ],
   "source": [
    "df = pd.read_csv('/Users/ECU/Downloads/archive/keto.csv',sep=',')\n",
    "df.head()"
   ]
  },
  {
   "cell_type": "code",
<<<<<<< HEAD
   "execution_count": null,
=======
   "execution_count": 8,
>>>>>>> 09f7be9 (u)
   "metadata": {},
   "outputs": [
    {
     "data": {
      "text/html": [
       "<div>\n",
       "<style scoped>\n",
       "    .dataframe tbody tr th:only-of-type {\n",
       "        vertical-align: middle;\n",
       "    }\n",
       "\n",
       "    .dataframe tbody tr th {\n",
       "        vertical-align: top;\n",
       "    }\n",
       "\n",
       "    .dataframe thead th {\n",
       "        text-align: right;\n",
       "    }\n",
       "</style>\n",
       "<table border=\"1\" class=\"dataframe\">\n",
       "  <thead>\n",
       "    <tr style=\"text-align: right;\">\n",
       "      <th></th>\n",
       "      <th>Diet_type</th>\n",
       "      <th>Recipe_name</th>\n",
       "      <th>Cuisine_type</th>\n",
       "      <th>Protein(g)</th>\n",
       "      <th>Carbs(g)</th>\n",
       "      <th>Fat(g)</th>\n",
       "      <th>Extraction_day</th>\n",
       "      <th>Extraction_time</th>\n",
       "    </tr>\n",
       "  </thead>\n",
       "  <tbody>\n",
       "    <tr>\n",
       "      <th>0</th>\n",
       "      <td>mediterranean</td>\n",
       "      <td>Mediterranean Cucumber Tonic</td>\n",
       "      <td>mediterranean</td>\n",
       "      <td>0.25</td>\n",
       "      <td>12.01</td>\n",
       "      <td>0.33</td>\n",
       "      <td>2022-10-16</td>\n",
       "      <td>16:43:14</td>\n",
       "    </tr>\n",
       "    <tr>\n",
       "      <th>1</th>\n",
       "      <td>mediterranean</td>\n",
       "      <td>Loup de Mer (Mediterranean Seabass)</td>\n",
       "      <td>mediterranean</td>\n",
       "      <td>306.14</td>\n",
       "      <td>43.10</td>\n",
       "      <td>26.55</td>\n",
       "      <td>2022-10-16</td>\n",
       "      <td>16:43:14</td>\n",
       "    </tr>\n",
       "    <tr>\n",
       "      <th>2</th>\n",
       "      <td>mediterranean</td>\n",
       "      <td>Mediterranean Baked Trout with Olives, Fennel ...</td>\n",
       "      <td>mediterranean</td>\n",
       "      <td>187.14</td>\n",
       "      <td>42.31</td>\n",
       "      <td>87.94</td>\n",
       "      <td>2022-10-16</td>\n",
       "      <td>16:43:14</td>\n",
       "    </tr>\n",
       "    <tr>\n",
       "      <th>3</th>\n",
       "      <td>mediterranean</td>\n",
       "      <td>Mediterranean Salmon Risotto recipes</td>\n",
       "      <td>nordic</td>\n",
       "      <td>395.50</td>\n",
       "      <td>287.10</td>\n",
       "      <td>291.04</td>\n",
       "      <td>2022-10-16</td>\n",
       "      <td>16:43:14</td>\n",
       "    </tr>\n",
       "    <tr>\n",
       "      <th>4</th>\n",
       "      <td>mediterranean</td>\n",
       "      <td>Mediterranean Pita Melts</td>\n",
       "      <td>mediterranean</td>\n",
       "      <td>46.57</td>\n",
       "      <td>139.71</td>\n",
       "      <td>37.70</td>\n",
       "      <td>2022-10-16</td>\n",
       "      <td>16:43:14</td>\n",
       "    </tr>\n",
       "  </tbody>\n",
       "</table>\n",
       "</div>"
      ],
      "text/plain": [
       "       Diet_type                                        Recipe_name   \n",
       "0  mediterranean                       Mediterranean Cucumber Tonic  \\\n",
       "1  mediterranean                Loup de Mer (Mediterranean Seabass)   \n",
       "2  mediterranean  Mediterranean Baked Trout with Olives, Fennel ...   \n",
       "3  mediterranean               Mediterranean Salmon Risotto recipes   \n",
       "4  mediterranean                           Mediterranean Pita Melts   \n",
       "\n",
       "    Cuisine_type  Protein(g)  Carbs(g)  Fat(g) Extraction_day Extraction_time  \n",
       "0  mediterranean        0.25     12.01    0.33     2022-10-16        16:43:14  \n",
       "1  mediterranean      306.14     43.10   26.55     2022-10-16        16:43:14  \n",
       "2  mediterranean      187.14     42.31   87.94     2022-10-16        16:43:14  \n",
       "3         nordic      395.50    287.10  291.04     2022-10-16        16:43:14  \n",
       "4  mediterranean       46.57    139.71   37.70     2022-10-16        16:43:14  "
      ]
     },
<<<<<<< HEAD
     "execution_count": 180,
=======
     "execution_count": 8,
>>>>>>> 09f7be9 (u)
     "metadata": {},
     "output_type": "execute_result"
    }
   ],
   "source": [
    "df = pd.read_csv('/Users/ECU/Downloads/archive/mediterranean.csv',sep=',')\n",
    "df.head()"
   ]
  },
  {
   "cell_type": "code",
<<<<<<< HEAD
   "execution_count": null,
=======
   "execution_count": 9,
>>>>>>> 09f7be9 (u)
   "metadata": {},
   "outputs": [
    {
     "data": {
      "text/html": [
       "<div>\n",
       "<style scoped>\n",
       "    .dataframe tbody tr th:only-of-type {\n",
       "        vertical-align: middle;\n",
       "    }\n",
       "\n",
       "    .dataframe tbody tr th {\n",
       "        vertical-align: top;\n",
       "    }\n",
       "\n",
       "    .dataframe thead th {\n",
       "        text-align: right;\n",
       "    }\n",
       "</style>\n",
       "<table border=\"1\" class=\"dataframe\">\n",
       "  <thead>\n",
       "    <tr style=\"text-align: right;\">\n",
       "      <th></th>\n",
       "      <th>Diet_type</th>\n",
       "      <th>Recipe_name</th>\n",
       "      <th>Cuisine_type</th>\n",
       "      <th>Protein(g)</th>\n",
       "      <th>Carbs(g)</th>\n",
       "      <th>Fat(g)</th>\n",
       "      <th>Extraction_day</th>\n",
       "      <th>Extraction_time</th>\n",
       "    </tr>\n",
       "  </thead>\n",
       "  <tbody>\n",
       "    <tr>\n",
       "      <th>0</th>\n",
       "      <td>paleo</td>\n",
       "      <td>Bone Broth From 'Nom Nom Paleo'</td>\n",
       "      <td>american</td>\n",
       "      <td>5.22</td>\n",
       "      <td>1.29</td>\n",
       "      <td>3.20</td>\n",
       "      <td>2022-10-16</td>\n",
       "      <td>17:20:09</td>\n",
       "    </tr>\n",
       "    <tr>\n",
       "      <th>1</th>\n",
       "      <td>paleo</td>\n",
       "      <td>Paleo Effect Asian-Glazed Pork Sides, A Sweet ...</td>\n",
       "      <td>south east asian</td>\n",
       "      <td>181.55</td>\n",
       "      <td>28.62</td>\n",
       "      <td>146.14</td>\n",
       "      <td>2022-10-16</td>\n",
       "      <td>17:20:09</td>\n",
       "    </tr>\n",
       "    <tr>\n",
       "      <th>2</th>\n",
       "      <td>paleo</td>\n",
       "      <td>Paleo Pumpkin Pie</td>\n",
       "      <td>american</td>\n",
       "      <td>30.91</td>\n",
       "      <td>302.59</td>\n",
       "      <td>96.76</td>\n",
       "      <td>2022-10-16</td>\n",
       "      <td>17:20:09</td>\n",
       "    </tr>\n",
       "    <tr>\n",
       "      <th>3</th>\n",
       "      <td>paleo</td>\n",
       "      <td>Strawberry Guacamole recipes</td>\n",
       "      <td>mexican</td>\n",
       "      <td>9.62</td>\n",
       "      <td>75.78</td>\n",
       "      <td>59.89</td>\n",
       "      <td>2022-10-16</td>\n",
       "      <td>17:20:09</td>\n",
       "    </tr>\n",
       "    <tr>\n",
       "      <th>4</th>\n",
       "      <td>paleo</td>\n",
       "      <td>Asian Cauliflower Fried \"Rice\" From 'Nom Nom P...</td>\n",
       "      <td>chinese</td>\n",
       "      <td>39.84</td>\n",
       "      <td>54.08</td>\n",
       "      <td>71.55</td>\n",
       "      <td>2022-10-16</td>\n",
       "      <td>17:20:09</td>\n",
       "    </tr>\n",
       "  </tbody>\n",
       "</table>\n",
       "</div>"
      ],
      "text/plain": [
       "  Diet_type                                        Recipe_name   \n",
       "0     paleo                    Bone Broth From 'Nom Nom Paleo'  \\\n",
       "1     paleo  Paleo Effect Asian-Glazed Pork Sides, A Sweet ...   \n",
       "2     paleo                                  Paleo Pumpkin Pie   \n",
       "3     paleo                       Strawberry Guacamole recipes   \n",
       "4     paleo  Asian Cauliflower Fried \"Rice\" From 'Nom Nom P...   \n",
       "\n",
       "       Cuisine_type  Protein(g)  Carbs(g)  Fat(g) Extraction_day   \n",
       "0          american        5.22      1.29    3.20     2022-10-16  \\\n",
       "1  south east asian      181.55     28.62  146.14     2022-10-16   \n",
       "2          american       30.91    302.59   96.76     2022-10-16   \n",
       "3           mexican        9.62     75.78   59.89     2022-10-16   \n",
       "4           chinese       39.84     54.08   71.55     2022-10-16   \n",
       "\n",
       "  Extraction_time  \n",
       "0        17:20:09  \n",
       "1        17:20:09  \n",
       "2        17:20:09  \n",
       "3        17:20:09  \n",
       "4        17:20:09  "
      ]
     },
<<<<<<< HEAD
     "execution_count": 181,
=======
     "execution_count": 9,
>>>>>>> 09f7be9 (u)
     "metadata": {},
     "output_type": "execute_result"
    }
   ],
   "source": [
    "df = pd.read_csv('/Users/ECU/Downloads/archive/paleo.csv',sep=',')\n",
    "df.head()"
   ]
  },
  {
   "cell_type": "code",
<<<<<<< HEAD
   "execution_count": null,
=======
   "execution_count": 10,
>>>>>>> 09f7be9 (u)
   "metadata": {},
   "outputs": [
    {
     "data": {
      "text/html": [
       "<div>\n",
       "<style scoped>\n",
       "    .dataframe tbody tr th:only-of-type {\n",
       "        vertical-align: middle;\n",
       "    }\n",
       "\n",
       "    .dataframe tbody tr th {\n",
       "        vertical-align: top;\n",
       "    }\n",
       "\n",
       "    .dataframe thead th {\n",
       "        text-align: right;\n",
       "    }\n",
       "</style>\n",
       "<table border=\"1\" class=\"dataframe\">\n",
       "  <thead>\n",
       "    <tr style=\"text-align: right;\">\n",
       "      <th></th>\n",
       "      <th>Diet_type</th>\n",
       "      <th>Recipe_name</th>\n",
       "      <th>Cuisine_type</th>\n",
       "      <th>Protein(g)</th>\n",
       "      <th>Carbs(g)</th>\n",
       "      <th>Fat(g)</th>\n",
       "      <th>Extraction_day</th>\n",
       "      <th>Extraction_time</th>\n",
       "    </tr>\n",
       "  </thead>\n",
       "  <tbody>\n",
       "    <tr>\n",
       "      <th>0</th>\n",
       "      <td>vegan</td>\n",
       "      <td>Spiked Vegan Eggnog</td>\n",
       "      <td>american</td>\n",
       "      <td>46.36</td>\n",
       "      <td>84.52</td>\n",
       "      <td>42.61</td>\n",
       "      <td>2022-10-16</td>\n",
       "      <td>20:02:29</td>\n",
       "    </tr>\n",
       "    <tr>\n",
       "      <th>1</th>\n",
       "      <td>vegan</td>\n",
       "      <td>Vegan Cucumber Tea Sandwiches</td>\n",
       "      <td>american</td>\n",
       "      <td>41.73</td>\n",
       "      <td>143.91</td>\n",
       "      <td>73.88</td>\n",
       "      <td>2022-10-16</td>\n",
       "      <td>20:02:29</td>\n",
       "    </tr>\n",
       "    <tr>\n",
       "      <th>2</th>\n",
       "      <td>vegan</td>\n",
       "      <td>Vegan Broccoli Soup Recipe</td>\n",
       "      <td>american</td>\n",
       "      <td>103.83</td>\n",
       "      <td>82.54</td>\n",
       "      <td>139.30</td>\n",
       "      <td>2022-10-16</td>\n",
       "      <td>20:02:29</td>\n",
       "    </tr>\n",
       "    <tr>\n",
       "      <th>3</th>\n",
       "      <td>vegan</td>\n",
       "      <td>Baked Vegan Mac and Cheese Recipe</td>\n",
       "      <td>american</td>\n",
       "      <td>140.19</td>\n",
       "      <td>524.38</td>\n",
       "      <td>221.29</td>\n",
       "      <td>2022-10-16</td>\n",
       "      <td>20:02:29</td>\n",
       "    </tr>\n",
       "    <tr>\n",
       "      <th>4</th>\n",
       "      <td>vegan</td>\n",
       "      <td>Vegan Nachos</td>\n",
       "      <td>american</td>\n",
       "      <td>73.05</td>\n",
       "      <td>266.38</td>\n",
       "      <td>166.64</td>\n",
       "      <td>2022-10-16</td>\n",
       "      <td>20:02:29</td>\n",
       "    </tr>\n",
       "  </tbody>\n",
       "</table>\n",
       "</div>"
      ],
      "text/plain": [
       "  Diet_type                        Recipe_name Cuisine_type  Protein(g)   \n",
       "0     vegan                Spiked Vegan Eggnog     american       46.36  \\\n",
       "1     vegan      Vegan Cucumber Tea Sandwiches     american       41.73   \n",
       "2     vegan         Vegan Broccoli Soup Recipe     american      103.83   \n",
       "3     vegan  Baked Vegan Mac and Cheese Recipe     american      140.19   \n",
       "4     vegan                       Vegan Nachos     american       73.05   \n",
       "\n",
       "   Carbs(g)  Fat(g) Extraction_day Extraction_time  \n",
       "0     84.52   42.61     2022-10-16        20:02:29  \n",
       "1    143.91   73.88     2022-10-16        20:02:29  \n",
       "2     82.54  139.30     2022-10-16        20:02:29  \n",
       "3    524.38  221.29     2022-10-16        20:02:29  \n",
       "4    266.38  166.64     2022-10-16        20:02:29  "
      ]
     },
<<<<<<< HEAD
     "execution_count": 182,
=======
     "execution_count": 10,
>>>>>>> 09f7be9 (u)
     "metadata": {},
     "output_type": "execute_result"
    }
   ],
   "source": [
    "df = pd.read_csv('/Users/ECU/Downloads/archive/vegan.csv',sep=',')\n",
    "df.head()"
   ]
  },
  {
   "cell_type": "code",
<<<<<<< HEAD
   "execution_count": null,
=======
   "execution_count": 11,
>>>>>>> 09f7be9 (u)
   "metadata": {},
   "outputs": [
    {
     "data": {
      "text/plain": [
       "Diet_type          False\n",
       "Recipe_name        False\n",
       "Cuisine_type       False\n",
       "Protein(g)         False\n",
       "Carbs(g)           False\n",
       "Fat(g)             False\n",
       "Extraction_day     False\n",
       "Extraction_time    False\n",
       "dtype: bool"
      ]
     },
<<<<<<< HEAD
     "execution_count": 183,
=======
     "execution_count": 11,
>>>>>>> 09f7be9 (u)
     "metadata": {},
     "output_type": "execute_result"
    }
   ],
   "source": [
    "# Checking for  null\n",
    "df.isna().any()"
   ]
  },
  {
   "cell_type": "code",
<<<<<<< HEAD
   "execution_count": null,
=======
   "execution_count": 12,
>>>>>>> 09f7be9 (u)
   "metadata": {},
   "outputs": [
    {
     "data": {
      "text/plain": [
       "False    1520\n",
       "True        2\n",
       "Name: count, dtype: int64"
      ]
     },
<<<<<<< HEAD
     "execution_count": 184,
=======
     "execution_count": 12,
>>>>>>> 09f7be9 (u)
     "metadata": {},
     "output_type": "execute_result"
    }
   ],
   "source": [
    "# Check duplicated\n",
    "df.duplicated().value_counts()"
   ]
  },
  {
   "cell_type": "code",
<<<<<<< HEAD
   "execution_count": null,
=======
   "execution_count": 13,
>>>>>>> 09f7be9 (u)
   "metadata": {},
   "outputs": [
    {
     "data": {
      "text/html": [
       "<div>\n",
       "<style scoped>\n",
       "    .dataframe tbody tr th:only-of-type {\n",
       "        vertical-align: middle;\n",
       "    }\n",
       "\n",
       "    .dataframe tbody tr th {\n",
       "        vertical-align: top;\n",
       "    }\n",
       "\n",
       "    .dataframe thead th {\n",
       "        text-align: right;\n",
       "    }\n",
       "</style>\n",
       "<table border=\"1\" class=\"dataframe\">\n",
       "  <thead>\n",
       "    <tr style=\"text-align: right;\">\n",
       "      <th></th>\n",
       "      <th>Diet_type</th>\n",
       "      <th>Recipe_name</th>\n",
       "      <th>Cuisine_type</th>\n",
       "      <th>Protein(g)</th>\n",
       "      <th>Carbs(g)</th>\n",
       "      <th>Fat(g)</th>\n",
       "      <th>Extraction_day</th>\n",
       "      <th>Extraction_time</th>\n",
       "    </tr>\n",
       "  </thead>\n",
       "  <tbody>\n",
       "    <tr>\n",
       "      <th>1500</th>\n",
       "      <td>vegan</td>\n",
       "      <td>Strawberry Rhubarb Jam {Vegan}</td>\n",
       "      <td>american</td>\n",
       "      <td>2.48</td>\n",
       "      <td>155.82</td>\n",
       "      <td>22.73</td>\n",
       "      <td>2022-10-16</td>\n",
       "      <td>20:13:34</td>\n",
       "    </tr>\n",
       "    <tr>\n",
       "      <th>1504</th>\n",
       "      <td>vegan</td>\n",
       "      <td>Strawberry Rhubarb Jam {Vegan}</td>\n",
       "      <td>american</td>\n",
       "      <td>2.48</td>\n",
       "      <td>155.82</td>\n",
       "      <td>22.73</td>\n",
       "      <td>2022-10-16</td>\n",
       "      <td>20:13:34</td>\n",
       "    </tr>\n",
       "    <tr>\n",
       "      <th>1511</th>\n",
       "      <td>vegan</td>\n",
       "      <td>Strawberry Rhubarb Jam {Vegan}</td>\n",
       "      <td>american</td>\n",
       "      <td>2.48</td>\n",
       "      <td>155.82</td>\n",
       "      <td>22.73</td>\n",
       "      <td>2022-10-16</td>\n",
       "      <td>20:13:40</td>\n",
       "    </tr>\n",
       "    <tr>\n",
       "      <th>1515</th>\n",
       "      <td>vegan</td>\n",
       "      <td>Strawberry Rhubarb Jam {Vegan}</td>\n",
       "      <td>american</td>\n",
       "      <td>2.48</td>\n",
       "      <td>155.82</td>\n",
       "      <td>22.73</td>\n",
       "      <td>2022-10-16</td>\n",
       "      <td>20:13:40</td>\n",
       "    </tr>\n",
       "  </tbody>\n",
       "</table>\n",
       "</div>"
      ],
      "text/plain": [
       "     Diet_type                     Recipe_name Cuisine_type  Protein(g)   \n",
       "1500     vegan  Strawberry Rhubarb Jam {Vegan}     american        2.48  \\\n",
       "1504     vegan  Strawberry Rhubarb Jam {Vegan}     american        2.48   \n",
       "1511     vegan  Strawberry Rhubarb Jam {Vegan}     american        2.48   \n",
       "1515     vegan  Strawberry Rhubarb Jam {Vegan}     american        2.48   \n",
       "\n",
       "      Carbs(g)  Fat(g) Extraction_day Extraction_time  \n",
       "1500    155.82   22.73     2022-10-16        20:13:34  \n",
       "1504    155.82   22.73     2022-10-16        20:13:34  \n",
       "1511    155.82   22.73     2022-10-16        20:13:40  \n",
       "1515    155.82   22.73     2022-10-16        20:13:40  "
      ]
     },
<<<<<<< HEAD
     "execution_count": 185,
=======
     "execution_count": 13,
>>>>>>> 09f7be9 (u)
     "metadata": {},
     "output_type": "execute_result"
    }
   ],
   "source": [
    "# load duplicated\n",
    "df[df.duplicated(keep=False) == True]"
   ]
  },
  {
   "cell_type": "code",
<<<<<<< HEAD
   "execution_count": null,
=======
   "execution_count": 14,
>>>>>>> 09f7be9 (u)
   "metadata": {},
   "outputs": [
    {
     "data": {
      "text/plain": [
       "False    1520\n",
       "Name: count, dtype: int64"
      ]
     },
<<<<<<< HEAD
     "execution_count": 186,
=======
     "execution_count": 14,
>>>>>>> 09f7be9 (u)
     "metadata": {},
     "output_type": "execute_result"
    }
   ],
   "source": [
    "# Dropout duplicated and double check\n",
    "df_nodup = df.drop_duplicates()\n",
    "df_nodup.duplicated().value_counts()"
   ]
  },
  {
   "cell_type": "code",
<<<<<<< HEAD
   "execution_count": null,
=======
   "execution_count": 15,
>>>>>>> 09f7be9 (u)
   "metadata": {},
   "outputs": [
    {
     "data": {
      "text/plain": [
       "Diet_type\n",
       "vegan    1.0\n",
       "Name: proportion, dtype: float64"
      ]
     },
<<<<<<< HEAD
     "execution_count": 187,
=======
     "execution_count": 15,
>>>>>>> 09f7be9 (u)
     "metadata": {},
     "output_type": "execute_result"
    }
   ],
   "source": [
    "# Checking the Diet_type\n",
    "df_nodup['Diet_type'].value_counts(normalize=True)"
   ]
  },
  {
   "cell_type": "code",
<<<<<<< HEAD
   "execution_count": null,
=======
   "execution_count": 16,
>>>>>>> 09f7be9 (u)
   "metadata": {},
   "outputs": [
    {
     "data": {
      "text/plain": [
       "Cuisine_type\n",
       "american            0.607237\n",
       "mediterranean       0.065132\n",
       "italian             0.053289\n",
       "french              0.050000\n",
       "asian               0.044079\n",
       "indian              0.031579\n",
       "south east asian    0.030263\n",
       "mexican             0.025000\n",
       "south american      0.020395\n",
       "british             0.017763\n",
       "japanese            0.015789\n",
       "chinese             0.011184\n",
       "middle eastern      0.009868\n",
       "world               0.006579\n",
       "nordic              0.005921\n",
       "eastern europe      0.002632\n",
       "central europe      0.002632\n",
       "caribbean           0.000658\n",
       "Name: proportion, dtype: float64"
      ]
     },
<<<<<<< HEAD
     "execution_count": 188,
=======
     "execution_count": 16,
>>>>>>> 09f7be9 (u)
     "metadata": {},
     "output_type": "execute_result"
    }
   ],
   "source": [
    "# Checking the Cuisine_type\n",
    "df_nodup['Cuisine_type'].value_counts(normalize=True)"
   ]
  },
  {
   "cell_type": "code",
<<<<<<< HEAD
   "execution_count": null,
=======
   "execution_count": 17,
>>>>>>> 09f7be9 (u)
   "metadata": {},
   "outputs": [
    {
     "data": {
      "text/html": [
       "<div>\n",
       "<style scoped>\n",
       "    .dataframe tbody tr th:only-of-type {\n",
       "        vertical-align: middle;\n",
       "    }\n",
       "\n",
       "    .dataframe tbody tr th {\n",
       "        vertical-align: top;\n",
       "    }\n",
       "\n",
       "    .dataframe thead th {\n",
       "        text-align: right;\n",
       "    }\n",
       "</style>\n",
       "<table border=\"1\" class=\"dataframe\">\n",
       "  <thead>\n",
       "    <tr style=\"text-align: right;\">\n",
       "      <th></th>\n",
       "      <th>Protein(g)</th>\n",
       "      <th>Carbs(g)</th>\n",
       "      <th>Fat(g)</th>\n",
       "    </tr>\n",
       "  </thead>\n",
       "  <tbody>\n",
       "    <tr>\n",
       "      <th>count</th>\n",
       "      <td>1520.000000</td>\n",
       "      <td>1520.000000</td>\n",
       "      <td>1520.000000</td>\n",
       "    </tr>\n",
       "    <tr>\n",
       "      <th>mean</th>\n",
       "      <td>56.227658</td>\n",
       "      <td>254.133382</td>\n",
       "      <td>103.405691</td>\n",
       "    </tr>\n",
       "    <tr>\n",
       "      <th>std</th>\n",
       "      <td>47.156725</td>\n",
       "      <td>223.484745</td>\n",
       "      <td>120.394498</td>\n",
       "    </tr>\n",
       "    <tr>\n",
       "      <th>min</th>\n",
       "      <td>0.360000</td>\n",
       "      <td>0.100000</td>\n",
       "      <td>0.060000</td>\n",
       "    </tr>\n",
       "    <tr>\n",
       "      <th>25%</th>\n",
       "      <td>25.282500</td>\n",
       "      <td>106.532500</td>\n",
       "      <td>39.840000</td>\n",
       "    </tr>\n",
       "    <tr>\n",
       "      <th>50%</th>\n",
       "      <td>44.685000</td>\n",
       "      <td>201.620000</td>\n",
       "      <td>71.815000</td>\n",
       "    </tr>\n",
       "    <tr>\n",
       "      <th>75%</th>\n",
       "      <td>74.672500</td>\n",
       "      <td>340.512500</td>\n",
       "      <td>128.297500</td>\n",
       "    </tr>\n",
       "    <tr>\n",
       "      <th>max</th>\n",
       "      <td>431.100000</td>\n",
       "      <td>3204.430000</td>\n",
       "      <td>1930.240000</td>\n",
       "    </tr>\n",
       "  </tbody>\n",
       "</table>\n",
       "</div>"
      ],
      "text/plain": [
       "        Protein(g)     Carbs(g)       Fat(g)\n",
       "count  1520.000000  1520.000000  1520.000000\n",
       "mean     56.227658   254.133382   103.405691\n",
       "std      47.156725   223.484745   120.394498\n",
       "min       0.360000     0.100000     0.060000\n",
       "25%      25.282500   106.532500    39.840000\n",
       "50%      44.685000   201.620000    71.815000\n",
       "75%      74.672500   340.512500   128.297500\n",
       "max     431.100000  3204.430000  1930.240000"
      ]
     },
<<<<<<< HEAD
     "execution_count": 189,
=======
     "execution_count": 17,
>>>>>>> 09f7be9 (u)
     "metadata": {},
     "output_type": "execute_result"
    }
   ],
   "source": [
    "# Check Protein(g), Carbs(g) and Fat(g)\n",
    "df_nodup.describe()"
   ]
  },
  {
   "cell_type": "code",
<<<<<<< HEAD
   "execution_count": null,
=======
   "execution_count": 18,
>>>>>>> 09f7be9 (u)
   "metadata": {},
   "outputs": [],
   "source": [
    "import matplotlib\n",
    "import matplotlib.pyplot as plt"
   ]
  },
  {
   "cell_type": "code",
<<<<<<< HEAD
   "execution_count": null,
=======
   "execution_count": 19,
>>>>>>> 09f7be9 (u)
   "metadata": {},
   "outputs": [
    {
     "data": {
      "text/plain": [
       "Text(0, 0.5, 'Nutritious Information')"
      ]
     },
<<<<<<< HEAD
     "execution_count": 191,
=======
     "execution_count": 19,
>>>>>>> 09f7be9 (u)
     "metadata": {},
     "output_type": "execute_result"
    },
    {
     "data": {
      "image/png": "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",
      "text/plain": [
       "<Figure size 1100x600 with 1 Axes>"
      ]
     },
     "metadata": {},
     "output_type": "display_data"
    }
   ],
   "source": [
    "plotdata = pd.DataFrame({\n",
    "    \"Protein(g)\":list(df_nodup[['Protein(g)']].squeeze()),\n",
    "    \"Carbs(g)\":list(df_nodup[['Carbs(g)']].squeeze()),\n",
    "    \"Fat(g)\":list(df_nodup[['Fat(g)']].squeeze())})\n",
    "\n",
    "plt.figure(figsize =(11, 6))\n",
    "\n",
    "bplots = plt.boxplot(plotdata, vert = 0, patch_artist = True, labels=[\"Protein\",\"Carbs\",\"Fat\"])\n",
    "\n",
    "colors = [\"cadetblue\",\"darkslategray\",\"skyblue\"]\n",
    "for whisker in bplots['whiskers']:\n",
    "    whisker.set(color='gray', linewidth=2)\n",
    "\n",
    "for cap in bplots['caps']:\n",
    "    cap.set(color='gray', linewidth=2)\n",
    "\n",
    "for median in bplots['medians']:\n",
    "    median.set(color='gray', linewidth=2)\n",
    "\n",
    "plt.title(\"Boxplot for Nutritious Information\", loc=\"center\", fontsize=18)\n",
    "plt.xlabel(\"Amount (in grams)\")\n",
    "plt.ylabel(\"Nutritious Information\")"
   ]
  },
  {
   "cell_type": "code",
<<<<<<< HEAD
   "execution_count": null,
=======
   "execution_count": 20,
>>>>>>> 09f7be9 (u)
   "metadata": {},
   "outputs": [],
   "source": [
    "import seaborn as sns\n",
    "sns.set_style(\"white\")"
   ]
  },
  {
   "cell_type": "code",
<<<<<<< HEAD
   "execution_count": null,
=======
   "execution_count": 21,
>>>>>>> 09f7be9 (u)
   "metadata": {},
   "outputs": [
    {
     "data": {
      "image/png": "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",
      "text/plain": [
       "<Figure size 1000x600 with 1 Axes>"
      ]
     },
     "metadata": {},
     "output_type": "display_data"
    }
   ],
   "source": [
    "# Nutrition Information\n",
    "analise1 = df_nodup.groupby(\"Diet_type\").aggregate({'Protein(g)':'mean','Carbs(g)':'mean','Fat(g)':'mean'})\n",
    "analise1_frame = analise1.reset_index()\n",
    "\n",
    "# Plot\n",
    "plotdata = pd.DataFrame({\n",
    "    \"Protein\":(analise1_frame[['Protein(g)']].squeeze()),\n",
    "    \"Carbs\":(analise1_frame[['Carbs(g)']].squeeze()),\n",
    "    \"Fat\":(analise1_frame[['Fat(g)']].squeeze())\n",
    "    }, \n",
    "    index = ['Dash', 'Keto', 'Mediterranean','Paleo', 'Vegan']\n",
    ")\n",
    "\n",
    "plotdata.plot(kind=\"bar\", color=[\"cadetblue\",\"darkslategray\",\"skyblue\"],figsize=(10, 6),rot=0)\n",
    "plt.title(\"Diet Type X Nutrition Information\",loc=\"center\", fontsize=18)#fontsize=\"x-large\",weight=\"bold\")\n",
    "plt.xlabel(\"Diet Type\",fontsize=\"x-large\")\n",
    "plt.ylabel(\"Amount (in grams)\", fontsize=\"x-large\");\n"
   ]
  },
  {
   "cell_type": "code",
<<<<<<< HEAD
   "execution_count": null,
   "metadata": {},
   "outputs": [
    {
     "ename": "NameError",
     "evalue": "name 'df_nodup' is not defined",
     "output_type": "error",
     "traceback": [
      "\u001b[0;31m---------------------------------------------------------------------------\u001b[0m",
      "\u001b[0;31mNameError\u001b[0m                                 Traceback (most recent call last)",
      "Cell \u001b[0;32mIn[13], line 2\u001b[0m\n\u001b[1;32m      1\u001b[0m \u001b[39m# Correlation between Nutrition Information\u001b[39;00m\n\u001b[0;32m----> 2\u001b[0m x \u001b[39m=\u001b[39m df_nodup[\u001b[39m'\u001b[39m\u001b[39mProtein(g)\u001b[39m\u001b[39m'\u001b[39m]\n\u001b[1;32m      3\u001b[0m y \u001b[39m=\u001b[39m df_nodup[\u001b[39m'\u001b[39m\u001b[39mCarbs(g)\u001b[39m\u001b[39m'\u001b[39m]\n\u001b[1;32m      4\u001b[0m z \u001b[39m=\u001b[39m df_nodup[\u001b[39m'\u001b[39m\u001b[39mFat(g)\u001b[39m\u001b[39m'\u001b[39m]\n",
      "\u001b[0;31mNameError\u001b[0m: name 'df_nodup' is not defined"
     ]
=======
   "execution_count": 22,
   "metadata": {},
   "outputs": [
    {
     "data": {
      "text/plain": [
       "array([[1.  , 0.45, 0.24],\n",
       "       [0.45, 1.  , 0.39],\n",
       "       [0.24, 0.39, 1.  ]])"
      ]
     },
     "execution_count": 22,
     "metadata": {},
     "output_type": "execute_result"
>>>>>>> 09f7be9 (u)
    }
   ],
   "source": [
    "# Correlation between Nutrition Information\n",
    "x = df_nodup['Protein(g)']\n",
    "y = df_nodup['Carbs(g)']\n",
    "z = df_nodup['Fat(g)']\n",
    "xyz = [x,y,z]\n",
    "\n",
    "corr_matrix = np.corrcoef(xyz).round(decimals=2)\n",
    "corr_matrix"
   ]
  },
  {
   "cell_type": "code",
<<<<<<< HEAD
   "execution_count": null,
=======
   "execution_count": 23,
>>>>>>> 09f7be9 (u)
   "metadata": {},
   "outputs": [
    {
     "ename": "NameError",
     "evalue": "name 'plt' is not defined",
     "output_type": "error",
     "traceback": [
      "\u001b[0;31m---------------------------------------------------------------------------\u001b[0m",
      "\u001b[0;31mNameError\u001b[0m                                 Traceback (most recent call last)",
      "Cell \u001b[0;32mIn[14], line 1\u001b[0m\n\u001b[0;32m----> 1\u001b[0m fig, ax \u001b[39m=\u001b[39m plt\u001b[39m.\u001b[39msubplots()\n\u001b[1;32m      2\u001b[0m im \u001b[39m=\u001b[39m ax\u001b[39m.\u001b[39mimshow(corr_matrix)\n\u001b[1;32m      3\u001b[0m im\u001b[39m.\u001b[39mset_clim(\u001b[39m-\u001b[39m\u001b[39m1\u001b[39m, \u001b[39m1\u001b[39m)\n",
      "\u001b[0;31mNameError\u001b[0m: name 'plt' is not defined"
     ]
    }
   ],
   "source": [
    "fig, ax = plt.subplots()\n",
    "im = ax.imshow(corr_matrix)\n",
    "im.set_clim(-1, 1)\n",
    "ax.grid(False)\n",
    "ax.xaxis.set(ticks=(0, 1, 2), ticklabels=('Protein', 'Carbs', 'Fat'))\n",
    "ax.yaxis.set(ticks=(0, 1, 2), ticklabels=('Protein', 'Carbs', 'Fat'))\n",
    "ax.set_ylim(2.5, -0.5)\n",
    "for i in range(3):\n",
    "    for j in range(3):\n",
    "        ax.text(j, i, corr_matrix[i, j], ha='center', va='center',\n",
    "                color='b')\n",
    "cbar = ax.figure.colorbar(im, ax=ax, format='% .2f')"
   ]
  },
  {
   "cell_type": "code",
<<<<<<< HEAD
   "execution_count": null,
   "metadata": {},
   "outputs": [],
=======
   "execution_count": 24,
   "metadata": {},
   "outputs": [
    {
     "data": {
      "text/plain": [
       "<matplotlib.legend.Legend at 0x2bccb8b20>"
      ]
     },
     "execution_count": 24,
     "metadata": {},
     "output_type": "execute_result"
    },
    {
     "data": {
      "image/png": "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",
      "text/plain": [
       "<Figure size 1440x900 with 1 Axes>"
      ]
     },
     "metadata": {},
     "output_type": "display_data"
    }
   ],
>>>>>>> 09f7be9 (u)
   "source": [
    "#Recioe with low and high fat\n",
    "rec_low_fat = df_nodup.groupby([\"Diet_type\",\"Recipe_name\",\"Cuisine_type\"]).aggregate({'Fat(g)':'min'}).reset_index().sort_values(by=['Diet_type','Fat(g)'])\n",
    "\n",
    "# Plot Top 3 recipe with high fat\n",
    "dash_hf = rec_low_fat[rec_low_fat['Diet_type'] == 'dash'][-4:-1:]\n",
    "med_hf = rec_low_fat[rec_low_fat['Diet_type'] == 'mediterranean'][-4:-1:]\n",
    "vegan_hf = rec_low_fat[rec_low_fat['Diet_type'] == 'vegan'][-4:-1:]\n",
    "keto_hf = rec_low_fat[rec_low_fat['Diet_type'] == 'keto'][-4:-1:]\n",
    "paleo_hf = rec_low_fat[rec_low_fat['Diet_type'] == 'paleo'][-4:-1:]\n",
    "\n",
    "# Prepare Data\n",
    "df = pd.concat([med_hf, dash_hf, vegan_hf, keto_hf, paleo_hf])\n",
    "df.reset_index(inplace=True)\n",
    "\n",
    "# Draw plot\n",
    "plt.figure(figsize=(16,10), dpi= 90)\n",
    "# plt.hlines(y=df['Recipe_name']['dash'], xmin=0, xmax=df['Fat(g)'], \n",
    "#            color=[\"cadetblue\",\"darkslategray\",\"skyblue\",\"dodgerblue\",\"lightskyblue\"],\n",
    "#            alpha=0.8, linewidth=10)\n",
    "plt.hlines(y=med_hf['Recipe_name'], xmin=0, xmax=med_hf['Fat(g)'], \n",
    "           color=\"cadetblue\",\n",
    "           alpha=0.8, linewidth=10)\n",
    "plt.hlines(y=dash_hf['Recipe_name'], xmin=0, xmax=dash_hf['Fat(g)'], \n",
    "           color=\"darkslategray\",\n",
    "           alpha=0.8, linewidth=10)\n",
    "plt.hlines(y=vegan_hf['Recipe_name'], xmin=0, xmax=vegan_hf['Fat(g)'], \n",
    "           color=\"skyblue\",\n",
    "           alpha=0.8, linewidth=10)\n",
    "plt.hlines(y=keto_hf['Recipe_name'], xmin=0, xmax=keto_hf['Fat(g)'], \n",
    "           color=\"dodgerblue\",\n",
    "           alpha=0.8, linewidth=10)\n",
    "plt.hlines(y=paleo_hf['Recipe_name'], xmin=0, xmax=paleo_hf['Fat(g)'], \n",
    "           color=\"lightskyblue\",\n",
    "           alpha=0.8, linewidth=10)\n",
    "\n",
    "# Decorations\n",
    "plt.title('Top 3 highest Fat Recipe Name', fontdict={'size':20},fontsize=\"x-large\",weight=\"bold\")\n",
    "plt.grid(linestyle='--', alpha=0.1)\n",
    "plt.xlabel('Unit(g)',fontsize=\"x-large\")\n",
    "plt.ylabel('Recipe Name',fontsize=\"x-large\")\n",
    "plt.legend([\"Mediterranean\",\"Dash\",\"Vegan\",\"keto\",\"Paleo\"], loc =\"lower right\")"
   ]
<<<<<<< HEAD
=======
  },
  {
   "cell_type": "code",
   "execution_count": 25,
   "metadata": {},
   "outputs": [
    {
     "name": "stderr",
     "output_type": "stream",
     "text": [
      "[nltk_data] Downloading package punkt to /Users/ECU/nltk_data...\n",
      "[nltk_data]   Package punkt is already up-to-date!\n"
     ]
    }
   ],
   "source": [
    "# Import tokenize \n",
    "import nltk\n",
    "from nltk.tokenize import sent_tokenize\n",
    "nltk.download('punkt')\n",
    "from nltk.tokenize import word_tokenize\n",
    "from nltk.tokenize import WordPunctTokenizer"
   ]
  },
  {
   "cell_type": "code",
   "execution_count": 26,
   "metadata": {},
   "outputs": [],
   "source": [
    "# Set the diet type into separate dataset\n",
    "med = df[df['Diet_type'] == 'mediterranean']\n",
    "dash = df[df['Diet_type'] == 'dash']\n",
    "vegan = df[df['Diet_type'] == 'vegan']\n",
    "keto = df[df['Diet_type'] == 'keto']\n",
    "paleo = df[df['Diet_type'] == 'paleo']\n",
    "\n",
    "# Split sentences into word (token) using word tokenze\n",
    "med['wt'] = [word_tokenize(med['Recipe_name'][i]) for i in med.index]\n",
    "dash['wt'] = [word_tokenize(dash['Recipe_name'][i]) for i in dash.index]\n",
    "vegan['wt'] = [word_tokenize(vegan['Recipe_name'][i]) for i in vegan.index]\n",
    "keto['wt'] = [word_tokenize(keto['Recipe_name'][i]) for i in keto.index]\n",
    "paleo['wt'] = [word_tokenize(paleo['Recipe_name'][i]) for i in paleo.index]"
   ]
  },
  {
   "cell_type": "code",
   "execution_count": 27,
   "metadata": {},
   "outputs": [],
   "source": [
    "# Word Punctuation Tokenizer\n",
    "from nltk.tokenize import WordPunctTokenizer\n",
    "\n",
    "tokenizer = WordPunctTokenizer()\n",
    "\n",
    "# Split sentences into word (token) using Word Punct Tokenizer (here splits punctuations)\n",
    "med['wt2'] = [tokenizer.tokenize(med['Recipe_name'][i]) for i in med.index]\n",
    "dash['wt2'] = [tokenizer.tokenize(dash['Recipe_name'][i]) for i in dash.index]\n",
    "vegan['wt2'] = [tokenizer.tokenize(vegan['Recipe_name'][i]) for i in vegan.index]\n",
    "keto['wt2'] = [tokenizer.tokenize(keto['Recipe_name'][i]) for i in keto.index]\n",
    "paleo['wt2'] = [tokenizer.tokenize(paleo['Recipe_name'][i]) for i in paleo.index]"
   ]
  },
  {
   "cell_type": "code",
   "execution_count": 28,
   "metadata": {},
   "outputs": [],
   "source": [
    "from nltk.tokenize import RegexpTokenizer\n",
    "from nltk.tokenize import regexp_tokenize\n",
    "\n",
    "tokenizerRE = RegexpTokenizer(r'\\w+', gaps = False)"
   ]
  },
  {
   "cell_type": "code",
   "execution_count": 29,
   "metadata": {},
   "outputs": [
    {
     "data": {
      "text/html": [
       "<div>\n",
       "<style scoped>\n",
       "    .dataframe tbody tr th:only-of-type {\n",
       "        vertical-align: middle;\n",
       "    }\n",
       "\n",
       "    .dataframe tbody tr th {\n",
       "        vertical-align: top;\n",
       "    }\n",
       "\n",
       "    .dataframe thead th {\n",
       "        text-align: right;\n",
       "    }\n",
       "</style>\n",
       "<table border=\"1\" class=\"dataframe\">\n",
       "  <thead>\n",
       "    <tr style=\"text-align: right;\">\n",
       "      <th></th>\n",
       "      <th>index</th>\n",
       "      <th>Diet_type</th>\n",
       "      <th>Recipe_name</th>\n",
       "      <th>Cuisine_type</th>\n",
       "      <th>Fat(g)</th>\n",
       "      <th>wt</th>\n",
       "      <th>wt2</th>\n",
       "      <th>re</th>\n",
       "    </tr>\n",
       "  </thead>\n",
       "  <tbody>\n",
       "  </tbody>\n",
       "</table>\n",
       "</div>"
      ],
      "text/plain": [
       "Empty DataFrame\n",
       "Columns: [index, Diet_type, Recipe_name, Cuisine_type, Fat(g), wt, wt2, re]\n",
       "Index: []"
      ]
     },
     "execution_count": 29,
     "metadata": {},
     "output_type": "execute_result"
    }
   ],
   "source": [
    "# Apply regex for punctuations\n",
    "med['re'] = [tokenizerRE.tokenize(med['Recipe_name'][i]) for i in med.index]\n",
    "dash['re'] = [tokenizerRE.tokenize(dash['Recipe_name'][i]) for i in dash.index]\n",
    "vegan['re'] = [tokenizerRE.tokenize(vegan['Recipe_name'][i]) for i in vegan.index]\n",
    "keto['re'] = [tokenizerRE.tokenize(keto['Recipe_name'][i]) for i in keto.index]\n",
    "paleo['re'] = [tokenizerRE.tokenize(paleo['Recipe_name'][i]) for i in paleo.index]\n",
    "paleo"
   ]
  },
  {
   "cell_type": "code",
   "execution_count": 30,
   "metadata": {},
   "outputs": [
    {
     "name": "stderr",
     "output_type": "stream",
     "text": [
      "[nltk_data] Downloading package stopwords to /Users/ECU/nltk_data...\n",
      "[nltk_data]   Package stopwords is already up-to-date!\n"
     ]
    }
   ],
   "source": [
    "from nltk.corpus import stopwords\n",
    "nltk.download('stopwords')\n",
    "english_stops = set(stopwords.words('english'))"
   ]
  },
  {
   "cell_type": "code",
   "execution_count": 31,
   "metadata": {},
   "outputs": [
    {
     "data": {
      "text/plain": [
       "[]"
      ]
     },
     "execution_count": 31,
     "metadata": {},
     "output_type": "execute_result"
    }
   ],
   "source": [
    "# Apply stop word to column with regex applied\n",
    "med_words = [palavra.lower() for i in med.index for palavra in med['re'][i] if palavra not in english_stops]\n",
    "dash_words = [palavra.lower() for i in dash.index for palavra in dash['re'][i] if palavra not in english_stops]\n",
    "vegan_words = [palavra.lower() for i in vegan.index for palavra in vegan['re'][i] if palavra not in english_stops]\n",
    "keto_words = [palavra.lower() for i in keto.index for palavra in keto['re'][i] if palavra not in english_stops]\n",
    "paleo_words = [palavra.lower() for i in paleo.index for palavra in paleo['re'][i] if palavra not in english_stops]\n",
    "paleo_words"
   ]
  },
  {
   "cell_type": "code",
   "execution_count": 32,
   "metadata": {},
   "outputs": [],
   "source": [
    "from nltk.stem import PorterStemmer\n",
    "from nltk.stem import RegexpStemmer\n",
    "\n",
    "porter_stemmer = PorterStemmer()"
   ]
  },
  {
   "cell_type": "code",
   "execution_count": 33,
   "metadata": {},
   "outputs": [
    {
     "data": {
      "text/plain": [
       "[]"
      ]
     },
     "execution_count": 33,
     "metadata": {},
     "output_type": "execute_result"
    }
   ],
   "source": [
    "# Apply Stemming\n",
    "med_words = [porter_stemmer.stem(word) for word in med_words]\n",
    "dash_words = [porter_stemmer.stem(word) for word in dash_words]\n",
    "vegan_words = [porter_stemmer.stem(word) for word in vegan_words]\n",
    "keto_words = [porter_stemmer.stem(word) for word in keto_words]\n",
    "paleo_words = [porter_stemmer.stem(word) for word in paleo_words]\n",
    "keto_words"
   ]
  },
  {
   "cell_type": "code",
   "execution_count": 34,
   "metadata": {},
   "outputs": [],
   "source": [
    "# Word Cloud \n",
    "import wordcloud\n",
    "from wordcloud import WordCloud\n"
   ]
  },
  {
   "cell_type": "code",
   "execution_count": 35,
   "metadata": {},
   "outputs": [],
   "source": [
    "text_aux = [med_words, dash_words, vegan_words, keto_words, paleo_words]"
   ]
  },
  {
   "cell_type": "code",
   "execution_count": 36,
   "metadata": {},
   "outputs": [
    {
     "data": {
      "text/plain": [
       "'  vegan cassoulet pumpkin seed dip crispi bánh mì spring roll with creami chili mayo recip'"
      ]
     },
     "execution_count": 36,
     "metadata": {},
     "output_type": "execute_result"
    }
   ],
   "source": [
    "text = ' '\n",
    "for i in text_aux:\n",
    "    for j in i:\n",
    "        text = text + ' ' + ''.join(j)\n",
    "text"
   ]
  },
  {
   "cell_type": "code",
   "execution_count": 37,
   "metadata": {},
   "outputs": [
    {
     "data": {
      "text/plain": [
       "(-0.5, 399.5, 199.5, -0.5)"
      ]
     },
     "execution_count": 37,
     "metadata": {},
     "output_type": "execute_result"
    },
    {
     "data": {
      "image/png": "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",
      "text/plain": [
       "<Figure size 640x480 with 1 Axes>"
      ]
     },
     "metadata": {},
     "output_type": "display_data"
    }
   ],
   "source": [
    "# Create and generate a word cloud image:\n",
    "wordcloud = WordCloud(max_font_size=50, max_words=100, background_color=\"white\").generate(text)\n",
    "\n",
    "# Display the generated image:\n",
    "plt.imshow(wordcloud, interpolation='bilinear')\n",
    "plt.axis(\"off\")"
   ]
>>>>>>> 09f7be9 (u)
  }
 ],
 "metadata": {
  "kernelspec": {
   "display_name": "Python 3",
   "language": "python",
   "name": "python3"
  },
  "language_info": {
   "codemirror_mode": {
    "name": "ipython",
    "version": 3
   },
   "file_extension": ".py",
   "mimetype": "text/x-python",
   "name": "python",
   "nbconvert_exporter": "python",
   "pygments_lexer": "ipython3",
   "version": "3.9.6 (default, Oct 18 2022, 12:41:40) \n[Clang 14.0.0 (clang-1400.0.29.202)]"
  },
  "orig_nbformat": 4,
  "vscode": {
   "interpreter": {
    "hash": "31f2aee4e71d21fbe5cf8b01ff0e069b9275f58929596ceb00d14d90e3e16cd6"
   }
  }
 },
 "nbformat": 4,
 "nbformat_minor": 2
}
