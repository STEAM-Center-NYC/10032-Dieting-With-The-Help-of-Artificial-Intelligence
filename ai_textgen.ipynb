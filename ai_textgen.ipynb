{
 "cells": [
  {
   "cell_type": "code",
   "execution_count": 113,
   "metadata": {},
   "outputs": [
    {
     "name": "stderr",
     "output_type": "stream",
     "text": [
      "Generate config GenerationConfig {\n",
      "  \"bos_token_id\": 50256,\n",
      "  \"eos_token_id\": 50256,\n",
      "  \"transformers_version\": \"4.26.1\"\n",
      "}\n",
      "\n",
      "loading configuration file generation_config.json from cache at aitextgen/models--gpt2/snapshots/e7da7f221d5bf496a48136c0cd264e630fe9fcc8/generation_config.json\n",
      "Generate config GenerationConfig {\n",
      "  \"_from_model_config\": true,\n",
      "  \"bos_token_id\": 50256,\n",
      "  \"eos_token_id\": 50256,\n",
      "  \"transformers_version\": \"4.26.1\"\n",
      "}\n",
      "\n"
     ]
    }
   ],
   "source": [
    "from aitextgen import aitextgen\n",
    "ai = aitextgen(model='gpt2')"
   ]
  },
  {
   "cell_type": "code",
   "execution_count": 114,
   "metadata": {},
   "outputs": [
    {
     "name": "stderr",
     "output_type": "stream",
     "text": [
      "Generate config GenerationConfig {\n",
      "  \"bos_token_id\": 50256,\n",
      "  \"eos_token_id\": 50256,\n",
      "  \"transformers_version\": \"4.26.1\"\n",
      "}\n",
      "\n"
     ]
    },
    {
     "name": "stdout",
     "output_type": "stream",
     "text": [
      "\u001b[1mIndian government\u001b[0m's first attempt to introduce a bill to legalize marijuana. The act was not adopted by the state legislature.\n",
      "\n",
      "The bill was eventually approved by the state legislature in May after a petition signed by more than 100,000 people. It was sponsored by state Sen. Chris LeBeau, D-Fort Worth, who said the bill was needed to prevent the spread of the drug in schools.\n",
      "\n",
      "LeBeau said the bill would allow medical marijuana dispensaries in cities like Austin, Austin's biggest city. He said it would not be in line with the federal government's stance on marijuana legalization.\n",
      "\n",
      "\"This is the first time we're going to be looking at that in terms of having something that's legal in Colorado,\" he said.\n",
      "\n",
      "LeBeau said that with the legalization of marijuana, people would be able to purchase their marijuana in private stores and dispensaries.\n",
      "\n",
      "But he said it would be too late for the state to get on board with the bill.\n",
      "\n",
      "\"It is very clear, if you are in a state that is already legalized, you will be not able to buy that for yourself in a dispensary,\" LeBeau said. \"What is a federal right and what is not, is that you will be able to sell it to the federal government. And if you're a state that has no right, then you will be able to do that.\"\n",
      "\n",
      "LeBeau said that because the bill has passed the state legislature, it was decided that it was time for it to be put to a vote.\n",
      "\n",
      "\"We are going to get it passed, and that's why it's here,\" LeBeau said.\n",
      "==========\n",
      "\u001b[1mIndian government\u001b[0m and a government-sponsored, state-funded health centre in the city of Chittagong.\n",
      "\n",
      "The hospital, run by the State Health Department, has a budget of $17.5 million, but the main focus of the hospital is to treat patients from impoverished families, who are often under the poverty line.\n",
      "\n",
      "The government says it will provide $10 million in subsidies to help families who have been affected by the earthquake.\n",
      "\n",
      "The Health Ministry says the hospitals are in the best condition and are operating at a level of safety and efficiency that was previously expected, but could deteriorate as more people are affected.\n",
      "\n",
      "But the government says the government will not provide any additional funding in return for the assistance.\n",
      "None\n"
     ]
    }
   ],
   "source": [
    "print(ai.generate(n=2,\n",
    "                  prompt= 'Indian government' ,\n",
    "                  max_length = 350,\n",
    "                  temperature = 0.7,\n",
    "                  do_sample = True,\n",
    "                  return_as_list = False,\n",
    "                  seed = 42\n",
    "                  ))"
   ]
  },
  {
   "cell_type": "code",
   "execution_count": 115,
   "metadata": {},
   "outputs": [
    {
     "name": "stderr",
     "output_type": "stream",
     "text": [
      "Generate config GenerationConfig {\n",
      "  \"bos_token_id\": 50256,\n",
      "  \"eos_token_id\": 50256,\n",
      "  \"transformers_version\": \"4.26.1\"\n",
      "}\n",
      "\n",
      "A decoder-only architecture is being used, but right-padding was detected! For correct generation results, please set `padding_side='left'` when initializing the tokenizer.\n"
     ]
    },
    {
     "name": "stdout",
     "output_type": "stream",
     "text": [
      "\"For me, the hardest thing was trying to understand why I was not doing what I was doing at all. There's no one else who would think I was doing it.\"\n",
      "\n",
      "The question was posed to him by his mother, who was pregnant with his son before he was born.\n",
      "\n",
      "He said: \"The reason you're not doing what you were doing at all was because you wanted to die. You were trying to be a part of the world. You wanted to be a part of people. You wanted to know who you were, what you were doing and where you came from.\n",
      "\n",
      "\"So you got into an argument with your mother and she said: 'That's not what you're doing.' I said: 'No-no, it's not what you were doing, you're doing it to escape the world and to help others that need it – for me, the hardest thing was trying to understand why I was not doing what I was doing at all. There's no one else who would think I was doing it.\"\n",
      "==========\n",
      "Categories Categories Select Category Aime & Music History/Drama Dancer Dancing Dancer Dance Performances Fiction Documentary Documentary Documentary Drama Drama Drama/Fantasy Fiction Fiction/Graphic Novels/Movies/TV Shows/Music Musical Music Music/Oscars Movies Music/Oscars Music/Oscars Music/Oscars Music/Oscars Music/Oscars Music/Oscars Music/Oscars Music/Oscars Music/Oscars Music/Oscars Music/Oscars Music/Oscars Music/Oscars Music/Oscars Music/Oscars Music/Oscars Music/Oscars Music/Oscars Music/Oscars Music/Oscars Music/Oscars Music/Oscars Music/Oscars Music/Oscars Music/Oscars Music/Oscars Music/Oscars Music/Oscars Music/Oscars Music/Oscars Music/Oscars Music/Oscars Music/Oscars Music/Oscars Music/Oscars Music/Oscars Music/Oscars Music/Oscars Music/Oscars Music/Oscars Music/Oscars Music/Oscars Music/Oscars Music/Oscars Music/Oscars Music/Oscars Music/Oscars Music/Oscars Music/Oscars Music/Oscars Music/Oscars Music/Oscars Music/Oscars Music/Oscars Music/Oscars Music/Oscars Music/Oscars Music/Oscars Music/\n",
      "None\n"
     ]
    }
   ],
   "source": [
    "print(ai.generate(n=2,\n",
    "                  max_length = 350,\n",
    "                  temperature = 0.7,\n",
    "                  do_sample = True,\n",
    "                  return_as_list = False,\n",
    "                  seed = 42\n",
    "                  ))"
   ]
  },
  {
   "cell_type": "code",
   "execution_count": 116,
   "metadata": {},
   "outputs": [],
   "source": [
    "import pandas as pd\n",
    "import numpy as np"
   ]
  },
  {
   "cell_type": "code",
   "execution_count": 117,
   "metadata": {},
   "outputs": [
    {
     "data": {
      "text/html": [
       "<div>\n",
       "<style scoped>\n",
       "    .dataframe tbody tr th:only-of-type {\n",
       "        vertical-align: middle;\n",
       "    }\n",
       "\n",
       "    .dataframe tbody tr th {\n",
       "        vertical-align: top;\n",
       "    }\n",
       "\n",
       "    .dataframe thead th {\n",
       "        text-align: right;\n",
       "    }\n",
       "</style>\n",
       "<table border=\"1\" class=\"dataframe\">\n",
       "  <thead>\n",
       "    <tr style=\"text-align: right;\">\n",
       "      <th></th>\n",
       "      <th>Diet_type</th>\n",
       "      <th>Recipe_name</th>\n",
       "      <th>Cuisine_type</th>\n",
       "      <th>Protein(g)</th>\n",
       "      <th>Carbs(g)</th>\n",
       "      <th>Fat(g)</th>\n",
       "      <th>Extraction_day</th>\n",
       "      <th>Extraction_time</th>\n",
       "    </tr>\n",
       "  </thead>\n",
       "  <tbody>\n",
       "    <tr>\n",
       "      <th>0</th>\n",
       "      <td>paleo</td>\n",
       "      <td>Bone Broth From 'Nom Nom Paleo'</td>\n",
       "      <td>american</td>\n",
       "      <td>5.22</td>\n",
       "      <td>1.29</td>\n",
       "      <td>3.20</td>\n",
       "      <td>2022-10-16</td>\n",
       "      <td>17:20:09</td>\n",
       "    </tr>\n",
       "    <tr>\n",
       "      <th>1</th>\n",
       "      <td>paleo</td>\n",
       "      <td>Paleo Effect Asian-Glazed Pork Sides, A Sweet ...</td>\n",
       "      <td>south east asian</td>\n",
       "      <td>181.55</td>\n",
       "      <td>28.62</td>\n",
       "      <td>146.14</td>\n",
       "      <td>2022-10-16</td>\n",
       "      <td>17:20:09</td>\n",
       "    </tr>\n",
       "    <tr>\n",
       "      <th>2</th>\n",
       "      <td>paleo</td>\n",
       "      <td>Paleo Pumpkin Pie</td>\n",
       "      <td>american</td>\n",
       "      <td>30.91</td>\n",
       "      <td>302.59</td>\n",
       "      <td>96.76</td>\n",
       "      <td>2022-10-16</td>\n",
       "      <td>17:20:09</td>\n",
       "    </tr>\n",
       "    <tr>\n",
       "      <th>3</th>\n",
       "      <td>paleo</td>\n",
       "      <td>Strawberry Guacamole recipes</td>\n",
       "      <td>mexican</td>\n",
       "      <td>9.62</td>\n",
       "      <td>75.78</td>\n",
       "      <td>59.89</td>\n",
       "      <td>2022-10-16</td>\n",
       "      <td>17:20:09</td>\n",
       "    </tr>\n",
       "    <tr>\n",
       "      <th>4</th>\n",
       "      <td>paleo</td>\n",
       "      <td>Asian Cauliflower Fried \"Rice\" From 'Nom Nom P...</td>\n",
       "      <td>chinese</td>\n",
       "      <td>39.84</td>\n",
       "      <td>54.08</td>\n",
       "      <td>71.55</td>\n",
       "      <td>2022-10-16</td>\n",
       "      <td>17:20:09</td>\n",
       "    </tr>\n",
       "  </tbody>\n",
       "</table>\n",
       "</div>"
      ],
      "text/plain": [
       "  Diet_type                                        Recipe_name   \n",
       "0     paleo                    Bone Broth From 'Nom Nom Paleo'  \\\n",
       "1     paleo  Paleo Effect Asian-Glazed Pork Sides, A Sweet ...   \n",
       "2     paleo                                  Paleo Pumpkin Pie   \n",
       "3     paleo                       Strawberry Guacamole recipes   \n",
       "4     paleo  Asian Cauliflower Fried \"Rice\" From 'Nom Nom P...   \n",
       "\n",
       "       Cuisine_type  Protein(g)  Carbs(g)  Fat(g) Extraction_day   \n",
       "0          american        5.22      1.29    3.20     2022-10-16  \\\n",
       "1  south east asian      181.55     28.62  146.14     2022-10-16   \n",
       "2          american       30.91    302.59   96.76     2022-10-16   \n",
       "3           mexican        9.62     75.78   59.89     2022-10-16   \n",
       "4           chinese       39.84     54.08   71.55     2022-10-16   \n",
       "\n",
       "  Extraction_time  \n",
       "0        17:20:09  \n",
       "1        17:20:09  \n",
       "2        17:20:09  \n",
       "3        17:20:09  \n",
       "4        17:20:09  "
      ]
     },
     "execution_count": 117,
     "metadata": {},
     "output_type": "execute_result"
    }
   ],
   "source": [
    "df = pd.read_csv('/Users/ECU/Downloads/archive/All_Diets.csv',sep=',')\n",
    "df.head()"
   ]
  },
  {
   "cell_type": "code",
   "execution_count": 118,
   "metadata": {},
   "outputs": [
    {
     "data": {
      "text/html": [
       "<div>\n",
       "<style scoped>\n",
       "    .dataframe tbody tr th:only-of-type {\n",
       "        vertical-align: middle;\n",
       "    }\n",
       "\n",
       "    .dataframe tbody tr th {\n",
       "        vertical-align: top;\n",
       "    }\n",
       "\n",
       "    .dataframe thead th {\n",
       "        text-align: right;\n",
       "    }\n",
       "</style>\n",
       "<table border=\"1\" class=\"dataframe\">\n",
       "  <thead>\n",
       "    <tr style=\"text-align: right;\">\n",
       "      <th></th>\n",
       "      <th>Diet_type</th>\n",
       "      <th>Recipe_name</th>\n",
       "      <th>Cuisine_type</th>\n",
       "      <th>Protein(g)</th>\n",
       "      <th>Carbs(g)</th>\n",
       "      <th>Fat(g)</th>\n",
       "      <th>Extraction_day</th>\n",
       "      <th>Extraction_time</th>\n",
       "    </tr>\n",
       "  </thead>\n",
       "  <tbody>\n",
       "    <tr>\n",
       "      <th>0</th>\n",
       "      <td>dash</td>\n",
       "      <td>100-Mile Dash</td>\n",
       "      <td>american</td>\n",
       "      <td>1.90</td>\n",
       "      <td>236.76</td>\n",
       "      <td>1.02</td>\n",
       "      <td>2022-10-16</td>\n",
       "      <td>20:29:20</td>\n",
       "    </tr>\n",
       "    <tr>\n",
       "      <th>1</th>\n",
       "      <td>dash</td>\n",
       "      <td>Goulash In A Dash</td>\n",
       "      <td>french</td>\n",
       "      <td>137.31</td>\n",
       "      <td>120.32</td>\n",
       "      <td>35.92</td>\n",
       "      <td>2022-10-16</td>\n",
       "      <td>20:29:20</td>\n",
       "    </tr>\n",
       "    <tr>\n",
       "      <th>2</th>\n",
       "      <td>dash</td>\n",
       "      <td>Garlicky Wilted Kale (with a dash of Nutmeg)</td>\n",
       "      <td>american</td>\n",
       "      <td>29.41</td>\n",
       "      <td>75.78</td>\n",
       "      <td>47.80</td>\n",
       "      <td>2022-10-16</td>\n",
       "      <td>20:29:20</td>\n",
       "    </tr>\n",
       "    <tr>\n",
       "      <th>3</th>\n",
       "      <td>dash</td>\n",
       "      <td>Modern Cocktail No. 2 Recipe</td>\n",
       "      <td>world</td>\n",
       "      <td>0.06</td>\n",
       "      <td>18.81</td>\n",
       "      <td>0.17</td>\n",
       "      <td>2022-10-16</td>\n",
       "      <td>20:29:20</td>\n",
       "    </tr>\n",
       "    <tr>\n",
       "      <th>4</th>\n",
       "      <td>dash</td>\n",
       "      <td>Three Dots And A Dash</td>\n",
       "      <td>american</td>\n",
       "      <td>0.51</td>\n",
       "      <td>139.67</td>\n",
       "      <td>0.00</td>\n",
       "      <td>2022-10-16</td>\n",
       "      <td>20:29:20</td>\n",
       "    </tr>\n",
       "  </tbody>\n",
       "</table>\n",
       "</div>"
      ],
      "text/plain": [
       "  Diet_type                                   Recipe_name Cuisine_type   \n",
       "0      dash                                 100-Mile Dash     american  \\\n",
       "1      dash                             Goulash In A Dash       french   \n",
       "2      dash  Garlicky Wilted Kale (with a dash of Nutmeg)     american   \n",
       "3      dash                  Modern Cocktail No. 2 Recipe        world   \n",
       "4      dash                         Three Dots And A Dash     american   \n",
       "\n",
       "   Protein(g)  Carbs(g)  Fat(g) Extraction_day Extraction_time  \n",
       "0        1.90    236.76    1.02     2022-10-16        20:29:20  \n",
       "1      137.31    120.32   35.92     2022-10-16        20:29:20  \n",
       "2       29.41     75.78   47.80     2022-10-16        20:29:20  \n",
       "3        0.06     18.81    0.17     2022-10-16        20:29:20  \n",
       "4        0.51    139.67    0.00     2022-10-16        20:29:20  "
      ]
     },
     "execution_count": 118,
     "metadata": {},
     "output_type": "execute_result"
    }
   ],
   "source": [
    "df = pd.read_csv('/Users/ECU/Downloads/archive/dash.csv',sep=',')\n",
    "df.head()"
   ]
  },
  {
   "cell_type": "code",
   "execution_count": 119,
   "metadata": {},
   "outputs": [
    {
     "data": {
      "text/html": [
       "<div>\n",
       "<style scoped>\n",
       "    .dataframe tbody tr th:only-of-type {\n",
       "        vertical-align: middle;\n",
       "    }\n",
       "\n",
       "    .dataframe tbody tr th {\n",
       "        vertical-align: top;\n",
       "    }\n",
       "\n",
       "    .dataframe thead th {\n",
       "        text-align: right;\n",
       "    }\n",
       "</style>\n",
       "<table border=\"1\" class=\"dataframe\">\n",
       "  <thead>\n",
       "    <tr style=\"text-align: right;\">\n",
       "      <th></th>\n",
       "      <th>Diet_type</th>\n",
       "      <th>Recipe_name</th>\n",
       "      <th>Cuisine_type</th>\n",
       "      <th>Protein(g)</th>\n",
       "      <th>Carbs(g)</th>\n",
       "      <th>Fat(g)</th>\n",
       "      <th>Extraction_day</th>\n",
       "      <th>Extraction_time</th>\n",
       "    </tr>\n",
       "  </thead>\n",
       "  <tbody>\n",
       "    <tr>\n",
       "      <th>0</th>\n",
       "      <td>keto</td>\n",
       "      <td>Keto Fat Bombs</td>\n",
       "      <td>american</td>\n",
       "      <td>49.19</td>\n",
       "      <td>79.78</td>\n",
       "      <td>264.40</td>\n",
       "      <td>2022-10-16</td>\n",
       "      <td>17:58:03</td>\n",
       "    </tr>\n",
       "    <tr>\n",
       "      <th>1</th>\n",
       "      <td>keto</td>\n",
       "      <td>Keto Egg Bites Recipe</td>\n",
       "      <td>american</td>\n",
       "      <td>92.86</td>\n",
       "      <td>16.19</td>\n",
       "      <td>86.51</td>\n",
       "      <td>2022-10-16</td>\n",
       "      <td>17:58:03</td>\n",
       "    </tr>\n",
       "    <tr>\n",
       "      <th>2</th>\n",
       "      <td>keto</td>\n",
       "      <td>Keto Key Lime Mousse</td>\n",
       "      <td>american</td>\n",
       "      <td>27.49</td>\n",
       "      <td>23.58</td>\n",
       "      <td>177.43</td>\n",
       "      <td>2022-10-16</td>\n",
       "      <td>17:58:03</td>\n",
       "    </tr>\n",
       "    <tr>\n",
       "      <th>3</th>\n",
       "      <td>keto</td>\n",
       "      <td>Keto Peanut Butter Squares</td>\n",
       "      <td>american</td>\n",
       "      <td>130.00</td>\n",
       "      <td>507.48</td>\n",
       "      <td>362.36</td>\n",
       "      <td>2022-10-16</td>\n",
       "      <td>17:58:03</td>\n",
       "    </tr>\n",
       "    <tr>\n",
       "      <th>4</th>\n",
       "      <td>keto</td>\n",
       "      <td>YOGURT RICE, REINVENTED THE KETO WAY!</td>\n",
       "      <td>mediterranean</td>\n",
       "      <td>21.23</td>\n",
       "      <td>34.78</td>\n",
       "      <td>27.74</td>\n",
       "      <td>2022-10-16</td>\n",
       "      <td>17:58:03</td>\n",
       "    </tr>\n",
       "  </tbody>\n",
       "</table>\n",
       "</div>"
      ],
      "text/plain": [
       "  Diet_type                            Recipe_name   Cuisine_type  Protein(g)   \n",
       "0      keto                         Keto Fat Bombs       american       49.19  \\\n",
       "1      keto                  Keto Egg Bites Recipe       american       92.86   \n",
       "2      keto                   Keto Key Lime Mousse       american       27.49   \n",
       "3      keto             Keto Peanut Butter Squares       american      130.00   \n",
       "4      keto  YOGURT RICE, REINVENTED THE KETO WAY!  mediterranean       21.23   \n",
       "\n",
       "   Carbs(g)  Fat(g) Extraction_day Extraction_time  \n",
       "0     79.78  264.40     2022-10-16        17:58:03  \n",
       "1     16.19   86.51     2022-10-16        17:58:03  \n",
       "2     23.58  177.43     2022-10-16        17:58:03  \n",
       "3    507.48  362.36     2022-10-16        17:58:03  \n",
       "4     34.78   27.74     2022-10-16        17:58:03  "
      ]
     },
     "execution_count": 119,
     "metadata": {},
     "output_type": "execute_result"
    }
   ],
   "source": [
    "df = pd.read_csv('/Users/ECU/Downloads/archive/keto.csv',sep=',')\n",
    "df.head()"
   ]
  },
  {
   "cell_type": "code",
   "execution_count": 120,
   "metadata": {},
   "outputs": [
    {
     "data": {
      "text/html": [
       "<div>\n",
       "<style scoped>\n",
       "    .dataframe tbody tr th:only-of-type {\n",
       "        vertical-align: middle;\n",
       "    }\n",
       "\n",
       "    .dataframe tbody tr th {\n",
       "        vertical-align: top;\n",
       "    }\n",
       "\n",
       "    .dataframe thead th {\n",
       "        text-align: right;\n",
       "    }\n",
       "</style>\n",
       "<table border=\"1\" class=\"dataframe\">\n",
       "  <thead>\n",
       "    <tr style=\"text-align: right;\">\n",
       "      <th></th>\n",
       "      <th>Diet_type</th>\n",
       "      <th>Recipe_name</th>\n",
       "      <th>Cuisine_type</th>\n",
       "      <th>Protein(g)</th>\n",
       "      <th>Carbs(g)</th>\n",
       "      <th>Fat(g)</th>\n",
       "      <th>Extraction_day</th>\n",
       "      <th>Extraction_time</th>\n",
       "    </tr>\n",
       "  </thead>\n",
       "  <tbody>\n",
       "    <tr>\n",
       "      <th>0</th>\n",
       "      <td>mediterranean</td>\n",
       "      <td>Mediterranean Cucumber Tonic</td>\n",
       "      <td>mediterranean</td>\n",
       "      <td>0.25</td>\n",
       "      <td>12.01</td>\n",
       "      <td>0.33</td>\n",
       "      <td>2022-10-16</td>\n",
       "      <td>16:43:14</td>\n",
       "    </tr>\n",
       "    <tr>\n",
       "      <th>1</th>\n",
       "      <td>mediterranean</td>\n",
       "      <td>Loup de Mer (Mediterranean Seabass)</td>\n",
       "      <td>mediterranean</td>\n",
       "      <td>306.14</td>\n",
       "      <td>43.10</td>\n",
       "      <td>26.55</td>\n",
       "      <td>2022-10-16</td>\n",
       "      <td>16:43:14</td>\n",
       "    </tr>\n",
       "    <tr>\n",
       "      <th>2</th>\n",
       "      <td>mediterranean</td>\n",
       "      <td>Mediterranean Baked Trout with Olives, Fennel ...</td>\n",
       "      <td>mediterranean</td>\n",
       "      <td>187.14</td>\n",
       "      <td>42.31</td>\n",
       "      <td>87.94</td>\n",
       "      <td>2022-10-16</td>\n",
       "      <td>16:43:14</td>\n",
       "    </tr>\n",
       "    <tr>\n",
       "      <th>3</th>\n",
       "      <td>mediterranean</td>\n",
       "      <td>Mediterranean Salmon Risotto recipes</td>\n",
       "      <td>nordic</td>\n",
       "      <td>395.50</td>\n",
       "      <td>287.10</td>\n",
       "      <td>291.04</td>\n",
       "      <td>2022-10-16</td>\n",
       "      <td>16:43:14</td>\n",
       "    </tr>\n",
       "    <tr>\n",
       "      <th>4</th>\n",
       "      <td>mediterranean</td>\n",
       "      <td>Mediterranean Pita Melts</td>\n",
       "      <td>mediterranean</td>\n",
       "      <td>46.57</td>\n",
       "      <td>139.71</td>\n",
       "      <td>37.70</td>\n",
       "      <td>2022-10-16</td>\n",
       "      <td>16:43:14</td>\n",
       "    </tr>\n",
       "  </tbody>\n",
       "</table>\n",
       "</div>"
      ],
      "text/plain": [
       "       Diet_type                                        Recipe_name   \n",
       "0  mediterranean                       Mediterranean Cucumber Tonic  \\\n",
       "1  mediterranean                Loup de Mer (Mediterranean Seabass)   \n",
       "2  mediterranean  Mediterranean Baked Trout with Olives, Fennel ...   \n",
       "3  mediterranean               Mediterranean Salmon Risotto recipes   \n",
       "4  mediterranean                           Mediterranean Pita Melts   \n",
       "\n",
       "    Cuisine_type  Protein(g)  Carbs(g)  Fat(g) Extraction_day Extraction_time  \n",
       "0  mediterranean        0.25     12.01    0.33     2022-10-16        16:43:14  \n",
       "1  mediterranean      306.14     43.10   26.55     2022-10-16        16:43:14  \n",
       "2  mediterranean      187.14     42.31   87.94     2022-10-16        16:43:14  \n",
       "3         nordic      395.50    287.10  291.04     2022-10-16        16:43:14  \n",
       "4  mediterranean       46.57    139.71   37.70     2022-10-16        16:43:14  "
      ]
     },
     "execution_count": 120,
     "metadata": {},
     "output_type": "execute_result"
    }
   ],
   "source": [
    "df = pd.read_csv('/Users/ECU/Downloads/archive/mediterranean.csv',sep=',')\n",
    "df.head()"
   ]
  },
  {
   "cell_type": "code",
   "execution_count": 121,
   "metadata": {},
   "outputs": [
    {
     "data": {
      "text/html": [
       "<div>\n",
       "<style scoped>\n",
       "    .dataframe tbody tr th:only-of-type {\n",
       "        vertical-align: middle;\n",
       "    }\n",
       "\n",
       "    .dataframe tbody tr th {\n",
       "        vertical-align: top;\n",
       "    }\n",
       "\n",
       "    .dataframe thead th {\n",
       "        text-align: right;\n",
       "    }\n",
       "</style>\n",
       "<table border=\"1\" class=\"dataframe\">\n",
       "  <thead>\n",
       "    <tr style=\"text-align: right;\">\n",
       "      <th></th>\n",
       "      <th>Diet_type</th>\n",
       "      <th>Recipe_name</th>\n",
       "      <th>Cuisine_type</th>\n",
       "      <th>Protein(g)</th>\n",
       "      <th>Carbs(g)</th>\n",
       "      <th>Fat(g)</th>\n",
       "      <th>Extraction_day</th>\n",
       "      <th>Extraction_time</th>\n",
       "    </tr>\n",
       "  </thead>\n",
       "  <tbody>\n",
       "    <tr>\n",
       "      <th>0</th>\n",
       "      <td>paleo</td>\n",
       "      <td>Bone Broth From 'Nom Nom Paleo'</td>\n",
       "      <td>american</td>\n",
       "      <td>5.22</td>\n",
       "      <td>1.29</td>\n",
       "      <td>3.20</td>\n",
       "      <td>2022-10-16</td>\n",
       "      <td>17:20:09</td>\n",
       "    </tr>\n",
       "    <tr>\n",
       "      <th>1</th>\n",
       "      <td>paleo</td>\n",
       "      <td>Paleo Effect Asian-Glazed Pork Sides, A Sweet ...</td>\n",
       "      <td>south east asian</td>\n",
       "      <td>181.55</td>\n",
       "      <td>28.62</td>\n",
       "      <td>146.14</td>\n",
       "      <td>2022-10-16</td>\n",
       "      <td>17:20:09</td>\n",
       "    </tr>\n",
       "    <tr>\n",
       "      <th>2</th>\n",
       "      <td>paleo</td>\n",
       "      <td>Paleo Pumpkin Pie</td>\n",
       "      <td>american</td>\n",
       "      <td>30.91</td>\n",
       "      <td>302.59</td>\n",
       "      <td>96.76</td>\n",
       "      <td>2022-10-16</td>\n",
       "      <td>17:20:09</td>\n",
       "    </tr>\n",
       "    <tr>\n",
       "      <th>3</th>\n",
       "      <td>paleo</td>\n",
       "      <td>Strawberry Guacamole recipes</td>\n",
       "      <td>mexican</td>\n",
       "      <td>9.62</td>\n",
       "      <td>75.78</td>\n",
       "      <td>59.89</td>\n",
       "      <td>2022-10-16</td>\n",
       "      <td>17:20:09</td>\n",
       "    </tr>\n",
       "    <tr>\n",
       "      <th>4</th>\n",
       "      <td>paleo</td>\n",
       "      <td>Asian Cauliflower Fried \"Rice\" From 'Nom Nom P...</td>\n",
       "      <td>chinese</td>\n",
       "      <td>39.84</td>\n",
       "      <td>54.08</td>\n",
       "      <td>71.55</td>\n",
       "      <td>2022-10-16</td>\n",
       "      <td>17:20:09</td>\n",
       "    </tr>\n",
       "  </tbody>\n",
       "</table>\n",
       "</div>"
      ],
      "text/plain": [
       "  Diet_type                                        Recipe_name   \n",
       "0     paleo                    Bone Broth From 'Nom Nom Paleo'  \\\n",
       "1     paleo  Paleo Effect Asian-Glazed Pork Sides, A Sweet ...   \n",
       "2     paleo                                  Paleo Pumpkin Pie   \n",
       "3     paleo                       Strawberry Guacamole recipes   \n",
       "4     paleo  Asian Cauliflower Fried \"Rice\" From 'Nom Nom P...   \n",
       "\n",
       "       Cuisine_type  Protein(g)  Carbs(g)  Fat(g) Extraction_day   \n",
       "0          american        5.22      1.29    3.20     2022-10-16  \\\n",
       "1  south east asian      181.55     28.62  146.14     2022-10-16   \n",
       "2          american       30.91    302.59   96.76     2022-10-16   \n",
       "3           mexican        9.62     75.78   59.89     2022-10-16   \n",
       "4           chinese       39.84     54.08   71.55     2022-10-16   \n",
       "\n",
       "  Extraction_time  \n",
       "0        17:20:09  \n",
       "1        17:20:09  \n",
       "2        17:20:09  \n",
       "3        17:20:09  \n",
       "4        17:20:09  "
      ]
     },
     "execution_count": 121,
     "metadata": {},
     "output_type": "execute_result"
    }
   ],
   "source": [
    "df = pd.read_csv('/Users/ECU/Downloads/archive/paleo.csv',sep=',')\n",
    "df.head()"
   ]
  },
  {
   "cell_type": "code",
   "execution_count": 122,
   "metadata": {},
   "outputs": [
    {
     "data": {
      "text/html": [
       "<div>\n",
       "<style scoped>\n",
       "    .dataframe tbody tr th:only-of-type {\n",
       "        vertical-align: middle;\n",
       "    }\n",
       "\n",
       "    .dataframe tbody tr th {\n",
       "        vertical-align: top;\n",
       "    }\n",
       "\n",
       "    .dataframe thead th {\n",
       "        text-align: right;\n",
       "    }\n",
       "</style>\n",
       "<table border=\"1\" class=\"dataframe\">\n",
       "  <thead>\n",
       "    <tr style=\"text-align: right;\">\n",
       "      <th></th>\n",
       "      <th>Diet_type</th>\n",
       "      <th>Recipe_name</th>\n",
       "      <th>Cuisine_type</th>\n",
       "      <th>Protein(g)</th>\n",
       "      <th>Carbs(g)</th>\n",
       "      <th>Fat(g)</th>\n",
       "      <th>Extraction_day</th>\n",
       "      <th>Extraction_time</th>\n",
       "    </tr>\n",
       "  </thead>\n",
       "  <tbody>\n",
       "    <tr>\n",
       "      <th>0</th>\n",
       "      <td>vegan</td>\n",
       "      <td>Spiked Vegan Eggnog</td>\n",
       "      <td>american</td>\n",
       "      <td>46.36</td>\n",
       "      <td>84.52</td>\n",
       "      <td>42.61</td>\n",
       "      <td>2022-10-16</td>\n",
       "      <td>20:02:29</td>\n",
       "    </tr>\n",
       "    <tr>\n",
       "      <th>1</th>\n",
       "      <td>vegan</td>\n",
       "      <td>Vegan Cucumber Tea Sandwiches</td>\n",
       "      <td>american</td>\n",
       "      <td>41.73</td>\n",
       "      <td>143.91</td>\n",
       "      <td>73.88</td>\n",
       "      <td>2022-10-16</td>\n",
       "      <td>20:02:29</td>\n",
       "    </tr>\n",
       "    <tr>\n",
       "      <th>2</th>\n",
       "      <td>vegan</td>\n",
       "      <td>Vegan Broccoli Soup Recipe</td>\n",
       "      <td>american</td>\n",
       "      <td>103.83</td>\n",
       "      <td>82.54</td>\n",
       "      <td>139.30</td>\n",
       "      <td>2022-10-16</td>\n",
       "      <td>20:02:29</td>\n",
       "    </tr>\n",
       "    <tr>\n",
       "      <th>3</th>\n",
       "      <td>vegan</td>\n",
       "      <td>Baked Vegan Mac and Cheese Recipe</td>\n",
       "      <td>american</td>\n",
       "      <td>140.19</td>\n",
       "      <td>524.38</td>\n",
       "      <td>221.29</td>\n",
       "      <td>2022-10-16</td>\n",
       "      <td>20:02:29</td>\n",
       "    </tr>\n",
       "    <tr>\n",
       "      <th>4</th>\n",
       "      <td>vegan</td>\n",
       "      <td>Vegan Nachos</td>\n",
       "      <td>american</td>\n",
       "      <td>73.05</td>\n",
       "      <td>266.38</td>\n",
       "      <td>166.64</td>\n",
       "      <td>2022-10-16</td>\n",
       "      <td>20:02:29</td>\n",
       "    </tr>\n",
       "  </tbody>\n",
       "</table>\n",
       "</div>"
      ],
      "text/plain": [
       "  Diet_type                        Recipe_name Cuisine_type  Protein(g)   \n",
       "0     vegan                Spiked Vegan Eggnog     american       46.36  \\\n",
       "1     vegan      Vegan Cucumber Tea Sandwiches     american       41.73   \n",
       "2     vegan         Vegan Broccoli Soup Recipe     american      103.83   \n",
       "3     vegan  Baked Vegan Mac and Cheese Recipe     american      140.19   \n",
       "4     vegan                       Vegan Nachos     american       73.05   \n",
       "\n",
       "   Carbs(g)  Fat(g) Extraction_day Extraction_time  \n",
       "0     84.52   42.61     2022-10-16        20:02:29  \n",
       "1    143.91   73.88     2022-10-16        20:02:29  \n",
       "2     82.54  139.30     2022-10-16        20:02:29  \n",
       "3    524.38  221.29     2022-10-16        20:02:29  \n",
       "4    266.38  166.64     2022-10-16        20:02:29  "
      ]
     },
     "execution_count": 122,
     "metadata": {},
     "output_type": "execute_result"
    }
   ],
   "source": [
    "df = pd.read_csv('/Users/ECU/Downloads/archive/vegan.csv',sep=',')\n",
    "df.head()"
   ]
  },
  {
   "cell_type": "code",
   "execution_count": 123,
   "metadata": {},
   "outputs": [
    {
     "data": {
      "text/plain": [
       "Diet_type          False\n",
       "Recipe_name        False\n",
       "Cuisine_type       False\n",
       "Protein(g)         False\n",
       "Carbs(g)           False\n",
       "Fat(g)             False\n",
       "Extraction_day     False\n",
       "Extraction_time    False\n",
       "dtype: bool"
      ]
     },
     "execution_count": 123,
     "metadata": {},
     "output_type": "execute_result"
    }
   ],
   "source": [
    "# Checking for  null\n",
    "df.isna().any()"
   ]
  },
  {
   "cell_type": "code",
   "execution_count": 124,
   "metadata": {},
   "outputs": [
    {
     "data": {
      "text/plain": [
       "False    1520\n",
       "True        2\n",
       "Name: count, dtype: int64"
      ]
     },
     "execution_count": 124,
     "metadata": {},
     "output_type": "execute_result"
    }
   ],
   "source": [
    "# Check duplicated\n",
    "df.duplicated().value_counts()"
   ]
  },
  {
   "cell_type": "code",
   "execution_count": 125,
   "metadata": {},
   "outputs": [
    {
     "data": {
      "text/html": [
       "<div>\n",
       "<style scoped>\n",
       "    .dataframe tbody tr th:only-of-type {\n",
       "        vertical-align: middle;\n",
       "    }\n",
       "\n",
       "    .dataframe tbody tr th {\n",
       "        vertical-align: top;\n",
       "    }\n",
       "\n",
       "    .dataframe thead th {\n",
       "        text-align: right;\n",
       "    }\n",
       "</style>\n",
       "<table border=\"1\" class=\"dataframe\">\n",
       "  <thead>\n",
       "    <tr style=\"text-align: right;\">\n",
       "      <th></th>\n",
       "      <th>Diet_type</th>\n",
       "      <th>Recipe_name</th>\n",
       "      <th>Cuisine_type</th>\n",
       "      <th>Protein(g)</th>\n",
       "      <th>Carbs(g)</th>\n",
       "      <th>Fat(g)</th>\n",
       "      <th>Extraction_day</th>\n",
       "      <th>Extraction_time</th>\n",
       "    </tr>\n",
       "  </thead>\n",
       "  <tbody>\n",
       "    <tr>\n",
       "      <th>1500</th>\n",
       "      <td>vegan</td>\n",
       "      <td>Strawberry Rhubarb Jam {Vegan}</td>\n",
       "      <td>american</td>\n",
       "      <td>2.48</td>\n",
       "      <td>155.82</td>\n",
       "      <td>22.73</td>\n",
       "      <td>2022-10-16</td>\n",
       "      <td>20:13:34</td>\n",
       "    </tr>\n",
       "    <tr>\n",
       "      <th>1504</th>\n",
       "      <td>vegan</td>\n",
       "      <td>Strawberry Rhubarb Jam {Vegan}</td>\n",
       "      <td>american</td>\n",
       "      <td>2.48</td>\n",
       "      <td>155.82</td>\n",
       "      <td>22.73</td>\n",
       "      <td>2022-10-16</td>\n",
       "      <td>20:13:34</td>\n",
       "    </tr>\n",
       "    <tr>\n",
       "      <th>1511</th>\n",
       "      <td>vegan</td>\n",
       "      <td>Strawberry Rhubarb Jam {Vegan}</td>\n",
       "      <td>american</td>\n",
       "      <td>2.48</td>\n",
       "      <td>155.82</td>\n",
       "      <td>22.73</td>\n",
       "      <td>2022-10-16</td>\n",
       "      <td>20:13:40</td>\n",
       "    </tr>\n",
       "    <tr>\n",
       "      <th>1515</th>\n",
       "      <td>vegan</td>\n",
       "      <td>Strawberry Rhubarb Jam {Vegan}</td>\n",
       "      <td>american</td>\n",
       "      <td>2.48</td>\n",
       "      <td>155.82</td>\n",
       "      <td>22.73</td>\n",
       "      <td>2022-10-16</td>\n",
       "      <td>20:13:40</td>\n",
       "    </tr>\n",
       "  </tbody>\n",
       "</table>\n",
       "</div>"
      ],
      "text/plain": [
       "     Diet_type                     Recipe_name Cuisine_type  Protein(g)   \n",
       "1500     vegan  Strawberry Rhubarb Jam {Vegan}     american        2.48  \\\n",
       "1504     vegan  Strawberry Rhubarb Jam {Vegan}     american        2.48   \n",
       "1511     vegan  Strawberry Rhubarb Jam {Vegan}     american        2.48   \n",
       "1515     vegan  Strawberry Rhubarb Jam {Vegan}     american        2.48   \n",
       "\n",
       "      Carbs(g)  Fat(g) Extraction_day Extraction_time  \n",
       "1500    155.82   22.73     2022-10-16        20:13:34  \n",
       "1504    155.82   22.73     2022-10-16        20:13:34  \n",
       "1511    155.82   22.73     2022-10-16        20:13:40  \n",
       "1515    155.82   22.73     2022-10-16        20:13:40  "
      ]
     },
     "execution_count": 125,
     "metadata": {},
     "output_type": "execute_result"
    }
   ],
   "source": [
    "# load duplicated\n",
    "df[df.duplicated(keep=False) == True]"
   ]
  },
  {
   "cell_type": "code",
   "execution_count": 126,
   "metadata": {},
   "outputs": [
    {
     "data": {
      "text/plain": [
       "False    1520\n",
       "Name: count, dtype: int64"
      ]
     },
     "execution_count": 126,
     "metadata": {},
     "output_type": "execute_result"
    }
   ],
   "source": [
    "# Dropout duplicated and double check\n",
    "df_nodup = df.drop_duplicates()\n",
    "df_nodup.duplicated().value_counts()"
   ]
  },
  {
   "cell_type": "code",
   "execution_count": 127,
   "metadata": {},
   "outputs": [
    {
     "data": {
      "text/plain": [
       "Diet_type\n",
       "vegan    1.0\n",
       "Name: proportion, dtype: float64"
      ]
     },
     "execution_count": 127,
     "metadata": {},
     "output_type": "execute_result"
    }
   ],
   "source": [
    "# Checking the Diet_type\n",
    "df_nodup['Diet_type'].value_counts(normalize=True)"
   ]
  },
  {
   "cell_type": "code",
   "execution_count": 128,
   "metadata": {},
   "outputs": [
    {
     "data": {
      "text/plain": [
       "Cuisine_type\n",
       "american            0.607237\n",
       "mediterranean       0.065132\n",
       "italian             0.053289\n",
       "french              0.050000\n",
       "asian               0.044079\n",
       "indian              0.031579\n",
       "south east asian    0.030263\n",
       "mexican             0.025000\n",
       "south american      0.020395\n",
       "british             0.017763\n",
       "japanese            0.015789\n",
       "chinese             0.011184\n",
       "middle eastern      0.009868\n",
       "world               0.006579\n",
       "nordic              0.005921\n",
       "eastern europe      0.002632\n",
       "central europe      0.002632\n",
       "caribbean           0.000658\n",
       "Name: proportion, dtype: float64"
      ]
     },
     "execution_count": 128,
     "metadata": {},
     "output_type": "execute_result"
    }
   ],
   "source": [
    "# Checking the Cuisine_type\n",
    "df_nodup['Cuisine_type'].value_counts(normalize=True)"
   ]
  },
  {
   "cell_type": "code",
   "execution_count": 129,
   "metadata": {},
   "outputs": [
    {
     "data": {
      "text/html": [
       "<div>\n",
       "<style scoped>\n",
       "    .dataframe tbody tr th:only-of-type {\n",
       "        vertical-align: middle;\n",
       "    }\n",
       "\n",
       "    .dataframe tbody tr th {\n",
       "        vertical-align: top;\n",
       "    }\n",
       "\n",
       "    .dataframe thead th {\n",
       "        text-align: right;\n",
       "    }\n",
       "</style>\n",
       "<table border=\"1\" class=\"dataframe\">\n",
       "  <thead>\n",
       "    <tr style=\"text-align: right;\">\n",
       "      <th></th>\n",
       "      <th>Protein(g)</th>\n",
       "      <th>Carbs(g)</th>\n",
       "      <th>Fat(g)</th>\n",
       "    </tr>\n",
       "  </thead>\n",
       "  <tbody>\n",
       "    <tr>\n",
       "      <th>count</th>\n",
       "      <td>1520.000000</td>\n",
       "      <td>1520.000000</td>\n",
       "      <td>1520.000000</td>\n",
       "    </tr>\n",
       "    <tr>\n",
       "      <th>mean</th>\n",
       "      <td>56.227658</td>\n",
       "      <td>254.133382</td>\n",
       "      <td>103.405691</td>\n",
       "    </tr>\n",
       "    <tr>\n",
       "      <th>std</th>\n",
       "      <td>47.156725</td>\n",
       "      <td>223.484745</td>\n",
       "      <td>120.394498</td>\n",
       "    </tr>\n",
       "    <tr>\n",
       "      <th>min</th>\n",
       "      <td>0.360000</td>\n",
       "      <td>0.100000</td>\n",
       "      <td>0.060000</td>\n",
       "    </tr>\n",
       "    <tr>\n",
       "      <th>25%</th>\n",
       "      <td>25.282500</td>\n",
       "      <td>106.532500</td>\n",
       "      <td>39.840000</td>\n",
       "    </tr>\n",
       "    <tr>\n",
       "      <th>50%</th>\n",
       "      <td>44.685000</td>\n",
       "      <td>201.620000</td>\n",
       "      <td>71.815000</td>\n",
       "    </tr>\n",
       "    <tr>\n",
       "      <th>75%</th>\n",
       "      <td>74.672500</td>\n",
       "      <td>340.512500</td>\n",
       "      <td>128.297500</td>\n",
       "    </tr>\n",
       "    <tr>\n",
       "      <th>max</th>\n",
       "      <td>431.100000</td>\n",
       "      <td>3204.430000</td>\n",
       "      <td>1930.240000</td>\n",
       "    </tr>\n",
       "  </tbody>\n",
       "</table>\n",
       "</div>"
      ],
      "text/plain": [
       "        Protein(g)     Carbs(g)       Fat(g)\n",
       "count  1520.000000  1520.000000  1520.000000\n",
       "mean     56.227658   254.133382   103.405691\n",
       "std      47.156725   223.484745   120.394498\n",
       "min       0.360000     0.100000     0.060000\n",
       "25%      25.282500   106.532500    39.840000\n",
       "50%      44.685000   201.620000    71.815000\n",
       "75%      74.672500   340.512500   128.297500\n",
       "max     431.100000  3204.430000  1930.240000"
      ]
     },
     "execution_count": 129,
     "metadata": {},
     "output_type": "execute_result"
    }
   ],
   "source": [
    "# Check Protein(g), Carbs(g) and Fat(g)\n",
    "df_nodup.describe()"
   ]
  },
  {
   "cell_type": "code",
   "execution_count": 130,
   "metadata": {},
   "outputs": [],
   "source": [
    "import matplotlib\n",
    "import matplotlib.pyplot as plt"
   ]
  },
  {
   "cell_type": "code",
   "execution_count": 131,
   "metadata": {},
   "outputs": [
    {
     "data": {
      "text/plain": [
       "Text(0, 0.5, 'Nutritious Information')"
      ]
     },
     "execution_count": 131,
     "metadata": {},
     "output_type": "execute_result"
    },
    {
     "data": {
      "image/png": "[encoded data removed]",
      "text/plain": [
       "<Figure size 1100x600 with 1 Axes>"
      ]
     },
     "metadata": {},
     "output_type": "display_data"
    }
   ],
   "source": [
    "plotdata = pd.DataFrame({\n",
    "    \"Protein(g)\":list(df_nodup[['Protein(g)']].squeeze()),\n",
    "    \"Carbs(g)\":list(df_nodup[['Carbs(g)']].squeeze()),\n",
    "    \"Fat(g)\":list(df_nodup[['Fat(g)']].squeeze())})\n",
    "\n",
    "plt.figure(figsize =(11, 6))\n",
    "\n",
    "bplots = plt.boxplot(plotdata, vert = 0, patch_artist = True, labels=[\"Protein\",\"Carbs\",\"Fat\"])\n",
    "\n",
    "colors = [\"cadetblue\",\"darkslategray\",\"skyblue\"]\n",
    "for whisker in bplots['whiskers']:\n",
    "    whisker.set(color='gray', linewidth=2)\n",
    "\n",
    "for cap in bplots['caps']:\n",
    "    cap.set(color='gray', linewidth=2)\n",
    "\n",
    "for median in bplots['medians']:\n",
    "    median.set(color='gray', linewidth=2)\n",
    "\n",
    "plt.title(\"Boxplot for Nutritious Information\", loc=\"center\", fontsize=18)\n",
    "plt.xlabel(\"Amount (in grams)\")\n",
    "plt.ylabel(\"Nutritious Information\")"
   ]
  },
  {
   "cell_type": "code",
   "execution_count": 132,
   "metadata": {},
   "outputs": [],
   "source": [
    "import seaborn as sns\n",
    "sns.set_style(\"white\")"
   ]
  },
  {
   "cell_type": "code",
   "execution_count": 133,
   "metadata": {},
   "outputs": [
    {
     "data": {
      "image/png": "[encoded data removed]",
      "text/plain": [
       "<Figure size 1000x600 with 1 Axes>"
      ]
     },
     "metadata": {},
     "output_type": "display_data"
    }
   ],
   "source": [
    "# Nutrition Information\n",
    "analise1 = df_nodup.groupby(\"Diet_type\").aggregate({'Protein(g)':'mean','Carbs(g)':'mean','Fat(g)':'mean'})\n",
    "analise1_frame = analise1.reset_index()\n",
    "\n",
    "# Plot\n",
    "plotdata = pd.DataFrame({\n",
    "    \"Protein\":(analise1_frame[['Protein(g)']].squeeze()),\n",
    "    \"Carbs\":(analise1_frame[['Carbs(g)']].squeeze()),\n",
    "    \"Fat\":(analise1_frame[['Fat(g)']].squeeze())\n",
    "    }, \n",
    "    index = ['Dash', 'Keto', 'Mediterranean','Paleo', 'Vegan']\n",
    ")\n",
    "\n",
    "plotdata.plot(kind=\"bar\", color=[\"cadetblue\",\"darkslategray\",\"skyblue\"],figsize=(10, 6),rot=0)\n",
    "plt.title(\"Diet Type X Nutrition Information\",loc=\"center\", fontsize=18)#fontsize=\"x-large\",weight=\"bold\")\n",
    "plt.xlabel(\"Diet Type\",fontsize=\"x-large\")\n",
    "plt.ylabel(\"Amount (in grams)\", fontsize=\"x-large\");"
   ]
  },
  {
   "cell_type": "code",
   "execution_count": 134,
   "metadata": {},
   "outputs": [
    {
     "data": {
      "text/plain": [
       "array([[1.  , 0.45, 0.24],\n",
       "       [0.45, 1.  , 0.39],\n",
       "       [0.24, 0.39, 1.  ]])"
      ]
     },
     "execution_count": 134,
     "metadata": {},
     "output_type": "execute_result"
    }
   ],
   "source": [
    "# Correlation between Nutrition Information\n",
    "x = df_nodup['Protein(g)']\n",
    "y = df_nodup['Carbs(g)']\n",
    "z = df_nodup['Fat(g)']\n",
    "xyz = [x,y,z]\n",
    "\n",
    "corr_matrix = np.corrcoef(xyz).round(decimals=2)\n",
    "corr_matrix"
   ]
  },
  {
   "cell_type": "code",
   "execution_count": 135,
   "metadata": {},
   "outputs": [
    {
     "data": {
      "image/png": "[encoded data removed]",
      "text/plain": [
       "<Figure size 640x480 with 2 Axes>"
      ]
     },
     "metadata": {},
     "output_type": "display_data"
    }
   ],
   "source": [
    "fig, ax = plt.subplots()\n",
    "im = ax.imshow(corr_matrix)\n",
    "im.set_clim(-1, 1)\n",
    "ax.grid(False)\n",
    "ax.xaxis.set(ticks=(0, 1, 2), ticklabels=('Protein', 'Carbs', 'Fat'))\n",
    "ax.yaxis.set(ticks=(0, 1, 2), ticklabels=('Protein', 'Carbs', 'Fat'))\n",
    "ax.set_ylim(2.5, -0.5)\n",
    "for i in range(3):\n",
    "    for j in range(3):\n",
    "        ax.text(j, i, corr_matrix[i, j], ha='center', va='center',\n",
    "                color='b')\n",
    "cbar = ax.figure.colorbar(im, ax=ax, format='% .2f')"
   ]
  },
  {
   "cell_type": "code",
   "execution_count": 154,
   "metadata": {},
   "outputs": [
    {
     "data": {
      "text/plain": [
       "<matplotlib.legend.Legend at 0x140e34b80>"
      ]
     },
     "execution_count": 154,
     "metadata": {},
     "output_type": "execute_result"
    },
    {
     "data": {
      "image/png": "[encoded data removed]",
      "text/plain": [
       "<Figure size 1440x900 with 1 Axes>"
      ]
     },
     "metadata": {},
     "output_type": "display_data"
    }
   ],
   "source": [
    "#Recioe with low and high fat\n",
    "rec_low_fat = df_nodup.groupby([\"Diet_type\",\"Recipe_name\",\"Cuisine_type\"]).aggregate({'Fat(g)':'min'}).reset_index().sort_values(by=['Diet_type','Fat(g)'])\n",
    "\n",
    "# Plot Top 3 recipe with high fat\n",
    "dash_hf = rec_low_fat[rec_low_fat['Diet_type'] == 'dash'][-4:-1:]\n",
    "med_hf = rec_low_fat[rec_low_fat['Diet_type'] == 'mediterranean'][-4:-1:]\n",
    "vegan_hf = rec_low_fat[rec_low_fat['Diet_type'] == 'vegan'][-4:-1:]\n",
    "keto_hf = rec_low_fat[rec_low_fat['Diet_type'] == 'keto'][-4:-1:]\n",
    "paleo_hf = rec_low_fat[rec_low_fat['Diet_type'] == 'paleo'][-4:-1:]\n",
    "\n",
    "# Prepare Data\n",
    "df = pd.concat([med_hf, dash_hf, vegan_hf, keto_hf, paleo_hf])\n",
    "df.reset_index(inplace=True)\n",
    "\n",
    "# Draw plot\n",
    "plt.figure(figsize=(16,10), dpi= 90)\n",
    "# plt.hlines(y=df['Recipe_name']['dash'], xmin=0, xmax=df['Fat(g)'], \n",
    "#            color=[\"cadetblue\",\"darkslategray\",\"skyblue\",\"dodgerblue\",\"lightskyblue\"],\n",
    "#            alpha=0.8, linewidth=10)\n",
    "\n",
    "plt.hlines(y=med_hf['Recipe_name'], xmin=0, xmax=med_hf['Fat(g)'], \n",
    "           color=\"cadetblue\",\n",
    "           alpha=0.8, linewidth=10)\n",
    "plt.hlines(y=dash_hf['Recipe_name'], xmin=0, xmax=dash_hf['Fat(g)'], \n",
    "           color=\"darkslategray\",\n",
    "           alpha=0.8, linewidth=10)\n",
    "plt.hlines(y=vegan_hf['Recipe_name'], xmin=0, xmax=vegan_hf['Fat(g)'], \n",
    "           color=\"skyblue\",\n",
    "           alpha=0.8, linewidth=10)\n",
    "plt.hlines(y=keto_hf['Recipe_name'], xmin=0, xmax=keto_hf['Fat(g)'], \n",
    "           color=\"dodgerblue\",\n",
    "           alpha=0.8, linewidth=10)\n",
    "plt.hlines(y=paleo_hf['Recipe_name'], xmin=0, xmax=paleo_hf['Fat(g)'], \n",
    "           color=\"lightskyblue\",\n",
    "           alpha=0.8, linewidth=10)\n",
    "\n",
    "# Decorations\n",
    "plt.title('Top 3 highest Fat Recipe Name', fontdict={'size':20},fontsize=\"x-large\",weight=\"bold\")\n",
    "plt.grid(linestyle='--', alpha=0.1)\n",
    "plt.xlabel('Unit(g)',fontsize=\"x-large\")\n",
    "plt.ylabel('Recipe Name',fontsize=\"x-large\")\n",
    "plt.legend([\"Mediterranean\",\"Dash\",\"Vegan\",\"keto\",\"Paleo\"], loc =\"lower right\")"
   ]
  },
  {
   "cell_type": "code",
   "execution_count": 137,
   "metadata": {},
   "outputs": [
    {
     "name": "stderr",
     "output_type": "stream",
     "text": [
      "[nltk_data] Downloading package punkt to /Users/ECU/nltk_data...\n",
      "[nltk_data]   Package punkt is already up-to-date!\n"
     ]
    }
   ],
   "source": [
    "# Import tokenize \n",
    "import nltk\n",
    "from nltk.tokenize import sent_tokenize\n",
    "nltk.download('punkt')\n",
    "from nltk.tokenize import word_tokenize\n",
    "from nltk.tokenize import WordPunctTokenizer"
   ]
  },
  {
   "cell_type": "code",
   "execution_count": 138,
   "metadata": {},
   "outputs": [],
   "source": [
    "# Set the diet type into separate dataset\n",
    "med = df[df['Diet_type'] == 'mediterranean']\n",
    "dash = df[df['Diet_type'] == 'dash']\n",
    "vegan = df[df['Diet_type'] == 'vegan']\n",
    "keto = df[df['Diet_type'] == 'keto']\n",
    "paleo = df[df['Diet_type'] == 'paleo']\n",
    "\n",
    "# Split sentences into word (token) using word tokenze\n",
    "med['wt'] = [word_tokenize(med['Recipe_name'][i]) for i in med.index]\n",
    "dash['wt'] = [word_tokenize(dash['Recipe_name'][i]) for i in dash.index]\n",
    "vegan['wt'] = [word_tokenize(vegan['Recipe_name'][i]) for i in vegan.index]\n",
    "keto['wt'] = [word_tokenize(keto['Recipe_name'][i]) for i in keto.index]\n",
    "paleo['wt'] = [word_tokenize(paleo['Recipe_name'][i]) for i in paleo.index]"
   ]
  },
  {
   "cell_type": "code",
   "execution_count": 139,
   "metadata": {},
   "outputs": [],
   "source": [
    "# Word Punctuation Tokenizer\n",
    "from nltk.tokenize import WordPunctTokenizer\n",
    "\n",
    "tokenizer = WordPunctTokenizer()\n",
    "\n",
    "# Split sentences into word (token) using Word Punct Tokenizer (here splits punctuations)\n",
    "med['wt2'] = [tokenizer.tokenize(med['Recipe_name'][i]) for i in med.index]\n",
    "dash['wt2'] = [tokenizer.tokenize(dash['Recipe_name'][i]) for i in dash.index]\n",
    "vegan['wt2'] = [tokenizer.tokenize(vegan['Recipe_name'][i]) for i in vegan.index]\n",
    "keto['wt2'] = [tokenizer.tokenize(keto['Recipe_name'][i]) for i in keto.index]\n",
    "paleo['wt2'] = [tokenizer.tokenize(paleo['Recipe_name'][i]) for i in paleo.index]"
   ]
  },
  {
   "cell_type": "code",
   "execution_count": 140,
   "metadata": {},
   "outputs": [],
   "source": [
    "from nltk.tokenize import RegexpTokenizer\n",
    "from nltk.tokenize import regexp_tokenize\n",
    "\n",
    "tokenizerRE = RegexpTokenizer(r'\\w+', gaps = False)"
   ]
  },
  {
   "cell_type": "code",
   "execution_count": 141,
   "metadata": {},
   "outputs": [
    {
     "data": {
      "text/html": [
       "<div>\n",
       "<style scoped>\n",
       "    .dataframe tbody tr th:only-of-type {\n",
       "        vertical-align: middle;\n",
       "    }\n",
       "\n",
       "    .dataframe tbody tr th {\n",
       "        vertical-align: top;\n",
       "    }\n",
       "\n",
       "    .dataframe thead th {\n",
       "        text-align: right;\n",
       "    }\n",
       "</style>\n",
       "<table border=\"1\" class=\"dataframe\">\n",
       "  <thead>\n",
       "    <tr style=\"text-align: right;\">\n",
       "      <th></th>\n",
       "      <th>index</th>\n",
       "      <th>Diet_type</th>\n",
       "      <th>Recipe_name</th>\n",
       "      <th>Cuisine_type</th>\n",
       "      <th>Fat(g)</th>\n",
       "      <th>wt</th>\n",
       "      <th>wt2</th>\n",
       "      <th>re</th>\n",
       "    </tr>\n",
       "  </thead>\n",
       "  <tbody>\n",
       "  </tbody>\n",
       "</table>\n",
       "</div>"
      ],
      "text/plain": [
       "Empty DataFrame\n",
       "Columns: [index, Diet_type, Recipe_name, Cuisine_type, Fat(g), wt, wt2, re]\n",
       "Index: []"
      ]
     },
     "execution_count": 141,
     "metadata": {},
     "output_type": "execute_result"
    }
   ],
   "source": [
    "# Apply regex for punctuations\n",
    "med['re'] = [tokenizerRE.tokenize(med['Recipe_name'][i]) for i in med.index]\n",
    "dash['re'] = [tokenizerRE.tokenize(dash['Recipe_name'][i]) for i in dash.index]\n",
    "vegan['re'] = [tokenizerRE.tokenize(vegan['Recipe_name'][i]) for i in vegan.index]\n",
    "keto['re'] = [tokenizerRE.tokenize(keto['Recipe_name'][i]) for i in keto.index]\n",
    "paleo['re'] = [tokenizerRE.tokenize(paleo['Recipe_name'][i]) for i in paleo.index]\n",
    "paleo"
   ]
  },
  {
   "cell_type": "code",
   "execution_count": 142,
   "metadata": {},
   "outputs": [
    {
     "name": "stderr",
     "output_type": "stream",
     "text": [
      "[nltk_data] Downloading package stopwords to /Users/ECU/nltk_data...\n",
      "[nltk_data]   Package stopwords is already up-to-date!\n"
     ]
    }
   ],
   "source": [
    "from nltk.corpus import stopwords\n",
    "nltk.download('stopwords')\n",
    "english_stops = set(stopwords.words('english'))"
   ]
  },
  {
   "cell_type": "code",
   "execution_count": 143,
   "metadata": {},
   "outputs": [
    {
     "data": {
      "text/plain": [
       "[]"
      ]
     },
     "execution_count": 143,
     "metadata": {},
     "output_type": "execute_result"
    }
   ],
   "source": [
    "# Apply stop word to column with regex applied\n",
    "med_words = [palavra.lower() for i in med.index for palavra in med['re'][i] if palavra not in english_stops]\n",
    "dash_words = [palavra.lower() for i in dash.index for palavra in dash['re'][i] if palavra not in english_stops]\n",
    "vegan_words = [palavra.lower() for i in vegan.index for palavra in vegan['re'][i] if palavra not in english_stops]\n",
    "keto_words = [palavra.lower() for i in keto.index for palavra in keto['re'][i] if palavra not in english_stops]\n",
    "paleo_words = [palavra.lower() for i in paleo.index for palavra in paleo['re'][i] if palavra not in english_stops]\n",
    "paleo_words"
   ]
  },
  {
   "cell_type": "code",
   "execution_count": 144,
   "metadata": {},
   "outputs": [],
   "source": [
    "from nltk.stem import PorterStemmer\n",
    "from nltk.stem import RegexpStemmer\n",
    "\n",
    "porter_stemmer = PorterStemmer()"
   ]
  },
  {
   "cell_type": "code",
   "execution_count": 145,
   "metadata": {},
   "outputs": [
    {
     "data": {
      "text/plain": [
       "[]"
      ]
     },
     "execution_count": 145,
     "metadata": {},
     "output_type": "execute_result"
    }
   ],
   "source": [
    "# Apply Stemming\n",
    "med_words = [porter_stemmer.stem(word) for word in med_words]\n",
    "dash_words = [porter_stemmer.stem(word) for word in dash_words]\n",
    "vegan_words = [porter_stemmer.stem(word) for word in vegan_words]\n",
    "keto_words = [porter_stemmer.stem(word) for word in keto_words]\n",
    "paleo_words = [porter_stemmer.stem(word) for word in paleo_words]\n",
    "keto_words"
   ]
  },
  {
   "cell_type": "code",
   "execution_count": 146,
   "metadata": {},
   "outputs": [],
   "source": [
    "# Word Cloud \n",
    "import wordcloud\n",
    "from wordcloud import WordCloud\n"
   ]
  },
  {
   "cell_type": "code",
   "execution_count": 147,
   "metadata": {},
   "outputs": [],
   "source": [
    "text_aux = [med_words, dash_words, vegan_words, keto_words, paleo_words]"
   ]
  },
  {
   "cell_type": "code",
   "execution_count": 148,
   "metadata": {},
   "outputs": [
    {
     "data": {
      "text/plain": [
       "'  vegan cassoulet pumpkin seed dip crispi bánh mì spring roll with creami chili mayo recip'"
      ]
     },
     "execution_count": 148,
     "metadata": {},
     "output_type": "execute_result"
    }
   ],
   "source": [
    "text = ' '\n",
    "for i in text_aux:\n",
    "    for j in i:\n",
    "        text = text + ' ' + ''.join(j)\n",
    "text"
   ]
  },
  {
   "cell_type": "code",
   "execution_count": 149,
   "metadata": {},
   "outputs": [
    {
     "data": {
      "text/plain": [
       "(-0.5, 399.5, 199.5, -0.5)"
      ]
     },
     "execution_count": 149,
     "metadata": {},
     "output_type": "execute_result"
    },
    {
     "data": {
      "image/png": "[encoded data removed]",
      "text/plain": [
       "<Figure size 640x480 with 1 Axes>"
      ]
     },
     "metadata": {},
     "output_type": "display_data"
    }
   ],
   "source": [
    "# Create and generate a word cloud image:\n",
    "wordcloud = WordCloud(max_font_size=50, max_words=100, background_color=\"white\").generate(text)\n",
    "\n",
    "# Display the generated image:\n",
    "plt.imshow(wordcloud, interpolation='bilinear')\n",
    "plt.axis(\"off\")"
   ]
  }
 ],
 "metadata": {
  "kernelspec": {
   "display_name": "Python 3",
   "language": "python",
   "name": "python3"
  },
  "language_info": {
   "codemirror_mode": {
    "name": "ipython",
    "version": 3
   },
   "file_extension": ".py",
   "mimetype": "text/x-python",
   "name": "python",
   "nbconvert_exporter": "python",
   "pygments_lexer": "ipython3",
   "version": "3.9.6"
  },
  "orig_nbformat": 4,
  "vscode": {
   "interpreter": {
    "hash": "31f2aee4e71d21fbe5cf8b01ff0e069b9275f58929596ceb00d14d90e3e16cd6"
   }
  }
 },
 "nbformat": 4,
 "nbformat_minor": 2
}
