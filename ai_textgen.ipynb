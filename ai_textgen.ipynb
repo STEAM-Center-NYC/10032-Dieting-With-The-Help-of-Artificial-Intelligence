{
 "cells": [
  {
   "cell_type": "code",
   "execution_count": 1,
   "metadata": {},
   "outputs": [
    {
     "name": "stderr",
     "output_type": "stream",
     "text": [
      "/Users/ECU/Library/Python/3.9/lib/python/site-packages/tqdm/auto.py:22: TqdmWarning: IProgress not found. Please update jupyter and ipywidgets. See https://ipywidgets.readthedocs.io/en/stable/user_install.html\n",
      "  from .autonotebook import tqdm as notebook_tqdm\n",
      "Generate config GenerationConfig {\n",
      "  \"bos_token_id\": 50256,\n",
      "  \"eos_token_id\": 50256,\n",
      "  \"transformers_version\": \"4.26.1\"\n",
      "}\n",
      "\n",
      "loading configuration file generation_config.json from cache at aitextgen/models--gpt2/snapshots/e7da7f221d5bf496a48136c0cd264e630fe9fcc8/generation_config.json\n",
      "Generate config GenerationConfig {\n",
      "  \"_from_model_config\": true,\n",
      "  \"bos_token_id\": 50256,\n",
      "  \"eos_token_id\": 50256,\n",
      "  \"transformers_version\": \"4.26.1\"\n",
      "}\n",
      "\n"
     ]
    }
   ],
   "source": [
    "from aitextgen import aitextgen\n",
    "ai = aitextgen(model='gpt2')"
   ]
  },
  {
   "cell_type": "code",
   "execution_count": 2,
   "metadata": {},
   "outputs": [
    {
     "name": "stderr",
     "output_type": "stream",
     "text": [
      "Generate config GenerationConfig {\n",
      "  \"bos_token_id\": 50256,\n",
      "  \"eos_token_id\": 50256,\n",
      "  \"transformers_version\": \"4.26.1\"\n",
      "}\n",
      "\n",
      "A decoder-only architecture is being used, but right-padding was detected! For correct generation results, please set `padding_side='left'` when initializing the tokenizer.\n"
     ]
    },
    {
     "name": "stdout",
     "output_type": "stream",
     "text": [
      "Featuring a whole new style of gameplay\n",
      "\n",
      "Over the past few weeks, we've been running a series of series highlighting some of the most popular and exciting indie game development experiences on the web. This week we're going to focus on one of them and give you a look at some key moments from the series.\n",
      "\n",
      "Take a look at the below video for a look at some of the key moments from our series.\n",
      "\n",
      "The 'Bag of Gold'\n",
      "\n",
      "In the last episode of the series, we talked about why we want to be a game that people will love. It's a big part of the appeal of the game, as it allows us to make a unique experience that is unique to our audience.\n",
      "\n",
      "Today we're going to talk a bit about why we want to make a game that people will love.\n",
      "\n",
      "We're going to go and explore the idea of 'the Bag of Gold'. As you can see, we use a lot of different concepts in our gameplay. So this is a game we've always wanted to make.\n",
      "\n",
      "We've made some good games, and we know how much we can learn from them. So what we're doing here is not just to tell people what we're doing,\n",
      "None\n"
     ]
    }
   ],
   "source": [
    "print(ai.generate(n=2,\n",
    "                  prompt= 'Indian government' ,\n",
    "                  max_length = 350,\n",
    "                  temperature = 0.7,\n",
    "                  do_sample = True,\n",
    "                  return_as_list = False,\n",
    "                  seed = 42\n",
    "                  ))"
   ]
  }
 ],
 "metadata": {
  "kernelspec": {
   "display_name": "Python 3",
   "language": "python",
   "name": "python3"
  },
  "language_info": {
   "codemirror_mode": {
    "name": "ipython",
    "version": 3
   },
   "file_extension": ".py",
   "mimetype": "text/x-python",
   "name": "python",
   "nbconvert_exporter": "python",
   "pygments_lexer": "ipython3",
   "version": "3.9.6"
  },
  "orig_nbformat": 4,
  "vscode": {
   "interpreter": {
    "hash": "31f2aee4e71d21fbe5cf8b01ff0e069b9275f58929596ceb00d14d90e3e16cd6"
   }
  }
 },
 "nbformat": 4,
 "nbformat_minor": 2
}
